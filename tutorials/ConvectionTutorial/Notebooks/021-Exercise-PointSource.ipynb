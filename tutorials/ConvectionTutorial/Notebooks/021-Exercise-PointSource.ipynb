{
 "cells": [
  {
   "cell_type": "code",
   "execution_count": null,
   "metadata": {
    "collapsed": true
   },
   "outputs": [],
   "source": [
    "import underworld as uw\n",
    "from underworld import function as fn\n",
    "import glucifer\n",
    "import numpy as np\n",
    "\n",
    "res = 32\n",
    "boxHeight = 1.0\n",
    "aspect_ratio = 0.5\n",
    "\n",
    "# A mesh to solve velocity and pressure\n",
    "\n",
    "VPmesh = uw.mesh.FeMesh_Cartesian( elementType = (\"Q2/dPc1\"), \n",
    "                                   elementRes  = (int(res * aspect_ratio), res), \n",
    "                                   minCoord    = (0., 0.), \n",
    "                                   maxCoord    = (boxHeight*aspect_ratio, boxHeight))\n",
    "\n",
    "velocityField    = uw.mesh.MeshVariable( mesh=VPmesh,         nodeDofCount=2 )\n",
    "pressureField    = uw.mesh.MeshVariable( mesh=VPmesh.subMesh, nodeDofCount=1 )\n",
    "\n",
    "velocityField.data[:,:] = 0.0\n",
    "pressureField.data[:] = 0.0\n",
    "\n",
    "\n",
    "# Boundary conditions - free slip:\n",
    "#    Vx on side walls (0) \n",
    "#    Vy on top / bottom (0)\n",
    "\n",
    "vxWalls = VPmesh.specialSets[\"MinI_VertexSet\"] + \\\n",
    "          VPmesh.specialSets[\"MaxI_VertexSet\"] \n",
    "\n",
    "vyWalls = VPmesh.specialSets[\"MinJ_VertexSet\"] + \\\n",
    "          VPmesh.specialSets[\"MaxJ_VertexSet\"]"
   ]
  },
  {
   "cell_type": "markdown",
   "metadata": {},
   "source": [
    "## Instructions !! \n",
    "\n",
    "Add an internal velocity contraint to these boundary conditions. One internal velocity\n",
    "specified in the mesh which shows how the flow is not localised around buoyancy sources or driving\n",
    "velocities. \n",
    "\n",
    "You might choose the middle node of the mesh \n",
    "\n",
    "```\n",
    "node = len(MyMesh.data)/2\n",
    "```\n",
    "\n",
    "But you will also need to know the method for adding a specified node to the set of \n",
    "indices in the existing collections (`vxWalls` or `vyWalls` ... though you might \n",
    "want to rename them now !).\n",
    "\n",
    "```\n",
    "vxCondition.add([node1, node2, ...] )\n",
    "vyCondition.add([node1, node2, ...] )\n",
    "\n",
    "```\n",
    "\n",
    "Don't forget to set the corresponding value in the velocity data structure.\n",
    "\n",
    "## Your wonderful code goes here:"
   ]
  },
  {
   "cell_type": "code",
   "execution_count": null,
   "metadata": {
    "collapsed": true
   },
   "outputs": [],
   "source": [
    " \n",
    "\n",
    "\n"
   ]
  },
  {
   "cell_type": "markdown",
   "metadata": {},
   "source": [
    "## Test it !"
   ]
  },
  {
   "cell_type": "code",
   "execution_count": null,
   "metadata": {
    "collapsed": false,
    "scrolled": true
   },
   "outputs": [],
   "source": [
    "# Now register this information\n",
    "\n",
    "velocityBC = uw.conditions.DirichletCondition( variable = velocityField, \n",
    "                                               indexSetsPerDof = (vxWalls, vyWalls) )\n",
    "\n",
    "\n",
    "# The equations are templated already \n",
    "\n",
    "stokesPIC = uw.systems.Stokes( velocityField  = velocityField, \n",
    "                               pressureField  = pressureField,\n",
    "                               conditions     = [velocityBC,],\n",
    "                               fn_viscosity   = 1.0, \n",
    "                               fn_bodyforce   = (0.0,0.0) )\n",
    "\n",
    "# And a suitable solver package is already attached to it\n",
    "\n",
    "solver = uw.systems.Solver( stokesPIC )\n",
    "\n",
    "# Solve and see if it worked \n",
    "\n",
    "solver.solve()\n",
    "\n",
    "fig2 = glucifer.Figure()\n",
    "fig2.append( glucifer.objects.VectorArrows( VPmesh, velocityField, arrowHead=0.2, scaling=0.1 ) )\n",
    "fig2.append( glucifer.objects.Surface( VPmesh, pressureField ) )\n",
    "fig2.show()"
   ]
  },
  {
   "cell_type": "markdown",
   "metadata": {},
   "source": [
    "## Solution\n",
    "\n",
    "Just in case, this is ~~the~~ a possible [answer](022-Exercise-PointSource-Solution.ipynb)"
   ]
  },
  {
   "cell_type": "code",
   "execution_count": null,
   "metadata": {
    "collapsed": true
   },
   "outputs": [],
   "source": []
  }
 ],
 "metadata": {
  "kernelspec": {
   "display_name": "Python 2",
   "language": "python",
   "name": "python2"
  },
  "language_info": {
   "codemirror_mode": {
    "name": "ipython",
    "version": 2
   },
   "file_extension": ".py",
   "mimetype": "text/x-python",
   "name": "python",
   "nbconvert_exporter": "python",
   "pygments_lexer": "ipython2",
   "version": "2.7.11"
  }
 },
 "nbformat": 4,
 "nbformat_minor": 0
}
