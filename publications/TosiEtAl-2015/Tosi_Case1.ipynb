{
 "cells": [
  {
   "cell_type": "markdown",
   "metadata": {
    "collapsed": true
   },
   "source": [
    "Viscoplastic thermal convection in a 2-D square box: Tosi et al. 2015\n",
    "=====\n",
    "\n",
    "This series of notebooks generates benchmark models from the Tosi et al. (2015) in Underworld2. The Underworld2 results are then directly compared to the results from Table 2 of Tosi et al. (2015) the paper for each case. The notebooks are broken into a general notebook for reproducing the models from scratch and 5 post-analysis notebooks which look at the results Underworld2 gives for each case after running to equilibrium. \n",
    "\n",
    "Case 1: Stagnant lid\n",
    "-------\n",
    "\n",
    "This case has a temperature-dependent linear rheology which results in a stagnant lid mode of convection. \n",
    "The parameters used for case 1 are: $Ra = 10^2$, $\\Delta \\eta_T = 10^5$ and $\\Delta \\eta_z = 1$.\n",
    "\n",
    "\n",
    "References\n",
    "-----\n",
    "\n",
    "1. Tosi, Nicola and Stein, Claudia and Noack, Lena and H&uuml;ttig, Christian and Maierov&aacute;, Petra and Samuel, Henri and Davies, DR and Wilson, CR and Kramer, SC and Thieulot, Cedric and others. 2015. _A community benchmark for viscoplastic thermal convection in a 2-D square box_.\n",
    "\n"
   ]
  },
  {
   "cell_type": "markdown",
   "metadata": {},
   "source": [
    "Load python functions needed for underworld. Some additional python functions from os, math and numpy used later on."
   ]
  },
  {
   "cell_type": "code",
   "execution_count": 1,
   "metadata": {
    "collapsed": false
   },
   "outputs": [],
   "source": [
    "%matplotlib inline\n",
    "import underworld as uw\n",
    "import math\n",
    "from underworld import function as fn\n",
    "import glucifer\n",
    "import matplotlib.pyplot as pyplot\n",
    "import matplotlib.pylab as pylab\n",
    "import time\n",
    "import numpy as np\n",
    "import os"
   ]
  },
  {
   "cell_type": "markdown",
   "metadata": {},
   "source": [
    "Set physical constants and parameters, including the Rayleigh number (*Ra*) and viscosity constants ($\\eta^*$ and $\\eta_T$) which are common to all Tosi et al cases."
   ]
  },
  {
   "cell_type": "code",
   "execution_count": 2,
   "metadata": {
    "collapsed": false
   },
   "outputs": [],
   "source": [
    "RA  = 1e2        # Rayleigh number\n",
    "ETA_T = 1e5      # common viscosity constant\n",
    "TS  = 0          # surface temperature\n",
    "TB  = 1          # bottom boundary temperature (melting point)\n",
    "ETA0 = 1e-3      # viscosity constant eta^* in Tosi et al\n",
    "TMAX = 3.0\n",
    "IMAX = 1000"
   ]
  },
  {
   "cell_type": "markdown",
   "metadata": {},
   "source": [
    "Select case 1 of Tosi et al (2015) and set constants as required."
   ]
  },
  {
   "cell_type": "code",
   "execution_count": 3,
   "metadata": {
    "collapsed": false
   },
   "outputs": [],
   "source": [
    "CASE = 1\n",
    "ETA_Y = 1.\n",
    "YSTRESS = 1."
   ]
  },
  {
   "cell_type": "markdown",
   "metadata": {},
   "source": [
    "Set input and output file directories"
   ]
  },
  {
   "cell_type": "code",
   "execution_count": 4,
   "metadata": {
    "collapsed": false
   },
   "outputs": [],
   "source": [
    "# input file directory\n",
    "inputPath  = 'TosiInput/case' + str(CASE) + \"/\"\n",
    "# output files\n",
    "outputPath = 'TosiOutput/'\n",
    "filePath   = outputPath+'files'\n",
    "# make directories if they don't exist\n",
    "if not os.path.isdir(outputPath):\n",
    "    os.makedirs(outputPath)\n",
    "if not os.path.isdir(filePath):\n",
    "    os.makedirs(filePath)"
   ]
  },
  {
   "cell_type": "markdown",
   "metadata": {},
   "source": [
    "Create mesh and finite element variables\n",
    "------\n",
    "\n",
    "Set up mesh and field variables that are solved on the mesh."
   ]
  },
  {
   "cell_type": "code",
   "execution_count": 5,
   "metadata": {
    "collapsed": false
   },
   "outputs": [],
   "source": [
    "res = 128\n",
    "mesh = uw.mesh.FeMesh_Cartesian( elementType = (\"Q1/dQ0\"), \n",
    "                                 elementRes  = (res, res), \n",
    "                                 minCoord    = (0., 0.), \n",
    "                                 maxCoord    = (1., 1.))\n",
    "\n",
    "velocityField       = uw.mesh.MeshVariable( mesh=mesh,         nodeDofCount=2 )\n",
    "pressureField       = uw.mesh.MeshVariable( mesh=mesh.subMesh, nodeDofCount=1 )\n",
    "temperatureField    = uw.mesh.MeshVariable( mesh=mesh,         nodeDofCount=1 )\n",
    "temperatureDotField = uw.mesh.MeshVariable( mesh=mesh,         nodeDofCount=1 )"
   ]
  },
  {
   "cell_type": "markdown",
   "metadata": {},
   "source": [
    "Set initial conditions and boundary conditions\n",
    "----------\n",
    "\n",
    "Load all variable fields and summary data with data from previously run cases."
   ]
  },
  {
   "cell_type": "code",
   "execution_count": 6,
   "metadata": {
    "collapsed": false
   },
   "outputs": [],
   "source": [
    "# load fields\n",
    "temperatureField.load(    inputPath+'temperatureField.h5' )\n",
    "temperatureDotField.load( inputPath+'temperatureDotField.h5' )\n",
    "pressureField.load(       inputPath+'pressureField.h5')\n",
    "velocityField.load(       inputPath+'velocityField.h5')\n",
    "\n",
    "# load past iterations of summary data\n",
    "data = np.loadtxt( inputPath+'Summary.txt', unpack=True )\n",
    "stepsVal = data[0].tolist()\n",
    "timeVal = data[1].tolist()\n",
    "viscdisVal = data[2].tolist()\n",
    "nu0Val = data[3].tolist()\n",
    "nu1Val = data[4].tolist()\n",
    "Avg_tempVal = data[5].tolist()\n",
    "vrmsVal = data[6].tolist()\n",
    "Rms_surfVal = data[7].tolist()\n",
    "Max_vx_surfVal = data[8].tolist()\n",
    "GravworkVal = data[9].tolist()\n",
    "etamaxVal = data[10].tolist()\n",
    "etaminVal = data[11].tolist() "
   ]
  },
  {
   "cell_type": "markdown",
   "metadata": {},
   "source": [
    "**Conditions on the boundaries**"
   ]
  },
  {
   "cell_type": "code",
   "execution_count": 7,
   "metadata": {
    "collapsed": true
   },
   "outputs": [],
   "source": [
    "iWalls = mesh.specialSets[\"MinI_VertexSet\"] + mesh.specialSets[\"MaxI_VertexSet\"]\n",
    "jWalls = mesh.specialSets[\"MinJ_VertexSet\"] + mesh.specialSets[\"MaxJ_VertexSet\"]\n",
    "freeslipBC = uw.conditions.DirichletCondition( variable      = velocityField, \n",
    "                                               indexSetsPerDof = (iWalls, jWalls) )\n",
    "tempBC     = uw.conditions.DirichletCondition( variable      = temperatureField, \n",
    "                                               indexSetsPerDof = (jWalls,) )"
   ]
  },
  {
   "cell_type": "markdown",
   "metadata": {
    "collapsed": false
   },
   "source": [
    "Set up material parameters and functions\n",
    "-----\n"
   ]
  },
  {
   "cell_type": "markdown",
   "metadata": {},
   "source": [
    "**Viscosity field**\n",
    "\n",
    "The viscosity is a function of temperature ($T$), the vertical coordinate ($z$) and the strain rate ($\\dot{\\epsilon}$) and is given by\n",
    "\n",
    "$$\n",
    "    \\eta(T, z, \\dot{\\epsilon}) = 2 \\left( \\frac{1}{\\eta_{lin}(T,z)} + \\frac{1}{\\eta_{plast}(\\dot{\\epsilon})} \\right)^{-1}\n",
    "$$\n",
    "\n",
    "where the linear part is\n",
    "\n",
    "$$\n",
    "    \\eta_{lin}(T, z) = \\exp(-\\gamma_T T + \\gamma_z z)\n",
    "$$\n",
    "\n",
    "with $\\gamma_T = \\ln(\\Delta \\eta_T)$ and $\\gamma_z = \\ln(\\Delta \\eta_z)$. The nonlinear part is\n",
    "\n",
    "$$\n",
    "    \\eta_{plast}(\\dot{\\epsilon}) = \\eta^* + \\frac{\\sigma_{\\gamma}}{\\sqrt{\\dot{\\epsilon} : \\dot{\\epsilon}}}\n",
    "$$\n",
    "\n",
    "where $\\eta^*$ is the effective viscosity at high stresses and $\\sigma_{\\gamma}$ is the yield stress. The values of $\\Delta \\eta_T$, $\\Delta \\eta_z$, $\\eta^*$ and $\\sigma_{\\gamma}$ are assumed to be constant with values dependent on the particular case."
   ]
  },
  {
   "cell_type": "markdown",
   "metadata": {},
   "source": [
    "**Create variables required for plasticity calculations**"
   ]
  },
  {
   "cell_type": "code",
   "execution_count": 8,
   "metadata": {
    "collapsed": false
   },
   "outputs": [],
   "source": [
    "secinv = fn.tensor.second_invariant( fn.tensor.symmetric( velocityField.fn_gradient ) )\n",
    "coordinate = fn.coord()"
   ]
  },
  {
   "cell_type": "markdown",
   "metadata": {},
   "source": [
    "**Setup viscosity functions**\n",
    "\n",
    "Remember to use floats everywhere when setting up functions"
   ]
  },
  {
   "cell_type": "code",
   "execution_count": 9,
   "metadata": {
    "collapsed": false
   },
   "outputs": [],
   "source": [
    "viscosityl1 = fn.math.exp(math.log(ETA_T)*-1.*temperatureField)\n",
    "viscosityl2 = fn.math.exp((math.log(ETA_T)*-1.*temperatureField) + (1.-coordinate[1])*math.log(ETA_Y))\n",
    "\n",
    "#Von Mises effective viscosity\n",
    "viscosityp = ETA0 + YSTRESS/(secinv/math.sqrt(0.5)) #extra factor to account for underworld second invariant form\n",
    "\n",
    "if CASE == 1:\n",
    "    fn_viscosity = viscosityl1\n",
    "elif CASE == 2:\n",
    "    fn_viscosity = 2./(1./viscosityl1 + 1./viscosityp)\n",
    "elif CASE == 3:\n",
    "    fn_viscosity = viscosityl2\n",
    "else:\n",
    "    fn_viscosity = 2./(1./viscosityl2 + 1./viscosityp)"
   ]
  },
  {
   "cell_type": "markdown",
   "metadata": {},
   "source": [
    "**Add functions for density and buoyancy**"
   ]
  },
  {
   "cell_type": "code",
   "execution_count": 10,
   "metadata": {
    "collapsed": true
   },
   "outputs": [],
   "source": [
    "densityFn = RA*temperatureField\n",
    "\n",
    "# define our vertical unit vector using a python tuple (this will be automatically converted to a function)\n",
    "z_hat = ( 0.0, 1.0 )\n",
    "\n",
    "# now create a buoyancy force vector using the density (FEvariable) and the vertical unit vector. \n",
    "buoyancyFn = densityFn * z_hat"
   ]
  },
  {
   "cell_type": "markdown",
   "metadata": {},
   "source": [
    "Build the Stokes system and solvers\n",
    "------\n",
    "\n",
    "Setup the Stokes system with linear or nonlinear visocity viscosity depending on case."
   ]
  },
  {
   "cell_type": "code",
   "execution_count": 11,
   "metadata": {
    "collapsed": false
   },
   "outputs": [],
   "source": [
    "stokes = uw.systems.Stokes(velocityField=velocityField, \n",
    "                              pressureField=pressureField,\n",
    "                              conditions=[freeslipBC,],\n",
    "                              fn_viscosity=fn.exception.SafeMaths(fn_viscosity), \n",
    "                              fn_bodyforce=buoyancyFn)"
   ]
  },
  {
   "cell_type": "markdown",
   "metadata": {},
   "source": [
    "Setup solver for the Stokes system of equations"
   ]
  },
  {
   "cell_type": "code",
   "execution_count": 12,
   "metadata": {
    "collapsed": false
   },
   "outputs": [],
   "source": [
    "solver = uw.systems.Solver( stokes )"
   ]
  },
  {
   "cell_type": "markdown",
   "metadata": {},
   "source": [
    "We do one solve for initial pressure and velocity with linear viscosity to get the initial strain rate invariant. This solve step also calculates a 'guess' of the the velocity field based on the linear system, which is used later in the non-linear solver."
   ]
  },
  {
   "cell_type": "code",
   "execution_count": 13,
   "metadata": {
    "collapsed": false
   },
   "outputs": [],
   "source": [
    "solver.solve( nonLinearIterate=False )"
   ]
  },
  {
   "cell_type": "markdown",
   "metadata": {},
   "source": [
    "Create an advective-diffusive system\n",
    "-----\n",
    "\n",
    "Setup the system in underworld by flagging the temperature and velocity field variables."
   ]
  },
  {
   "cell_type": "code",
   "execution_count": 14,
   "metadata": {
    "collapsed": false
   },
   "outputs": [],
   "source": [
    "advDiff = uw.systems.AdvectionDiffusion( temperatureField, temperatureDotField, velocityField,\n",
    "                                         fn_diffusivity=1., conditions=[tempBC,] )"
   ]
  },
  {
   "cell_type": "markdown",
   "metadata": {},
   "source": [
    "Metrics for benchmark\n",
    "-----\n",
    "\n",
    "Define diagnostic functions to be used in the time loop and/or measured after reaching steady state:\n",
    "\n",
    "* Average temperature\n",
    "$$  \\langle T \\rangle  = \\int^1_0 \\int^1_0 T \\, dxdy $$\n",
    "* Top and bottom Nusselt numbers\n",
    "$$Nu_{top/bot} = - \\left. \\int^1_0 \\frac{\\partial T}{\\partial y} \\right|_{y=1/y=0} \\, dx$$\n",
    "* RMS velocity over the whole domain, surface and max velocity at surface\n",
    "$$u_{RMS} = \\left( \\int_0^1 \\int_0^1 \\left( u_x^2 + u_y^2 \\right) dx dy \\right)^{1/2}$$\n",
    "$$u_{RMS}^{surf} = \\left( \\left. \\int_0^1 u_x^2\\right|_{y=1} dx \\right)^{1/2}$$\n",
    "$$u_{max}^{surf} = \\left. \\max(u_x)\\right|_{y=1}$$\n",
    "* max and min viscosity over the whole domain\n",
    "$$\\eta_{max/min} = \\max / \\min \\left( \\eta\\left(x,y\\right) \\right)$$\n",
    "* average rate of work done against gravity\n",
    "$$\\langle W \\rangle = \\int^1_0 \\int^1_0 T u_y \\, dx dy$$\n",
    "* and the average rate of viscous dissipation\n",
    "$$\\langle \\Phi \\rangle = \\int^1_0 \\int^1_0 \\tau_{ij} \\dot \\epsilon_{ij} \\, dx dy$$\n",
    "\n",
    "* In steady state, if thermal energy is accurately conserved, the difference between $\\langle W \\rangle$ and $\\langle \\Phi \\rangle / Ra$ must vanish, so also reported is the percentage error: \n",
    "\n",
    "$$ \\delta = \\frac{\\lvert \\langle W \\rangle - \\frac{\\langle \\Phi \\rangle}{Ra} \\rvert}{max \\left(  \\langle W \\rangle,  \\frac{\\langle \\Phi \\rangle}{Ra}\\right)} \\times 100% $$"
   ]
  },
  {
   "cell_type": "markdown",
   "metadata": {},
   "source": [
    "**Setup volume integrals used in metric functions**"
   ]
  },
  {
   "cell_type": "code",
   "execution_count": 15,
   "metadata": {
    "collapsed": false
   },
   "outputs": [],
   "source": [
    "# temperature\n",
    "tempint = uw.utils.Integral( temperatureField, mesh )\n",
    "# area\n",
    "areaint = uw.utils.Integral( 1.,               mesh )\n",
    "# velocity squared\n",
    "v2int   = uw.utils.Integral(fn.math.dot(velocityField,velocityField), mesh)\n",
    "# work done\n",
    "dwint   = uw.utils.Integral(temperatureField*velocityField[1], mesh)\n",
    "# viscous dissipation\n",
    "sinner = fn.math.dot(secinv,secinv)\n",
    "vdint = uw.utils.Integral((4.*fn_viscosity*sinner), mesh)"
   ]
  },
  {
   "cell_type": "markdown",
   "metadata": {},
   "source": [
    "**Setup surface integrals used in metric functions**"
   ]
  },
  {
   "cell_type": "code",
   "execution_count": 16,
   "metadata": {
    "collapsed": false
   },
   "outputs": [],
   "source": [
    "rmsSurfInt = uw.utils.Integral( fn=velocityField[0]*velocityField[0], mesh=mesh, integrationType='Surface', \n",
    "                          surfaceIndexSet=mesh.specialSets[\"MaxJ_VertexSet\"])\n",
    "nuTop      = uw.utils.Integral( fn=temperatureField.fn_gradient[1], mesh=mesh, integrationType='Surface', \n",
    "                          surfaceIndexSet=mesh.specialSets[\"MaxJ_VertexSet\"])\n",
    "nuBottom   = uw.utils.Integral( fn=temperatureField.fn_gradient[1], mesh=mesh, integrationType='Surface', \n",
    "                          surfaceIndexSet=mesh.specialSets[\"MinJ_VertexSet\"])"
   ]
  },
  {
   "cell_type": "markdown",
   "metadata": {},
   "source": [
    "**Define diagnostic functions using integrals**"
   ]
  },
  {
   "cell_type": "code",
   "execution_count": 17,
   "metadata": {
    "collapsed": false
   },
   "outputs": [],
   "source": [
    "def avg_temp():\n",
    "    return tempint.evaluate()[0]/areaint.evaluate()[0]\n",
    "\n",
    "def nusseltTB(temp_field, mesh):\n",
    "    return -nuTop.evaluate()[0], -nuBottom.evaluate()[0]\n",
    "\n",
    "def rms():\n",
    "    return math.sqrt(v2int.evaluate()[0]/areaint.evaluate()[0])\n",
    "\n",
    "def rms_surf():\n",
    "    return math.sqrt(rmsSurfInt.evaluate()[0])\n",
    "\n",
    "def max_vx_surf(velfield, mesh):\n",
    "    vuvelxfn = fn.view.min_max(velfield[0])\n",
    "    vuvelxfn.evaluate(mesh.specialSets[\"MaxJ_VertexSet\"])\n",
    "    return vuvelxfn.max_global()\n",
    "\n",
    "def gravwork(workfn):\n",
    "    return workfn.evaluate()[0]\n",
    "\n",
    "def viscdis(vdissfn):\n",
    "    return vdissfn.evaluate()[0]\n",
    "\n",
    "def visc_extr(viscfn):\n",
    "    vuviscfn = fn.view.min_max(viscfn)\n",
    "    vuviscfn.evaluate(mesh)\n",
    "    return vuviscfn.max_global(), vuviscfn.min_global()"
   ]
  },
  {
   "cell_type": "code",
   "execution_count": 18,
   "metadata": {
    "collapsed": false
   },
   "outputs": [],
   "source": [
    "#Fields for saving data / fields\n",
    "rmsField = uw.mesh.MeshVariable( mesh=mesh, nodeDofCount=1 )\n",
    "rmsfn    = fn.math.sqrt( fn.math.dot( velocityField, velocityField ) )\n",
    "rmsdata  = rmsfn.evaluate( mesh )\n",
    "rmsField.data[:] = rmsdata \n",
    "\n",
    "viscField = uw.mesh.MeshVariable( mesh=mesh, nodeDofCount=1 )\n",
    "viscdata  = fn_viscosity.evaluate( mesh )\n",
    "viscField.data[:] = viscdata\n",
    "\n",
    "stressField = uw.mesh.MeshVariable( mesh=mesh, nodeDofCount=1)\n",
    "srtdata     = fn.tensor.second_invariant( fn.tensor.symmetric( velocityField.fn_gradient ) )\n",
    "rostfield   = srtdata.evaluate( mesh )\n",
    "stressinv   = 2*viscdata*rostfield[:]\n",
    "stressField.data[:] = stressinv"
   ]
  },
  {
   "cell_type": "markdown",
   "metadata": {},
   "source": [
    "Main simulation loop\n",
    "------\n",
    "\n",
    "Normally a loop over time increments would be added here. As we are only interested in the post-analysis a single time step will be taken to ensure that all analysis fields are live. This step will involve the non-linear Stokes system solver."
   ]
  },
  {
   "cell_type": "code",
   "execution_count": 19,
   "metadata": {
    "collapsed": false
   },
   "outputs": [],
   "source": [
    "steps_todo = 1"
   ]
  },
  {
   "cell_type": "markdown",
   "metadata": {
    "collapsed": false
   },
   "source": [
    "Initialise steps and time. Set to zero unless loading values from file."
   ]
  },
  {
   "cell_type": "code",
   "execution_count": 20,
   "metadata": {
    "collapsed": false
   },
   "outputs": [
    {
     "name": "stdout",
     "output_type": "stream",
     "text": [
      "This model has previously completed 134500 steps to get to time = 0.414\n"
     ]
    }
   ],
   "source": [
    "try:\n",
    "    realtime = timeVal[-1]\n",
    "    step = int(stepsVal[-1])\n",
    "except:\n",
    "    realtime = 0.0\n",
    "    step = 0\n",
    "steps_end = step + steps_todo\n",
    "steps_output = 100\n",
    "steps_output = max(steps_output,1)\n",
    "print('This model has previously completed {0:6d} steps to get to time = {1:.3f}'.format(step,realtime))"
   ]
  },
  {
   "cell_type": "code",
   "execution_count": 21,
   "metadata": {
    "collapsed": false
   },
   "outputs": [],
   "source": [
    "# initialise timer for computation\n",
    "start = time.clock()\n",
    "# start loop\n",
    "while step < steps_end:\n",
    "    # Solve non-linear system\n",
    "    solver.solve(nonLinearIterate=True)\n",
    "    dt = advDiff.get_max_dt()\n",
    "    if step == 0:\n",
    "        dt = 0.\n",
    "    # Advect using this timestep size   \n",
    "    advDiff.integrate(dt)\n",
    "    # Increment\n",
    "    realtime += dt\n",
    "    step += 1\n",
    "    # Calculate the Metrics, only on 1 of the processors:\n",
    "    Avg_temp = avg_temp()\n",
    "    Rms = rms()\n",
    "    Rms_surf = rms_surf()\n",
    "    Max_vx_surf = max_vx_surf(velocityField, mesh)\n",
    "    Gravwork = gravwork(dwint)\n",
    "    Viscdis = viscdis(vdint)\n",
    "    nu1, nu0 = nusseltTB(temperatureField, mesh) # return top then bottom\n",
    "    etamax, etamin = visc_extr(fn_viscosity)\n",
    "    # store results\n",
    "    stepsVal.append(       step)\n",
    "    timeVal.append(        realtime )\n",
    "    viscdisVal.append(     Viscdis )\n",
    "    nu0Val.append(         nu0 )\n",
    "    nu1Val.append(         nu1 )\n",
    "    Avg_tempVal.append(    Avg_temp )\n",
    "    vrmsVal.append(        Rms )\n",
    "    Rms_surfVal.append(    Rms_surf )\n",
    "    Max_vx_surfVal.append( Max_vx_surf )\n",
    "    GravworkVal.append(    Gravwork )\n",
    "    etamaxVal.append(      etamax )\n",
    "    etaminVal.append(      etamin )\n",
    "\n",
    "    # output fields and summary info to file (output graphics can also be added here)\n",
    "    if uw.rank()==0:\n",
    "        if (step % steps_output == 0) or (step == steps_end-1):\n",
    "            print 'step =',step, '; CPU time =', time.clock()-start, '; vrms = ',Rms\n",
    "            # Temperature\n",
    "            fnametemp = \"temperatureField_\" + str(step).zfill(6) + \".h5\"\n",
    "            fullpath = os.path.join(outputPath + \"files/\" + fnametemp)\n",
    "            temperatureField.save(fullpath)\n",
    "            # Temperature time derivative\n",
    "            fnametemp = \"temperatureDotField_\" + str(step).zfill(6) + \".h5\"\n",
    "            fullpath = os.path.join(outputPath + \"files/\" + fnametemp)\n",
    "            temperatureDotField.save(fullpath)\n",
    "            # Pressure\n",
    "            fnametemp = \"pressureField_\" + str(step).zfill(6) + \".h5\"\n",
    "            fullpath = os.path.join(outputPath + \"files/\" + fnametemp)\n",
    "            pressureField.save(fullpath)\n",
    "            # Velocity\n",
    "            fnametemp = \"velocityField_\" + str(step).zfill(6) + \".h5\"\n",
    "            fullpath = os.path.join(outputPath + \"files/\" + fnametemp)\n",
    "            velocityField.save(fullpath)\n",
    "\n",
    "            np.savetxt( outputPath + 'Summary.txt', np.c_[stepsVal, timeVal, viscdisVal, nu0Val, \n",
    "                                                          nu1Val, Avg_tempVal, vrmsVal, Rms_surfVal,\n",
    "                                                         Max_vx_surfVal, GravworkVal, etamaxVal, etaminVal], \n",
    "                   header=\"Steps, Time, visc, Nusselt bottom/top, av_T, vrms, surf_rms, surf_max, grav, etamax, etamin\" )"
   ]
  },
  {
   "cell_type": "markdown",
   "metadata": {},
   "source": [
    "Post-simulation analysis\n",
    "-------\n",
    "\n",
    "Here we will calculate the quantities specified for this case in Tosi et al. (2015) and finally compare them to the values given in their Table 2."
   ]
  },
  {
   "cell_type": "markdown",
   "metadata": {},
   "source": [
    "**Plot final temperature and velocity fields**"
   ]
  },
  {
   "cell_type": "code",
   "execution_count": 22,
   "metadata": {
    "collapsed": false
   },
   "outputs": [
    {
     "data": {
      "text/html": [
       "<img src='data:image/png;base64,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'>"
      ],
      "text/plain": [
       "<IPython.core.display.HTML object>"
      ]
     },
     "metadata": {},
     "output_type": "display_data"
    }
   ],
   "source": [
    "velmax = np.amax(velocityField.data[:])\n",
    "if(velmax==0.0): velmax = 1.0\n",
    "fig1 = glucifer.Figure()\n",
    "fig1.append( glucifer.objects.Surface(mesh, temperatureField) )\n",
    "fig1.append( glucifer.objects.VectorArrows( mesh, velocityField/velmax, scaling=0.1, arrowHead=0.2) )\n",
    "fig1.show()"
   ]
  },
  {
   "cell_type": "markdown",
   "metadata": {},
   "source": [
    "**Calculate quantities for benchmark comparison**"
   ]
  },
  {
   "cell_type": "code",
   "execution_count": 23,
   "metadata": {
    "collapsed": true
   },
   "outputs": [],
   "source": [
    "tempAv = Avg_tempVal[-1]\n",
    "nuTop = nu1Val[-1]\n",
    "nuBot = nu0Val[-1]\n",
    "uRMS = vrmsVal[-1]\n",
    "uSurfRMS = Rms_surfVal[-1]\n",
    "uSurfMax = Max_vx_surfVal[-1]\n",
    "etaMin = etaminVal[-1]\n",
    "etaMax = etamaxVal[-1]\n",
    "workDone = GravworkVal[-1]\n",
    "phi = viscdisVal[-1]/100.\n",
    "delta = abs(workDone - phi)/max(workDone, phi) * 100."
   ]
  },
  {
   "cell_type": "markdown",
   "metadata": {},
   "source": [
    "**Output all quantities for this case**"
   ]
  },
  {
   "cell_type": "code",
   "execution_count": 24,
   "metadata": {
    "collapsed": false
   },
   "outputs": [
    {
     "name": "stdout",
     "output_type": "stream",
     "text": [
      "<T>        = 0.7737\n",
      "Nu_top     = 3.4086\n",
      "Nu_bot     = 3.4065\n",
      "u_rms      = 247.0577\n",
      "u^surf_rms = 1.8124\n",
      "u^surf_max = 2.5398\n",
      "W          = 2.4414\n",
      "Phi        = 2.4478\n",
      "delta      = 0.2631%\n"
     ]
    }
   ],
   "source": [
    "print('<T>        = {0:.4f}'.format(tempAv))\n",
    "print('Nu_top     = {0:.4f}'.format(nuTop))\n",
    "print('Nu_bot     = {0:.4f}'.format(nuBot))\n",
    "print('u_rms      = {0:.4f}'.format(uRMS))\n",
    "print('u^surf_rms = {0:.4f}'.format(uSurfRMS))\n",
    "print('u^surf_max = {0:.4f}'.format(uSurfMax))\n",
    "print('W          = {0:.4f}'.format(workDone))\n",
    "print('Phi        = {0:.4f}'.format(phi))\n",
    "print('delta      = {0:.4f}%'.format(delta))"
   ]
  },
  {
   "cell_type": "markdown",
   "metadata": {},
   "source": [
    "**Comparison values from Tosi et al. (2015)**\n",
    "\n",
    "The expected benchmark values from Table 2 of Tosi et al. (2015) for case 1 are given in the table below. The minimum and maximum values from each of the participating codes are given here to provide an expected range for each quantity.\n",
    "\n",
    "| Case 1  | $<$$T$$>$ | $Nu_{top}$ | $Nu_{bot}$ | $u_{RMS}$ | $u_{RMS}^{surf}$ | $u_{max}^{surf}$ | $<$$W$$>$ |  $<$$\\Phi$$>$/Ra | $\\delta$ |\n",
    "|:--------|:---------:|:----------:|:----------:|:---------:|:----------------:|:----------------:|:---------:|:------------------:|:--------:|\n",
    "| Min     | 0.7758 | 3.4091 | 3.4091 | 248.9252 | 1.8298 | 2.5516 | 2.3690 | 2.3920 | $<$0.01% |\n",
    "| Max     | 0.7768 | 3.4305 | 3.4259 | 252.0906 | 1.8999 | 2.6477 | 2.4583 | 2.4333 | 1.78% |\n",
    "\n",
    "Note that the values from the spectral code MC3D are not used to construct the min/max values here, as they are outlier values."
   ]
  }
 ],
 "metadata": {
  "kernelspec": {
   "display_name": "Python 2",
   "language": "python",
   "name": "python2"
  },
  "language_info": {
   "codemirror_mode": {
    "name": "ipython",
    "version": 2
   },
   "file_extension": ".py",
   "mimetype": "text/x-python",
   "name": "python",
   "nbconvert_exporter": "python",
   "pygments_lexer": "ipython2",
   "version": "2.7.10"
  }
 },
 "nbformat": 4,
 "nbformat_minor": 0
}
