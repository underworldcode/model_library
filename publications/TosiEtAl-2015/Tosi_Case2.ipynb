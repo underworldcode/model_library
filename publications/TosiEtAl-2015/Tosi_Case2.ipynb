{
 "cells": [
  {
   "cell_type": "markdown",
   "metadata": {
    "collapsed": true
   },
   "source": [
    "Viscoplastic thermal convection in a 2-D square box: Tosi et al. 2015\n",
    "=====\n",
    "\n",
    "This series of notebooks generates benchmark models from the Tosi et al. (2015) in Underworld2. The Underworld2 results are then directly compared to the results from Table 2 of Tosi et al. (2015) the paper for each case. The notebooks are broken into a general notebook for reproducing the models from scratch and 5 post-analysis notebooks which look at the results Underworld2 gives for each case after running to equilibrium. \n",
    "\n",
    "Case 2: Mobile lid\n",
    "-------\n",
    "\n",
    "This case has a temperature and strain rate-dependent nonlinear rheology which results in a stagnant lid mode of convection. \n",
    "The parameters used for case 4 are: $Ra = 10^2$, $\\Delta \\eta_T = 10^5$, $\\eta^* = 10^{-3}$, $\\Delta \\eta_z = 1$ and $\\sigma_\\gamma = 1$.\n",
    "\n",
    "\n",
    "References\n",
    "-----\n",
    "\n",
    "1. Tosi, Nicola and Stein, Claudia and Noack, Lena and H&uuml;ttig, Christian and Maierov&aacute;, Petra and Samuel, Henri and Davies, DR and Wilson, CR and Kramer, SC and Thieulot, Cedric and others. 2015. _A community benchmark for viscoplastic thermal convection in a 2-D square box_.\n",
    "\n"
   ]
  },
  {
   "cell_type": "markdown",
   "metadata": {},
   "source": [
    "Load python functions needed for underworld. Some additional python functions from os, math and numpy used later on."
   ]
  },
  {
   "cell_type": "code",
   "execution_count": 1,
   "metadata": {
    "collapsed": false
   },
   "outputs": [],
   "source": [
    "%matplotlib inline\n",
    "import underworld as uw\n",
    "import math\n",
    "from underworld import function as fn\n",
    "import glucifer\n",
    "import matplotlib.pyplot as pyplot\n",
    "import matplotlib.pylab as pylab\n",
    "import time\n",
    "import numpy as np\n",
    "import os"
   ]
  },
  {
   "cell_type": "markdown",
   "metadata": {},
   "source": [
    "Set physical constants and parameters, including the Rayleigh number (*Ra*) and viscosity constants ($\\eta^*$ and $\\eta_T$) which are common to all Tosi et al cases."
   ]
  },
  {
   "cell_type": "code",
   "execution_count": 2,
   "metadata": {
    "collapsed": false
   },
   "outputs": [],
   "source": [
    "RA  = 1e2        # Rayleigh number\n",
    "ETA_T = 1e5      # common viscosity constant\n",
    "TS  = 0          # surface temperature\n",
    "TB  = 1          # bottom boundary temperature (melting point)\n",
    "ETA0 = 1e-3      # viscosity constant eta^* in Tosi et al\n",
    "TMAX = 3.0\n",
    "IMAX = 1000"
   ]
  },
  {
   "cell_type": "markdown",
   "metadata": {},
   "source": [
    "Select case 2 of Tosi et al (2015) and set constants as required."
   ]
  },
  {
   "cell_type": "code",
   "execution_count": 3,
   "metadata": {
    "collapsed": false
   },
   "outputs": [],
   "source": [
    "CASE = 2\n",
    "ETA_Y = 1.\n",
    "YSTRESS = 1."
   ]
  },
  {
   "cell_type": "markdown",
   "metadata": {},
   "source": [
    "Set input and output file directories"
   ]
  },
  {
   "cell_type": "code",
   "execution_count": 4,
   "metadata": {
    "collapsed": false
   },
   "outputs": [],
   "source": [
    "# input file directory\n",
    "inputPath  = 'TosiInput/case' + str(CASE) + \"/\"\n",
    "# output files\n",
    "outputPath = 'TosiOutput/'\n",
    "filePath   = outputPath+'files'\n",
    "# make directories if they don't exist\n",
    "if not os.path.isdir(outputPath):\n",
    "    os.makedirs(outputPath)\n",
    "if not os.path.isdir(filePath):\n",
    "    os.makedirs(filePath)"
   ]
  },
  {
   "cell_type": "markdown",
   "metadata": {},
   "source": [
    "Create mesh and finite element variables\n",
    "------\n",
    "\n",
    "Set up mesh and field variables that are solved on the mesh."
   ]
  },
  {
   "cell_type": "code",
   "execution_count": 5,
   "metadata": {
    "collapsed": false
   },
   "outputs": [],
   "source": [
    "res = 128\n",
    "mesh = uw.mesh.FeMesh_Cartesian( elementType = (\"Q1/dQ0\"), \n",
    "                                 elementRes  = (res, res), \n",
    "                                 minCoord    = (0., 0.), \n",
    "                                 maxCoord    = (1., 1.))\n",
    "\n",
    "velocityField       = uw.mesh.MeshVariable( mesh=mesh,         nodeDofCount=2 )\n",
    "pressureField       = uw.mesh.MeshVariable( mesh=mesh.subMesh, nodeDofCount=1 )\n",
    "temperatureField    = uw.mesh.MeshVariable( mesh=mesh,         nodeDofCount=1 )\n",
    "temperatureDotField = uw.mesh.MeshVariable( mesh=mesh,         nodeDofCount=1 )"
   ]
  },
  {
   "cell_type": "markdown",
   "metadata": {},
   "source": [
    "Set initial conditions and boundary conditions\n",
    "----------\n",
    "\n",
    "Load all variable fields and summary data with data from previously run cases."
   ]
  },
  {
   "cell_type": "code",
   "execution_count": 6,
   "metadata": {
    "collapsed": false
   },
   "outputs": [],
   "source": [
    "# load fields\n",
    "temperatureField.load(    inputPath+'temperatureField.h5' )\n",
    "temperatureDotField.load( inputPath+'temperatureDotField.h5' )\n",
    "pressureField.load(       inputPath+'pressureField.h5')\n",
    "velocityField.load(       inputPath+'velocityField.h5')\n",
    "\n",
    "# load past iterations of summary data\n",
    "data = np.loadtxt( inputPath+'Summary.txt', unpack=True )\n",
    "stepsVal = data[0].tolist()\n",
    "timeVal = data[1].tolist()\n",
    "viscdisVal = data[2].tolist()\n",
    "nu0Val = data[3].tolist()\n",
    "nu1Val = data[4].tolist()\n",
    "Avg_tempVal = data[5].tolist()\n",
    "vrmsVal = data[6].tolist()\n",
    "Rms_surfVal = data[7].tolist()\n",
    "Max_vx_surfVal = data[8].tolist()\n",
    "GravworkVal = data[9].tolist()\n",
    "etamaxVal = data[10].tolist()\n",
    "etaminVal = data[11].tolist() "
   ]
  },
  {
   "cell_type": "markdown",
   "metadata": {},
   "source": [
    "**Conditions on the boundaries**"
   ]
  },
  {
   "cell_type": "code",
   "execution_count": 7,
   "metadata": {
    "collapsed": true
   },
   "outputs": [],
   "source": [
    "iWalls = mesh.specialSets[\"MinI_VertexSet\"] + mesh.specialSets[\"MaxI_VertexSet\"]\n",
    "jWalls = mesh.specialSets[\"MinJ_VertexSet\"] + mesh.specialSets[\"MaxJ_VertexSet\"]\n",
    "freeslipBC = uw.conditions.DirichletCondition( variable      = velocityField, \n",
    "                                               indexSetsPerDof = (iWalls, jWalls) )\n",
    "tempBC     = uw.conditions.DirichletCondition( variable      = temperatureField, \n",
    "                                               indexSetsPerDof = (jWalls,) )"
   ]
  },
  {
   "cell_type": "markdown",
   "metadata": {
    "collapsed": false
   },
   "source": [
    "Set up material parameters and functions\n",
    "-----\n"
   ]
  },
  {
   "cell_type": "markdown",
   "metadata": {},
   "source": [
    "**Viscosity field**\n",
    "\n",
    "The viscosity is a function of temperature ($T$), the vertical coordinate ($z$) and the strain rate ($\\dot{\\epsilon}$) and is given by\n",
    "\n",
    "$$\n",
    "    \\eta(T, z, \\dot{\\epsilon}) = 2 \\left( \\frac{1}{\\eta_{lin}(T,z)} + \\frac{1}{\\eta_{plast}(\\dot{\\epsilon})} \\right)^{-1}\n",
    "$$\n",
    "\n",
    "where the linear part is\n",
    "\n",
    "$$\n",
    "    \\eta_{lin}(T, z) = \\exp(-\\gamma_T T + \\gamma_z z)\n",
    "$$\n",
    "\n",
    "with $\\gamma_T = \\ln(\\Delta \\eta_T)$ and $\\gamma_z = \\ln(\\Delta \\eta_z)$. The nonlinear part is\n",
    "\n",
    "$$\n",
    "    \\eta_{plast}(\\dot{\\epsilon}) = \\eta^* + \\frac{\\sigma_{\\gamma}}{\\sqrt{\\dot{\\epsilon} : \\dot{\\epsilon}}}\n",
    "$$\n",
    "\n",
    "where $\\eta^*$ is the effective viscosity at high stresses and $\\sigma_{\\gamma}$ is the yield stress. The values of $\\Delta \\eta_T$, $\\Delta \\eta_z$, $\\eta^*$ and $\\sigma_{\\gamma}$ are assumed to be constant with values dependent on the particular case."
   ]
  },
  {
   "cell_type": "markdown",
   "metadata": {},
   "source": [
    "**Create variables required for plasticity calculations**"
   ]
  },
  {
   "cell_type": "code",
   "execution_count": 8,
   "metadata": {
    "collapsed": false
   },
   "outputs": [],
   "source": [
    "secinv = fn.tensor.second_invariant( fn.tensor.symmetric( velocityField.fn_gradient ) )\n",
    "coordinate = fn.coord()"
   ]
  },
  {
   "cell_type": "markdown",
   "metadata": {},
   "source": [
    "**Setup viscosity functions**\n",
    "\n",
    "Remember to use floats everywhere when setting up functions"
   ]
  },
  {
   "cell_type": "code",
   "execution_count": 9,
   "metadata": {
    "collapsed": false
   },
   "outputs": [],
   "source": [
    "viscosityl1 = fn.math.exp(math.log(ETA_T)*-1.*temperatureField)\n",
    "viscosityl2 = fn.math.exp((math.log(ETA_T)*-1.*temperatureField) + (1.-coordinate[1])*math.log(ETA_Y))\n",
    "\n",
    "#Von Mises effective viscosity\n",
    "viscosityp = ETA0 + YSTRESS/(secinv/math.sqrt(0.5)) #extra factor to account for underworld second invariant form\n",
    "\n",
    "if CASE == 1:\n",
    "    fn_viscosity = viscosityl1\n",
    "elif CASE == 2:\n",
    "    fn_viscosity = 2./(1./viscosityl1 + 1./viscosityp)\n",
    "elif CASE == 3:\n",
    "    fn_viscosity = viscosityl2\n",
    "else:\n",
    "    fn_viscosity = 2./(1./viscosityl2 + 1./viscosityp)"
   ]
  },
  {
   "cell_type": "markdown",
   "metadata": {},
   "source": [
    "**Add functions for density and buoyancy**"
   ]
  },
  {
   "cell_type": "code",
   "execution_count": 10,
   "metadata": {
    "collapsed": true
   },
   "outputs": [],
   "source": [
    "densityFn = RA*temperatureField\n",
    "\n",
    "# define our vertical unit vector using a python tuple (this will be automatically converted to a function)\n",
    "z_hat = ( 0.0, 1.0 )\n",
    "\n",
    "# now create a buoyancy force vector using the density (FEvariable) and the vertical unit vector. \n",
    "buoyancyFn = densityFn * z_hat"
   ]
  },
  {
   "cell_type": "markdown",
   "metadata": {},
   "source": [
    "Build the Stokes system and solvers\n",
    "------\n",
    "\n",
    "Setup the Stokes system with linear or nonlinear visocity viscosity depending on case."
   ]
  },
  {
   "cell_type": "code",
   "execution_count": 11,
   "metadata": {
    "collapsed": false
   },
   "outputs": [],
   "source": [
    "stokes = uw.systems.Stokes(velocityField=velocityField, \n",
    "                              pressureField=pressureField,\n",
    "                              conditions=[freeslipBC,],\n",
    "                              fn_viscosity=fn.exception.SafeMaths(fn_viscosity), \n",
    "                              fn_bodyforce=buoyancyFn)"
   ]
  },
  {
   "cell_type": "markdown",
   "metadata": {},
   "source": [
    "Setup solver for the Stokes system of equations"
   ]
  },
  {
   "cell_type": "code",
   "execution_count": 12,
   "metadata": {
    "collapsed": false
   },
   "outputs": [],
   "source": [
    "solver = uw.systems.Solver( stokes )"
   ]
  },
  {
   "cell_type": "markdown",
   "metadata": {},
   "source": [
    "We do one solve for initial pressure and velocity with linear viscosity to get the initial strain rate invariant. This solve step also calculates a 'guess' of the the velocity field based on the linear system, which is used later in the non-linear solver."
   ]
  },
  {
   "cell_type": "code",
   "execution_count": 13,
   "metadata": {
    "collapsed": false
   },
   "outputs": [],
   "source": [
    "solver.solve( nonLinearIterate=False )"
   ]
  },
  {
   "cell_type": "markdown",
   "metadata": {},
   "source": [
    "Create an advective-diffusive system\n",
    "-----\n",
    "\n",
    "Setup the system in underworld by flagging the temperature and velocity field variables."
   ]
  },
  {
   "cell_type": "code",
   "execution_count": 14,
   "metadata": {
    "collapsed": false
   },
   "outputs": [],
   "source": [
    "advDiff = uw.systems.AdvectionDiffusion( temperatureField, temperatureDotField, velocityField,\n",
    "                                         fn_diffusivity=1., conditions=[tempBC,] )"
   ]
  },
  {
   "cell_type": "markdown",
   "metadata": {},
   "source": [
    "Metrics for benchmark\n",
    "-----\n",
    "\n",
    "Define diagnostic functions to be used in the time loop and/or measured after reaching steady state:\n",
    "\n",
    "* Average temperature\n",
    "$$  \\langle T \\rangle  = \\int^1_0 \\int^1_0 T \\, dxdy $$\n",
    "* Top and bottom Nusselt numbers\n",
    "$$Nu_{top/bot} = - \\left. \\int^1_0 \\frac{\\partial T}{\\partial y} \\right|_{y=1/y=0} \\, dx$$\n",
    "* RMS velocity over the whole domain, surface and max velocity at surface\n",
    "$$u_{RMS} = \\left( \\int_0^1 \\int_0^1 \\left( u_x^2 + u_y^2 \\right) dx dy \\right)^{1/2}$$\n",
    "$$u_{RMS}^{surf} = \\left( \\left. \\int_0^1 u_x^2\\right|_{y=1} dx \\right)^{1/2}$$\n",
    "$$u_{max}^{surf} = \\left. \\max(u_x)\\right|_{y=1}$$\n",
    "* max and min viscosity over the whole domain\n",
    "$$\\eta_{max/min} = \\max / \\min \\left( \\eta\\left(x,y\\right) \\right)$$\n",
    "* average rate of work done against gravity\n",
    "$$\\langle W \\rangle = \\int^1_0 \\int^1_0 T u_y \\, dx dy$$\n",
    "* and the average rate of viscous dissipation\n",
    "$$\\langle \\Phi \\rangle = \\int^1_0 \\int^1_0 \\tau_{ij} \\dot \\epsilon_{ij} \\, dx dy$$\n",
    "\n",
    "* In steady state, if thermal energy is accurately conserved, the difference between $\\langle W \\rangle$ and $\\langle \\Phi \\rangle / Ra$ must vanish, so also reported is the percentage error: \n",
    "\n",
    "$$ \\delta = \\frac{\\lvert \\langle W \\rangle - \\frac{\\langle \\Phi \\rangle}{Ra} \\rvert}{max \\left(  \\langle W \\rangle,  \\frac{\\langle \\Phi \\rangle}{Ra}\\right)} \\times 100% $$"
   ]
  },
  {
   "cell_type": "markdown",
   "metadata": {},
   "source": [
    "**Setup volume integrals used in metric functions**"
   ]
  },
  {
   "cell_type": "code",
   "execution_count": 15,
   "metadata": {
    "collapsed": false
   },
   "outputs": [],
   "source": [
    "# temperature\n",
    "tempint = uw.utils.Integral( temperatureField, mesh )\n",
    "# area\n",
    "areaint = uw.utils.Integral( 1.,               mesh )\n",
    "# velocity squared\n",
    "v2int   = uw.utils.Integral(fn.math.dot(velocityField,velocityField), mesh)\n",
    "# work done\n",
    "dwint   = uw.utils.Integral(temperatureField*velocityField[1], mesh)\n",
    "# viscous dissipation\n",
    "sinner = fn.math.dot(secinv,secinv)\n",
    "vdint = uw.utils.Integral((4.*fn_viscosity*sinner), mesh)"
   ]
  },
  {
   "cell_type": "markdown",
   "metadata": {},
   "source": [
    "**Setup surface integrals used in metric functions**"
   ]
  },
  {
   "cell_type": "code",
   "execution_count": 16,
   "metadata": {
    "collapsed": false
   },
   "outputs": [],
   "source": [
    "rmsSurfInt = uw.utils.Integral( fn=velocityField[0]*velocityField[0], mesh=mesh, integrationType='Surface', \n",
    "                          surfaceIndexSet=mesh.specialSets[\"MaxJ_VertexSet\"])\n",
    "nuTop      = uw.utils.Integral( fn=temperatureField.fn_gradient[1], mesh=mesh, integrationType='Surface', \n",
    "                          surfaceIndexSet=mesh.specialSets[\"MaxJ_VertexSet\"])\n",
    "nuBottom   = uw.utils.Integral( fn=temperatureField.fn_gradient[1], mesh=mesh, integrationType='Surface', \n",
    "                          surfaceIndexSet=mesh.specialSets[\"MinJ_VertexSet\"])"
   ]
  },
  {
   "cell_type": "markdown",
   "metadata": {},
   "source": [
    "**Define diagnostic functions using integrals**"
   ]
  },
  {
   "cell_type": "code",
   "execution_count": 17,
   "metadata": {
    "collapsed": false
   },
   "outputs": [],
   "source": [
    "def avg_temp():\n",
    "    return tempint.evaluate()[0]/areaint.evaluate()[0]\n",
    "\n",
    "def nusseltTB(temp_field, mesh):\n",
    "    return -nuTop.evaluate()[0], -nuBottom.evaluate()[0]\n",
    "\n",
    "def rms():\n",
    "    return math.sqrt(v2int.evaluate()[0]/areaint.evaluate()[0])\n",
    "\n",
    "def rms_surf():\n",
    "    return math.sqrt(rmsSurfInt.evaluate()[0])\n",
    "\n",
    "def max_vx_surf(velfield, mesh):\n",
    "    vuvelxfn = fn.view.min_max(velfield[0])\n",
    "    vuvelxfn.evaluate(mesh.specialSets[\"MaxJ_VertexSet\"])\n",
    "    return vuvelxfn.max_global()\n",
    "\n",
    "def gravwork(workfn):\n",
    "    return workfn.evaluate()[0]\n",
    "\n",
    "def viscdis(vdissfn):\n",
    "    return vdissfn.evaluate()[0]\n",
    "\n",
    "def visc_extr(viscfn):\n",
    "    vuviscfn = fn.view.min_max(viscfn)\n",
    "    vuviscfn.evaluate(mesh)\n",
    "    return vuviscfn.max_global(), vuviscfn.min_global()"
   ]
  },
  {
   "cell_type": "code",
   "execution_count": 18,
   "metadata": {
    "collapsed": false
   },
   "outputs": [],
   "source": [
    "#Fields for saving data / fields\n",
    "rmsField = uw.mesh.MeshVariable( mesh=mesh, nodeDofCount=1 )\n",
    "rmsfn    = fn.math.sqrt( fn.math.dot( velocityField, velocityField ) )\n",
    "rmsdata  = rmsfn.evaluate( mesh )\n",
    "rmsField.data[:] = rmsdata \n",
    "\n",
    "viscField = uw.mesh.MeshVariable( mesh=mesh, nodeDofCount=1 )\n",
    "viscdata  = fn_viscosity.evaluate( mesh )\n",
    "viscField.data[:] = viscdata\n",
    "\n",
    "stressField = uw.mesh.MeshVariable( mesh=mesh, nodeDofCount=1)\n",
    "srtdata     = fn.tensor.second_invariant( fn.tensor.symmetric( velocityField.fn_gradient ) )\n",
    "rostfield   = srtdata.evaluate( mesh )\n",
    "stressinv   = 2*viscdata*rostfield[:]\n",
    "stressField.data[:] = stressinv"
   ]
  },
  {
   "cell_type": "markdown",
   "metadata": {},
   "source": [
    "Main simulation loop\n",
    "------\n",
    "\n",
    "Normally a loop over time increments would be added here. As we are only interested in the post-analysis a single time step will be taken to ensure that all analysis fields are live. This step will involve the non-linear Stokes system solver."
   ]
  },
  {
   "cell_type": "code",
   "execution_count": 19,
   "metadata": {
    "collapsed": false
   },
   "outputs": [],
   "source": [
    "steps_todo = 1"
   ]
  },
  {
   "cell_type": "markdown",
   "metadata": {
    "collapsed": false
   },
   "source": [
    "Initialise steps and time. Set to zero unless loading values from file."
   ]
  },
  {
   "cell_type": "code",
   "execution_count": 20,
   "metadata": {
    "collapsed": false
   },
   "outputs": [
    {
     "name": "stdout",
     "output_type": "stream",
     "text": [
      "This model has previously completed  43600 steps to get to time = 0.301\n"
     ]
    }
   ],
   "source": [
    "try:\n",
    "    realtime = timeVal[-1]\n",
    "    step = int(stepsVal[-1])\n",
    "except:\n",
    "    realtime = 0.0\n",
    "    step = 0\n",
    "steps_end = step + steps_todo\n",
    "steps_output = 100\n",
    "steps_output = max(steps_output,1)\n",
    "print('This model has previously completed {0:6d} steps to get to time = {1:.3f}'.format(step,realtime))"
   ]
  },
  {
   "cell_type": "code",
   "execution_count": 21,
   "metadata": {
    "collapsed": false
   },
   "outputs": [],
   "source": [
    "# initialise timer for computation\n",
    "start = time.clock()\n",
    "# start loop\n",
    "while step < steps_end:\n",
    "    # Solve non-linear system\n",
    "    solver.solve(nonLinearIterate=True)\n",
    "    dt = advDiff.get_max_dt()\n",
    "    if step == 0:\n",
    "        dt = 0.\n",
    "    # Advect using this timestep size   \n",
    "    advDiff.integrate(dt)\n",
    "    # Increment\n",
    "    realtime += dt\n",
    "    step += 1\n",
    "    # Calculate the Metrics, only on 1 of the processors:\n",
    "    Avg_temp = avg_temp()\n",
    "    Rms = rms()\n",
    "    Rms_surf = rms_surf()\n",
    "    Max_vx_surf = max_vx_surf(velocityField, mesh)\n",
    "    Gravwork = gravwork(dwint)\n",
    "    Viscdis = viscdis(vdint)\n",
    "    nu1, nu0 = nusseltTB(temperatureField, mesh) # return top then bottom\n",
    "    etamax, etamin = visc_extr(fn_viscosity)\n",
    "    # store results\n",
    "    stepsVal.append(       step)\n",
    "    timeVal.append(        realtime )\n",
    "    viscdisVal.append(     Viscdis )\n",
    "    nu0Val.append(         nu0 )\n",
    "    nu1Val.append(         nu1 )\n",
    "    Avg_tempVal.append(    Avg_temp )\n",
    "    vrmsVal.append(        Rms )\n",
    "    Rms_surfVal.append(    Rms_surf )\n",
    "    Max_vx_surfVal.append( Max_vx_surf )\n",
    "    GravworkVal.append(    Gravwork )\n",
    "    etamaxVal.append(      etamax )\n",
    "    etaminVal.append(      etamin )\n",
    "\n",
    "    # output fields and summary info to file (output graphics can also be added here)\n",
    "    if uw.rank()==0:\n",
    "        if (step % steps_output == 0) or (step == steps_end-1):\n",
    "            print 'step =',step, '; CPU time =', time.clock()-start, '; vrms = ',Rms\n",
    "            # Temperature\n",
    "            fnametemp = \"temperatureField_\" + str(step).zfill(6) + \".h5\"\n",
    "            fullpath = os.path.join(outputPath + \"files/\" + fnametemp)\n",
    "            temperatureField.save(fullpath)\n",
    "            # Temperature time derivative\n",
    "            fnametemp = \"temperatureDotField_\" + str(step).zfill(6) + \".h5\"\n",
    "            fullpath = os.path.join(outputPath + \"files/\" + fnametemp)\n",
    "            temperatureDotField.save(fullpath)\n",
    "            # Pressure\n",
    "            fnametemp = \"pressureField_\" + str(step).zfill(6) + \".h5\"\n",
    "            fullpath = os.path.join(outputPath + \"files/\" + fnametemp)\n",
    "            pressureField.save(fullpath)\n",
    "            # Velocity\n",
    "            fnametemp = \"velocityField_\" + str(step).zfill(6) + \".h5\"\n",
    "            fullpath = os.path.join(outputPath + \"files/\" + fnametemp)\n",
    "            velocityField.save(fullpath)\n",
    "\n",
    "            np.savetxt( outputPath + 'Summary.txt', np.c_[stepsVal, timeVal, viscdisVal, nu0Val, \n",
    "                                                          nu1Val, Avg_tempVal, vrmsVal, Rms_surfVal,\n",
    "                                                         Max_vx_surfVal, GravworkVal, etamaxVal, etaminVal], \n",
    "                   header=\"Steps, Time, visc, Nusselt bottom/top, av_T, vrms, surf_rms, surf_max, grav, etamax, etamin\" )"
   ]
  },
  {
   "cell_type": "markdown",
   "metadata": {},
   "source": [
    "Post-simulation analysis\n",
    "-------\n",
    "\n",
    "Here we will calculate the quantities specified for this case in Tosi et al. (2015) and finally compare them to the values given in their Table 2."
   ]
  },
  {
   "cell_type": "markdown",
   "metadata": {},
   "source": [
    "**Plot final temperature and velocity fields**"
   ]
  },
  {
   "cell_type": "code",
   "execution_count": 22,
   "metadata": {
    "collapsed": false
   },
   "outputs": [
    {
     "data": {
      "text/html": [
       "<img src='data:image/png;base64,iVBORw0KGgoAAAANSUhEUgAAAoAAAAHgCAIAAAC6s0uzAAAgAElEQVR4nOy9edh0SVEnGlFffePosIy7DzPPnRmdx2HfukE2QVaVtdVRaJXuQXFhQIHuBmSRpWkQEZpd0AGxaYFGZ5Qd2QZcGqUXWkBZvAzOdZRHrxuud+796q24f+QWkRmZJ0/VOVX1vl/8+u368uSJiMw6dU7+MiKXg0QEBoPBYDAYdovFvitgMBgMBsPZCCNgg8FgMBj2ACNgg8FgMBj2ACNgg8FgMBj2ACNgg8FgMBj2ACNgg8FgMBj2ACNgg8FgMBj2ACNgg8FgMBj2ACNgg8FgMBj2ACNgg8FgMBj2ACNgg8FgMBj2ACNgg8FgMBj2ACNgg8FgMBj2ACNgg8FgMBj2ACNgg8FgMBj2ACNgg8FgMBj2ACNgg8FgMBj2ACNgg8FgMBj2ACNgg8FgMBj2ACNgg8FgMBj2ACNgg8FgMBj2ACNgg8FgMBj2ACNgg8FgMBj2ACNgg8FgMBj2ACNgg8FgMBj2ACNgg8FgMBj2ACNgg8FgMBj2ACNgg8FgMBj2ACNgg8FgMBj2ACNgg8FgMBj2ACNgg8FgMBj2ACNgg8FgMBj2ACNgg8FgMBj2gOW+K3AygYj7roLBYDBMBiLadxVOIIyA58Ldf+7a2csQTwTq2VtaHa/Tqd4lVhEiAP59u7Q7ytvgi291qXNlnMDmqALn1z/MNnvKWvXZGlUiCQXMT40qgrqKljJYnvj0E2/fYcYwGkbAc+GmX3I0uc3aMzYme6RxeY7G0p7QHVNikKjIYE231k3vaoYKIU0LsxPjG7jGuWk4uPYTTGJ8GjsTV2lcwGkyAh71LUiXGbqTqda3ljyd2/GHiLWHqO7QshMWyJsZRsBz4aZfsuqUnM7x2sop1B9gpbAq+alNTPsQABuRLWrXsMGXSk3q1Y6SnbRKeUek/6oOltvDweNumGmDE+OttSQ3YkLNXWsa6upXjSp0pCRVo1PZnVM5pOyuSNSLSYUInFh2AxLqlpHpYo11K50Gw1QwAp4LN/3nXR7wtm2Brl93ECvHec96SEYpomZqoAisyfTZLJq2MSp5UT1XI2Q1ilZ1a3aKU91mx5GOzx263/pc8O52eVhmoyZe6wbUe59bE/CW3yJc9dwZ1dOkpik+ce5GTZweZEqiTfKSmIl3W1LlsvsR44cx8HwwAp4LN5nHA1Z60ClLaYNU42oLzrrSlQ67aPZaMpSdKponJoCqgDsWdpRGN3nPKt3KTKyUgmrFAEA1Lqun0VUni1cvTuFb9xFwq4jioHLLCUeoels2L0vjZq71rnp0m9YqLFE3V/tBe+T1Dlzz2lL6X7/Z8juW3/nSMrHMYNLnEKB/IMSDgzEj6iKCe3YQgDD96ph/D0wnDPPACHgu3GTMGHB/01PrNQcMTNngDXqpnoitVURsJvJuNZcoObjRN2+0OMygpHxita3TcFENJTbQoy6aTikvK5nkM1NlEZWzAwRcu86KWe240i3QOWygdL0avb3AWq26FBXtotyemtf7KHXhKtNXu1zprhPDJvLGY7cxKyZkYkaiLs1UkID8D4EYqdrNXSbmAYdPSnRLGQcz59o84JlhBDwXbvLPezzgjohfvR2ptx05zWTkobYCXLLqLwr5nKez9ppxGGYFadQVLoUsN9okpsmKy1sW3UjWVxA1qQYGpZE0YlYybtnbcCqK2YGriiXrKVdVaLW6XGWnoSIWq5XTmG6wykFlfTXJyulap6GZjTy7YWF7Ak53QvHU6DbyezUXEDcPEb8VqeiSRmEidDcjUbgrCQgpHLpUepAp2EgWABCQ3N3Go9n+61Hi4EjLhnlgBDwX+Czo5nPd4THU2t+KWOS8UiZnwZJUArGVrJars/aask9ullDPz6mOcSQJUxndavmgRoNL9XYNRZWYrlp6/YvwU6jn1y+7VK+ZrdRKk8mOa2LhJ9BUe2is8sUrtWjVqma2qdozaDJoqiUnbnx25zdUmYNLXfcYkfODMw7ObmPu/gb2jTyKRH4EiQjJ3doEhJi0fAW8Z4yRkim7WjYGvAsYAc+FG/0zJQRduZOrPcwmxbZl6qNN4R8lnRJIMh803ioVszYl4zzW1iiea2aTD3RlVJ0LQOJgtXVj6TTniymmfOXrCBrAogvS4GDRpuWBbv3ylrNYmz8TYUZSSlqaK3+a3HyNtMpRgAKsKqTJFH2FToLUzmlfS7l66iNTLXSoPuyS0uBsPnlLeHklDsQINaonfi1I17u/MdMLO+Z22i4EzYPPgW4dW6fr5Wvl8mX4heL1tF2F5oMR8Fy4cTEG3OxHNkN/lXYhZ0ShkjdGJQfzQFNBwIK0uJaQSaWz6Jk8G1oZ3QglAVYQ8cyYo8So+alcrGjRsnoW1pLzAVBUgNVQvWKUZRLkfaDyl1IojcoGGkLdNHV+xEy1SFSViveSxmFJVOX0zKxSn2CkclM3OZLVbcB+KdhH3kpgo6VCWX2bkwPE/UPlLUEiEaLHJCm2kPQ3GwIRBveXiFwCyY37+hXAnnojJbvgMwW/GZCQkM+plrckNq6JYXsYAc+FG33J0Zh7txIxBv1YZVaQzahyNqfPvMkuzWajpznxFDOhtKYHCxpzh8khkDQsT+Uk6utT2pQGhQVZZ8Upz/N1++Kbltet4OCiD1T8fOVYu5CR14rn93AnZYnyJ2a3iihW3naSYKqTxgsaJk1GmwSnyBVVLbI00q9cgabldP20p1V5HlMWiiuq/SjhxojdvnR546MRJQXFknKYbnsWdpafPgRNhGtXLAlv2KWBABGI8CP/+dy7vPo6CncPuXwXl47XztzfOWEEPBdu/M/WgzK3udkjPvmFq1y6Tr2iE6q1vD59x3/9cAD42J+8BUQbWrSYMjBb5rvDu/3b73Hpq//oVzLSLVSwNJs1Pff/xu+KdXjvZ/9bqUKqqXA6O0UA33Wb85y1X/nE26o1oZ5K+vxH3enBv3DtO1MbV7rj8hK1zf743R/48qvfU1Hhn5jnZzRJQIBP+ZYH/PSH3ysUpdlYYZahl/is+z7gOR98H1OhvMQGYcdB4vDxvG+939Pf+4FMBYRKSz0Te+G33/fJ7/5gXZ2ntJXubPLR5Q++DwA88Z3/vZQSlw5qpkSJL3/ovX/s7R9Szhc1idfhZ8/7lpj5I7/2G6yC8PPfea8f+tXfIJCDvpFiYzp9IhFddf49osHveuPVUgCInDfs/GBcoxv8RQLPxwUNAwDd7TXXfeRHz73rq6/zt33sjLl4tPhKhlmAtsX2HEDEz/3FL1XuXX9r//uv+b7P/d9vrFkQBNw4S/CNX/u9LvnZP3+TPKvP75XNt3BDb3uzR0Thj//pVUyeTSHhBMx0uad7l3/zPVmFHYvf49999299/leCOsZGBxIBA48SO4OcvCPe/elffeAtvvNdn/5Vgiy+nRzZbJAMAP7jbR9WmuJ40w1vJ/mVhY8uqe5R5z64be3nPvoukBHyWE/xuxA87m4PbJsCgJf+9q9HOxlhS4N4yT2/ddDaT334vUFN6aJxm8+4zwPapp7zwfeXnCoMQvrul97//m1rz3jfB6JmZjAz9VPfdr+2KQB4ynsEo6tPBAAA4M888D5tUxe/67+XPRunm/2a0bJLv+Kh9y6tPeatH3a3JWPcdMsxZkWCjIyBk/F3vvFqz74ARLBO8rgO8v4vkD3xfICrf/ROnoPZ98piM9c99hxjijlgBDwLEPELf31F7WRDsfgxWhsoFlqlD6RHQXnr4EvR8mUrn08hLghYDHwO5zNm4iSnCJNiJAaZSakJm/NJSYyVKzg7q2pWK+AtY1DXLmZukH9NXcVnNRTZoZzCkwlwGUHP4Z8sJycPhcWVgHkotzrhvMwXObU9T2qkSPmT0qHC/9VDAnrli2JqM84q37Q2uY/f3kqPk9+fFO/bnCxTzhoSm66zU5RUAg1jkI/0LKhXsnt5k6db7loj4HlgIei58KWnGhtxoJqMoPZpzPO1J6O15044FC5ya9STabGGButaCqNTpkLCsmiVuIVoh4QFxwQkGjhptiFW5+BYtPjKQTLnRcFtchqaSPONESQXsh5w5SLHCrCWn19nccjZITJozg3SSBTXmDivbTAcLGenSB4Xp6jKarpWHJ0sTlUdWX7K/ZtPkqopUp6iSEIgv1q7GsVvF39ZEnev5zziRBufBcaRkR1pTbAgIHTUSwtHqGHWFaLn2jUAIq1dIJlg7QLRqQPtA9Hr+AXcrtBpRDvEn4NZw3wwAp4LX7rsI+BKRlOsxspQtIkKDWcsUl8plKkMzF0qVBRCUuiNR4wFEQZ1ytRTtz2mozorMXgbBKrnEXL0SsrSEfx2QuXX5+pUyQemXk5Vi0yn83cQ8WSQ00CgQvkri+Ahd1zy3y5BRMJKOsyoJdxmFRWdTZFXOK9zRSU716Ei4jqtSoKeDgoojkp1dh2imPzheGzZlxInQjMOTnepn70cc+SpNcDC8ystCIhgjbggWIdZV0hE4Ed/1+QW+NIaEIHWgaQBvRsNQAtOw+DOhXAM2SLgHcEIeC6cWg/uhIWNow4ZFIek5KsORxFalO11JgzgmxLWGFJwwRPfQMxnvIXMIIGbk8lykOWLspIFzosFN2eBaJHgpEtKkxcSqqfOdvWT/F2wL+O/jnzS8sHXMG/BcxpmZmNV+Tdlv1dJBkA8bpzLh+xsGxDiAhkHE5R3F1XSvMo9G7zwZLjzcnm9iCyfBvzXAV1WdKZL/ANJ6qg/IuNgcR/GkE/JuCyeDITR96UFwToxrp/PvAZCgHVweRFo7R+3dMutARdEa4QFIEGkYSRyM6iJ4guS3DZZ6RoY5oIR8Gz4/84MSWD2b1WsFCii0MwOso/knpbjaW7JQWxcMO1B5/e6C08gZynWGqYptNmgIG8xQ4PrRBaYVOIueoCwgEyFmC6jUsGOFHlLCPgvx5o8LGUCGRBvECFjXwgBbdaeMpdapUx9z17g7CuNJwN5q51NwyaeD418TpaJ2yhUC2W+5Mjw0xZMI+omyo+/fsFSGtURHyNIp1psSlB8NV6xXFF0OySPpnxNsWKE52tOcIqry5uBUneTcW28/RL7Ki4vrMnbXxMuiHwOxGiy+8/RMDiPldA7wc7lRYK114iVJH/rIq0BFwSEXoZ9UdaJRtaDNswDI+DZcKabgOsZIjc/O0TMKIQ0JvYb0cUjFn9Cf046u4Jr83h4aFWFiq9EGk1aBLZwYqmFFOrE1YVb7MN0ACz+7Ik5pkEEjdWJpgBElPKTHxntx0FoYir+CkW25qzJYsVQDDATrwwjZsl5goNVd1n0DyCdyvM1DsZYkYxNpbXkNoFQjwVlWowTOWGzn7OwJgPRpIll1cqNdIwls4sMsebpa8qyNAs1cs0s+F2Y2VUNRVM24MIpFgoCXmuHPtpMsMD4iQuiNbnuNaH3hmFNhOCX/6KPMyMirSn2F13vENcECyTyCSCgddwHy4WhwxgwgHnA88IIeDYMEzA0R3O1Y+zIzzm4Pm6M/rR/zpISJsVMm5Mrci3UqsQyMZIuAAYyTjmyrMjHvksgPYmUFm5u1qjFfMapgf8UycJjZgRIVVPEK5apl6eizx1Lh3jxq9FskPnRLGOsSn7+mag3N5tMASd+2XUTDnfeqyvEUoWyVjy/JpoYyxdFcLO8hrpKVkpUIamSW85OEf8VYkWL70LajyU4mP/ujfjzmieck0qwIHBjwGsKkSoKh+SHbiMfo9uFAxCQwvQ94Qe7Kq2RFoBrAkBYAIXxYMDwXQINg2E+GAHPhhYB13uVPRRbPYW5ulqOmNeIIJlXyCTJ/BT/nyUkT0tCFfkk86FMODEEYEPOyJo2t9OeD5JFvxb9a8lD8CzwXPQvxa70UPIiiLB2bNA53Qb/ODnQzA4QlPkQ+hCeKjOyB0UltpgtU6GCShHxlGSOMNU185Vz3072IfJ8zuU5TWbMGjhSeu3i4sdaJe7nMqx0foTs8rTk+UVLl0G3CakHIFiWeCZJGbXbke6u4ud2d1rOwQUB+wnPjHfd0C8GMnbxZiREojUhEqBziwkRCMF/hgizd+XXQAtAAB+C5hwMRAv048HgI9nALolhFhgBz4ZVYxJWDwEXMsPcXBCwYqbwa3X1wI6qZO6/snPJl5UJxdmVBMxzuCSgH6vO6+c7+RCaztBmphivc7tTfmBl98JU32g6b1vEeINBFjwE324i+EaTPJ2DO+csE6PhrFEm2Q+IPQMxJpoVx+Whbsqf8myErD7pM2QGR7PuAfMihJH0f9MjzDnJ2at6zIxDlfd/8Brm6mpmJpwMEuNg5VvzavP8MlMEnPOfuAjVJOoVn+6arCFu4OxPJd51U6sIFm7+c4w8h3nOPpoc/nzAGeKYbv4ZqBfWQAi4cBOkCUBycFiSFNLsOxrmgBHwXMAqAQ91KVH8U9ErCRirYtWcwXSa/ywEFM+4SCRvuMLWuZOtcXP4RKZCqRa+yQ6D10mFsUIiYAib13uxGIzESFoYeI1N9QJgXMsDyHJ5UuBL5kzHxisSvPRoa24rRZIjaYeTnzAFgeRKlYyq+bcQxUGWE4por30KVzBnLNkJCJVFLhBlotkoUxOTBquFKsb9v3mvJWOXQGpF/fMc4l2KMr9GvVD4vj7OHAIq/pBgHch4TbAgXBP4GVbuzzEoIgYnOLrC3vRa52AERAKvC5F6dQ72X8Y84DlhBDwbVo11wBEqa1ZkGmKYyWhy2Yr6kvm0tHt2pUdbErD0YnOxYkS56gRnbrTyiUKAGY0czOWJDSfnNcm/Mi34qcCsyZ2l3N9Ns5rZFgeRhhmDhZh27ubqZn3aq3D5JKWvyabKku6GSuJadyEyZg1fQu5pOqSefZeWKSjN+tqKU4opp5AvatKZlV2KyncUlQTu+mcsXrna/FLwZXIg6TZjX4oDvSG98I4vLQDWiX39nhuccd0ypOgByz+/aAko52AAAsQ1ABIt0FMy1DlYdEkMM8AIeDa0QtDQRatdMnX6rMmADOXq6aSCADQ4uJuVUhPj+dVhZi0QzT4x529JzxnrcwHiFS5KB2EKfMMaEo7IY9SawjAz+YvjW2G53Ch9QiT1fNV1DB0LaozMHfc5aQa0h/JDJ8B9HU4q0jOGptmaLlPP50jHQ6WGXDc3K1gQ2DWRKpJQNVOsetGMEoFXZPKLoHzxxLK1fHW4l3+G3SV98Dmk47TnNZtshY6Yw5/jWgRCRFwTYngp0pqAU2j2if7argnQBbfDhQxkLDk4+xkMk8IIeDYcTboTVo2AM2atSY4mYG4KEeK81zKSzIrMCDgmhAw3UuHg0vdVM1Wab3+2TOXk7TcTAkTwU09DFyC00KHJorBzUKRhgDQRzLV6IQqNYSGWBw9us+Y+smCkYi/M0izWLU6lcdVA55HMhIowmzJFhJnFhIW3C2Vtk1KZrzJ6ugKZcup+FDI8M1riHMxkkIlxgUTfZceCVaEM3eeUHD+zTEbA9VlXnHcD17pY9CJwMKJkX4Kj8BLguH2GTy/iUj8KqwtjP1GQKmKapbUAXBNhGOv1uhkHiwtpmBhGwLPhaPh1hAko/qmc1WTKU6UpVb0kxbImLI1lfjbfClhmzE9MXMhonJcpUlWmIOAe9q1xsGKQczDGwikMiqddvgjcXBY/hAw+G5iIT/PF0MiYCdn0rkQVBGwkWx1lhNCOQ+F+FWn3L0pTgu2yeVLMSGcIuhiRDY5s0RuQYuHLCrotZIBPcaqIETsda5UzKKt/dq0K4+lLVXotGgeTSMj4s9jfKhIwpanOSEAuB8NiXzfzOS06WsORn3IFAMDnOafPRRoDJkz5ZTg5cDyt4z1NGQcX18UwKYyAZ0PLA9ZQix5DnYCr+UMkDW0CrpgqR5qxLVOQZUu35FfmeUcOVs2WHYIeDs5N6Z8IIQLvaTSd8uRKEH0I329g39O7I6H6BFo/AIDYSG1owb05OTYMsV3k7Ouz9eHkmJYzrlmrKsxClaJyhsudWkHhen6VZUn1caVjStylrpGo1GKlk9BilRdma5bVypccLNKMa4EzLgCRG8ZNBCwjz2GrjTDQu/AxZ3T7V7G5VxAnYQHbTQMi7zJvOI6DxEVKiGFSIoahFMw4GACyBsQwJYyAZ8N6jAfMsWMmzsR60vGwn4DFKe62NsjVNQ1Ama4mJjm441OtZI2DK0WkNdQUMomJkVZibjySNToCda4S+DHmMGKae2CuSUfe3LMzGg0HycC2mAyKU+o7ISgbulZpqXRkg7w+7KqYApE/WEMuX5otbeYyw2ZrFwTiHHiI1zlYpjYBgx/65Y7vIrzpaE1hx2bm9a4J13K289Ha9wUxbMEBEKLQ65BeeyZOm2/4TwiU7D/WLrc2D0tcL8PEMAKeDZMTMGZPQo1cewiY20I5J2YkH0d/jhtHKSZiyFIGeb4mzP1gzUtmn1Im/6x3CIoS9U9RUOFSK7H34uvHSpYXJG79KV5Ew6+L+8E4ccpZuF4DE9F4i4G/Q1lNIsy5NpBHaLv5qZp6rEyZX6HhrOjCrF6EZkSqVHoMer5M8FO5v5ulQ7XiYUnA8XMRCHhNsIDk7DrGTPtsuN4ZEnqu9X8AAOBep+B2m4w/t6fNyLiEuPCf/tssCAn8plcIIMeDvRm0MeDdwgh4NsxBwOKg6JdiIVeaUmXKHu5WHFynolJMEFU6znSRG0zyqOhqNExlTcrQd4OkdYZmuuXVUM/mXzzvqaQpqgDot0mA2DyGc7y7lK/DgbR0GwGCo4tRJpYnAs7RQpjS1JhHHeURkoqgIl4faZbzVrmnNCiDwewEK24aDpb1yZm45NowJiCINl2B+L3C6nB97pXfZEPsLun8YEQKU678HxHgQiz2BXKUjAAAjlHdcqNIxuimfeHC3T5hXfsCgMKWk4ssEE20cPtQevq2MeDdwQh4Nqybt22jU0kVRcGmXAblv5TkVVMIoniV7weDz1ma2yzTJQfnugXJ5byoKrZpOOU7MlMoNu8WNKZhlzJZJcdUT78yrqZAYTd8T8qeOZG43fQjBB7VrlIiXRQcrrqSw/wkiDDwdM7BsQtREJswq4/OuhHZUh1AsnsxSi0kwz+ZTGkqnGLbeqslkrDg04GMM983snVYr+sPY/CZO8FrDOzrJj8DIMbIs89HgugHA7hhYIA1xs4AeuaEwLi+I0dAC/RerztF4N6thOH1Y17GLQj2rrGNAe8QRsCzoe0Bj72na2ya2eJmq540skamLbZpmh8KV6/GVRUZkZOplPTWokBMRFao5yX2yFRqMrqG/BBDOUVNfG4clqtd9vDLopaIvIYxxUgUOEXJSdHVuHGavtRS19xK1fKgOuPgYuYUp+ce2q51MjR1TqulSpWA2ecaceHI2LEnJSeYD/f6yc8A6H4x5wqvERfe/QXv/pJ3ade+g0Z+0Nf/4u4thQRISAsA9ysvXFcgrINLK5HEqiQIvq+NAe8CRsCzocqX7uxIDvZBoyFb3GxNJcsnko24Jkbx2e5Lc7O+nw2+Y06MEuIlcjyhEzAydZAqFXorCTv5wXFCckmrZW9AeuFcTO0xpKvYMZxcK1Golxek0i8ZLD0r0R0kPydxcqwRsQpp9IaQXEeg0D0I+i5mzayGpryDgEumT+gi1KhCxci3VNfzHa0COLcQvDvrxbg8sWpQuByBdEV6ARScYLdq1y03cpOccYH+hQpi8nN8rUJcKQzoSTv2tBbujb5EAOCWwyEtAKPbTWFbSTd7ehG4eeHfoRSK8JvUxNgL4+D42xlmgBHwbGgT8EYW45rUthQTqKnI/Iw7M2uq2Ki0NxLY1zXsnEopNumy5Vd4Lp4illkfaZZerK9LSbHZ189Zlh1mZxVrPFGwYI0UFfaVXKtXQH7Z6hevXJzgIGMmGeRYnwj45WbMFXdJo5SVCfJBa0bSGZOBfGJkXJrly+KrhBoqF0WK4twt6pXKHoAwGF3bQGzxi7hQs1dJL8gKS37doC369CKm3XSp+FoFAmQ9IZTU6M64weAQs4ZAkgALJP8eQaLwc7hos/8EAkI/AEyIYZ/KBQAB/PL59/juN12N6eZjjzyFTTrMA54NRsBzAWsh6NjQEZz6tiuOfv3CmgEtL05nKWyF5PIBr1+97wfYed5aMhVk+ZwvSxknxl3bTGUEDZPvZ0NdAFRuiwmUMiRkco7BnKcZF0v7GU3KHJlPmTpALqlUqZQpqbHegRiqUiFTKVpeinAUfmbkyu7iYeApocCOkdFWuNtQaiS3Gvlx+sxD3IFaahxc4+zMlLSQqZTp3AUHZZoVeKL1NYwlcvnk+xIQ+SCwCx77Xa4QKK70Za9VWPjlRoBUTrxCBHrkHR96xfXviBwc1hf5lyVR8IAJYIFheparMGdfCBOkARfOc2ZM71a1U3xo3Ei/1hQZJoER8GyoecC8aWqIVXQ9f5W2CABh+a2/uHrvfwI/isQ6s2Xx/FTuAXuZ5X1f645XH3x0NcKcqTfTy3u+GgBWv/WffX7pBEPGxNINk4S3vPPlq2ueWCHpYCoeCW5jZqujs5V8gDClq8KjSoy6y2xRwzqPttRrX7wsIkr4CH1eW88qyM5gIlwKl5GfSmkQd1hi3hSpLgk4HkJxShBwlt+Q56dEiWzWVcMUc3PTJydmTsYUNwz3/u4tv+78T37hqnAKF0Rh/rP3g8NrFdwLjvxTl4WFPS8uCAjfdMPbv/cOD+EcHDtAhEgLojWQvzm9N+xmRDtXGH1XAN2C4UVoSRDBLVXyrQaFxUgA4N+JZAw8F4yAZ0ONWXmrJcSyu7yqzpwOYWv5bVesfv3CSULfy/u/DgBW7//BUMhIm4yel/d6DT+z+s3HpPasRuciDWFkipZ3eUVezzu/BABWH31C8nddn94dcnUiAFze8YWDdV998qkAA1SHAIR4+uaXtk2d+dylQyTqG7fT/+ZpgxU786cvHKyY+/f01140bO2vXi51U2V4xQDg9E0fO2DqH16TBhoARDo7RDz9JY9uW/vf//sX0oiEss4KwDMH3ehLH0xsFuoAACAASURBVNU2BQBf/McrnL7g4NjBYJOZv+bGF7RN/cnfXAmOcf1+KVkaPPui930/8+dvvvnXPiKqf+ILVy2cH4wUt4V0PUG3JDfbbSNt+BxmRsHCc/AvXveO6J960vQxZ+8Bu9AxotvuKsy7Rv9s8RXA4TqzkeA4H5pCL6vWFhm2BtIU7bUhAyIeveuRbZlTD7ry6N0DMs6YmsvjQstvfwMArN5zYUUJK/nKqeUDXg8Aq/f/QEMmpDGXCRnL+/yXeGL1oR/Ohcekl/d4VTL1kcdxB3F515evfufHk7Du6cYjVBLM51ve/oWrjz8l/y5NN5fUUwCAePo/POfMHz67KJEVKglYlpvX8PT/8dQz/+sFSQxLO2WaG2cV+5onnvmLl/Cc4qtllZHVlqdO3/SxZ/72Z4dqUknHKESgwC/50h/6f/+f17oDioUy/5jXgRFq7K4FUwQ3+rJH/cM/vT6ySKGS/F3h43oPMNlz6a+5yQV/9ndXgpzk7AyKNJv5DIRs10lYA9zy686Ptb/hT64iQDcPK+x15dcdEcGa8Chl4hHheg1HhGuCozUeEXzfHR4KAK+79p1Ha1wTHBEerdGdOlrjEeHROmSmtM8JRrzieg2/9PBvfsSbfzsWR3HFFFur/c4L72pMMQeMgGcBIh698/ubEnDqQb909K5Spi/aw6ROPfDKo3cXnfcuAk4HBLD8tl8EgNV7/xOARq6luipTE5At78Z8zAOndYE+GsZSl2sxmWqcufKlylg0rwArN9EMDFVS/VKdzNdIVFW0KilpXtsNOJitz+ZGPe+icoolSV6d+K+nDVZVztNl2JlzeTarixJDp0XPIYitMHHkbMe7RBj3eSa3e1VgZf/6I0HA6LaiXK85++ocvF7jI895yOuueecRBZatUi/nZsa+a2/8yu/55kdc9dsUCvU9g8DB7lK88wIj4FlgIejZ0LhfEYDg6J3fV8hgV7RHSOHRux65fdgZEVZuOtiWpoi1k7XAcq7SGYsOjhLENPmq87QP17Ft6CnOuw66PhG+OR9+BmAMR1VeUT3j0k5V3adTGSNGcKPlfubr+EblIefawSJKs8O1ckmxeonPDcx6H3GM2e9YmUaTXQV4GjLVoOj/UUPQEIYveBoaoWavjhQnUWOK9IZAtH81kZtgRZjeeoQh0639PeLB54Vb/htrTwAQt3eOW2284fp3XHDOg197zTtdzJkQ/MomSIHoNQAiIQICxog0AqCPRUO6P8IhxTFgZBfIMA+MgPcB1lZ0nqhLVVRqMrGxQ3kQp1Q6FTHlqlDnMhBadmYqFSFGuCvUzqmrswvCUfJ05GDfajPq5V9NUDU3FWmbm+JMH8zyzanKCWUYJ5aGq+aLC+MH3v1DijlCHUQRsQLuEsVrnoupad5p4KaKdONUp9PMuFWrfFliYzVzDB/LiQ+pK8buvXAtWRqy+5XVEgg418c7P7ztkT8rBBRe4UwAgGmgFzAt9oX0il73SX4hkKNoIPT7SAKiX+y7DsWuQ80CIyKAf7kC8lW/rjg353mBtKYrrn/H0Ro84yK4YWD3il9HsQtXfshcxLohup03/BuywqgvutHjePMDhNWDhllgBLw/VIlGO4HFgZCiloxK1Yo6JsYUFMvaL96UpbaioE9FjC9Xqc9/BhJaXfGAxh5hEsILD8TcycHArx/5LRri/NDMAq9V8pX5BDFBw2FSjnY1OF+KfgAqYhlp8fxUE2YQtLT607RVUiGsiDxNWjpeEC09lSkspNl14qYh/eoeyQ/2HIzOHyaAtO2GY77EyiHg7N/07C8kBseX3Bsz/CJg7wQDpZf4Qpg3CODf1utv0wXQ2m0mg6Wz6zzgNfI1SG6BEyD6VyU5T97Rs1sHjAgX/MpvudcruUuF/KHw9R/ZJzZ0wwh4NgyyQrVbqZ3op9tSpqS0vITUvkunt2CektETE7AaiN0/CrEa+27jB2dGOGsiKZc0yx/kYADmTEe3gK1CFjEDZtBbCGVhbJIhuGCBinU3GgBKVxtLh95/7YxriKf7CLiW7idmzprxK1TTpKXDP7V0j6mCgMH9VOLm8ndJUo6eM7ITTmoRIs/Oethewy/89QwXfEm3GCnQ8BoQw9KjNRC6t/eGErwHvIiDyS4r9P7Yql9H9rAgWucx5zUCAi4QCGntqRQXCOtIuox9QyA6bEKJCEBHbu+tLDhk5DsnjID3h34PWOfLQqVGyZwIFd2oXqgUHjCyNbo5o/NGjUf3opjoDczAvjmCHc6/gmiDCJanCg72NS/SxDgVMieVO7WY5CFQL/Irg4quP8yGq6MpcfUw/kKhfjINjMYqwfOkMiatd6cgXfRaeqAI0tIjzZZfNoVYALnl1D3i9wQzHD7DvCTnA4NfZesC1Cw67RcFkWBf8rzonGBCAERcEyjur9hyEikcnorLf5FoAeu1G9kFRFx4PoY1ho2iEdDtlBVXJfHQNIQVSuAXIi/QvRtYDr4g8hvEMC2MgI8DBI+CpBQppsrUaDhXL8hJM4XJmy0YPeY7xysTk22dzlWqWQhtgU9PzdwkXaixpri74HOyiHQcio6ULFUoWMHsUjAvBCumIKkgQPDQsLhiwH48GbKOXzmp1NINxpU/hPciG+lOU53EjFWzFVe4FEOAsPkzQu0xwdQjo3BdKfRx3GwsAu74AqHfbWPtNhYjQsA1uI0x3CEghNctxCW/gO51wRD6d2EWGKaYs/PJY8DZbSjto80uFu2YHf3LhjH8+XXAjncpzc9yw9pY3HVYXAfDRDACPj6okWKnTJd6BwdHP6E8lamUgeiSrRW3L/Pb4hG2VJJbAv7sWM7YjH0TXMvMKpxf4JClcGoQqA0qR3mIoe+i4+JHEELwgSSLQwy9BhpOV0ymIbT5SjqYSumgrvwQbbN9pK59xwGVWhjfVSCvMFdBWUNG3r4H4+K2MRCBMRJBgo8DE6Pn4YyGAcj5wetQudiJgwWyFxKFPSbdIUazIebstpxEIIA1kneCidYIbr7VGp2zC2t04XNcIyD6mVY+HA0QmNjHpcHfQOzKmQs8G4yAZ8OWdy1qB8IkjZYhJlZVlyxSkZfrN4lKlexRLmnVP+JFI9vpWGcqotxNW2qvP56JiX2p0GgJDlY7PIJTi7TKwQAND9ilUc3nlEyyDxVmwgbjwCdpBzEe+hBhkMxUlcVzs+EijP2BxrKyr2oxIq6YIiYQulMUTcVpd+RJOLBmWBPmzko/GGidaNhNdyckNwAc1QFZjywtN/KX2hnEhX+zQpp15eLMLtDtmDgyLiGskSQHu9cw0NoPBvtgOEJ0iP37l9wjFu+y2HsxzAEj4EOFaLLV9nsDGXlcU+/KF8eKTyy4E6q02uMBc6pWaTjKCfYc7zNtxr4Zct4NdihwJzByLb5xmuqlcnBpJ/umnWkK5SGGy8Zn3BR0CyyIDbm6TAO0TYlZe2OotJ1umEr3kkwrA+GSeah07tNnGEL2cmIdmZ9NRd4JDq9bcG9fWAME3gUE94ZfPwaMgYNpHQp1860SE3sPeO02dnYEHMjYRaTXCG5e1TqRMWQOcVgT7LsMvjJZ/IXSBTPMBCPgA8ZcHLxF0aM4GCTBNEyJcaYOqs5oOMqV8lGlzUmwUaM/NshBrNFXyRWKK1zjYKgPOfekIb8UCEAinxVRo96KqSJdmALO1qGr4dMjOxPQzcpZ0chuIRGCRvYFua/Mgv/RFcY0IozJFPK4NIXe1BrAj/4C+LlX6xjC5mPPGC9X8H19TQm87BpoEZcdI1CYKO1Jlw0Gr91iJ9UPjk4wegIOX9dNhGZfzDh4NhgBHzam4uBti27kD3Fwo4ZVDu4UqwwzlxwGzRYctmPf0CUYhvAnhpwL9fpvwLVqWjPrK5SrAOsMUer0bOx8C8vhm25rqtW3aKXzmDnmUQqK/QPuHGscTIHoACC8SNd9O0Q/kYrCwdrVIU6OAuFyuplWC/CeNISX+zqvG4HchC1yG3o4ckU/fLwAN+LrDMfVR17Mz7ry7OsGgyk679EDTpP08w60YWIYAc+HWvM68nY+qzmYa/BGNvIuBcEyJ2CwBY85sBH7buYf9JPxEHFOkGb1KMRCexw7GuVvwSiZxnnGlV9/AnbvMOX8OwhfkJgHrFB1vBR1Do5FY+y2YLg7EZHWyd32lwwXiGs/Jyqyr3tlr7vWBGy4F8BtrRUmXqXtNdaBhtdICzbZyvExOj/YUaz0fb1LDykWTQB+MXN4E+HYQI+hH0bAs6HKg+MJ8uzlYF5CFqbOhpljG6opwpAH7Ku+gR8cdWV3YRRqZByvzBhHdoJ0bpb1bKC4jJKS3W4TY7zkZHVK17bHlPPpIw0DY6ScqqObK38RzsfSAw5cxy4g4gIICdfhYvqINPeDw6IjtyiKz7paxN2vwmrdMPGK4l5Xbhsst/OGT4SFT559Q0Qj7MgRPr1A+CFj4MM84JlhBDwnJuTg0cXtnoM79CfnYMjaCOmfZbpQ94DbMuP8YHawga/MxWoqncRZw1Z8zH81/XK58cOuIpI6AGg0PMCjm8bDuSlPwwXXchXBwcWAPUprKKz5tx94Sxh3wESAdYg5i+VG7hMB0nImT8M+BI3gXGQiWGOabLUGCP6u53Q/Box8P6zo+xZjwOS/CoR+bOpymAc8G4yAZ8aOOfhkoHFtJqTwmliNJEBr0IHTZPR3skYfgr8+yr3mTJxN1QbQWbqP5IW17NJVLmPtF8lM8Xps7mo3VbJOGI955CxeX1TdSAdOzL9vycHC8Y31J/YDCRPeKuKCIO6q4WK/7pUJblOqBQC5FzH4lyWA32kLQxohruh10eZAtJ5QFwBhrREh4MLN/4rbYAVXGHgU2gmEy4EEEPekhMpPb5gCRsDzI2ug5nBSNetzWcpbFQ+q5DdUWpXdnoNrBZX8msSK/JrzJA6jOmuucvcuzjka71Ln7NvDxP3AEDYIGWM5OFkSZIy5+mg+blG4qwqC5+CYBsy/C0gPdbgmzTdt1OBdYVYBLC8jho08EBxxBrZfIy5YQNy9rIH8imNaQNz2Gfx4sV/j66Y0Szc30XBY8hs334B01tEziH2h3aVynQQACHtSFk+JYUIYAe8cNf4wZNiSg6v5fb5vzIEmDUcgpKHEXCVmM44cCG5zs1wlpImlFSYGmdMBYvY35mDF7Nih6FRE3qEoByA8vzbT0WaXe83dV9KnFHAtEZQO8giiMO1mWyC7H4JDSgALIArrjhYp/hxeHuw3tErU697BsGCTrRgN+1cerZ2T7aPQ0QP2DjHwzHC9MOzm4qdhWRM1G4yA9wHj4E4cAgdDk4Z5UQr1Rg84tsvgD1QnG8b7wQpzT+2wbMnBVVMdHEx+PrBqK/FrGsStpxuEmgcAoiNLcji0GANWjcSgtPMrK/VfYOgUEAF69gW+7siFo/0aJPALk9C7zn7mMyXHd0G0AFwDIACjYbYSCSjRcPB9X/Hgb3nc2z/s6h+ddj8bi2SMwTADjID3BKPdvWMUB0OdMNpiUNKwPNDj20wK5GYR8QRCTuScuZN6SdIqkUsXmuvGWuXneiDlZZi6S5+3/+KpqVS+E/oDGOYdbYPu77jAdDcE9vUsi34wOLy7F+Osq7TPBo8n+1cehUyguNMWhkQQ5onghofFwX5LL6TozkOgYsMsWOy7AmcxCADg1MOumtzwqYe8schD9teT36VCAPFvS1PdMpOi1lD25BPlf+Upfuiukz/ljkqZaIEzClPhJ5yFmMMLJWlBnOJ1oFQ3PZ3Jgzg7/KddJd146w/X7HA9VFCthutCvdOsV1zrn9v9IZKjz0UIICO4Q/eSQbfDRmBNhDv+64f7TIBFoNUF29jSbY21iPTM/yIN+4Tv2HCGBm4KaYZHziBgHvA+MQ37skfEUe/RO74vy6/J956aKn8zlQnVS9AWfvDgKRrpAfO0qpLtz5xkKsFt7rhG+74IrhKKSNlyCwY+PJwCxPWeCjIfnKvUvMshrzFNLobB6FH6DqSarZmioIr5QWZ2NIixXOHyOD+YwhkXc07BZ/JhZDfZCtJaI8fcbgkxm2wVXz5Ydmz5DCxM0fEwRYsA4pakiDE0bvHnOWEEvGccvfUR+65CC6ce+AYAOHrPBZNYW37r611i9b5HTWJwGszKwbAxDUd1YDpBjGI6k6lEpHtCypKUh4efOVoMOpK6auIjOFizxGs43lRej/hDN24GgNNf+fgzf/VyYX9dcjChnwWN5DZ5BnJk6LzhNAZM+MkvXHWbmz38uj9+yzpMe2Z0yxYdRbrlfyL+HCZhhWsT1wH7mDMhT4+6QIZ+GAGfHJx6yJu87zsB0FPvuy+QzROqyR6ft8W+VW1sHAHA8n6vA4DVB36wXnovlvf+eQBYfeiHu6QbrTYRIC7v+erVbz6mzNfU2UEmA3UxGMXoTIbCgaJSERvwmwtXuGuYuYPUZeeiT0UxochVugunv+GZAHDm889tmomeMVVFAs785ctOf+WPA8CZv35FyuWXKoxxu8Fa/1IjF1BHIDcITIJEXfXdzhuMX4n5wU5SRJhdWSDZl48BQ3wjIQKQo96Y2NT1NwzBCPiE4NRD3nT0ju+dyBieeuAbjt59AUCdZRvsK08Ne7197Lu8/+tUoX72Xd7nvwzL3PvnOzl4ea/XDAjc89UAIGi4zsHLe/xsT6Grj/yYsAY6DS/v8vJhU9c8Ifeyc2fauWSwPPfyAVMfu8SnMvdaI+zl7X96wNonn5pqhawymVln7VbPa5n6zDNhkKsZGZ/53KUAcPrrfzITOfNHsZTAvnFLK2ZILefMX7wUEE9/xY8lDuZSmN4MjAh+Uw7wL11wTjDGVUMIiPSJP73qtv/q4df+8S9zt5X9hUHcwMeAGX/7HTYw7LvB7cRvhpi6GUa/88G/jNswLRBxMLZ86ryrvEw9hMUtNk6desgbFd+Xq3TzqHR8mZfUZcEfR9KFxLsNlZCr5TsfFwBWH3h0U51b2u56dolh9m+G5b1ek3vAgzbVfAQAXN79laurH9eSr/46QzKYn6iLKTaX57x4df0lbZmiSjUxtSyofp1m9Za3vGz1qWfIr6+nqczH/OKc/oafPPP5y8JZCPcq+xRsxhIsffqrHg8AZ/7mlRCnSC0WQWyxBiTANeCa4IhwvYYjwiPCozUeERytfWK1xqM13uZmj7juj9+yInSHq/QH8tD/xUxnYbVmZglf9MD7PP4dH4rlErhJb7gO1EsAv/gf72lMMQfMAzZ4JOr1GMvfENl39d5HdasM5K8+8INd6vtCJRa9+o0fnWZomQCAFPaFUYFols0P+FhyS6waOl5dd3EqohpelkWMjkLXQtBa9QJWf/D09qwurYDqyTP/47lFVflnF8785ctOf9XjT3/548588ZU+K/n0wQ8mwPA2pODI+rAw91M//qdX3e5fPfyj/9cvx82ffRQ6dBmCbvbnR3aDo+y3q8xUyE3FC/1himEIwwwwAj72qLi/NfHqCUa9pReiHWjsCwAbsW/jGR/Jvp2u7X4x07SvnIYH8xmFK2LhoBwbRhyWgbiOFHIxdzRqaFnMKZO0JyK6G7zPKmwqlsinEBtAQcN5bT38hKw0FyxcKBdhBvLuNPhNm9N2kmEutCdaCkSbRaGzmDOJdUT+ZBwwDnOyYh3R9wDcFpXhPhm9ctswArYO+Hjj1EO1iVed7NtDkyPZt1slNRpnHfs61Fq1sfnlKYp00JmvLUH2f+wUMT1iK4MprL6FxophSGkhScxafTkvl8nl1YrVVSppFGa10oEqn5DXXKlndilChWVZLjLtVvf6pcAYF/vGkV3/0oUb/uQtd/4338PcXEKMrq0vI/OAw6MW5jQjINALv/2+riqeqjGRcegNHKen6tjBCHhvGF6AxEiqlp9PvIqPWui9QnywopX0VDEKxDyfID3KNZmGend+UXnxV1Ov/LVMVSTb8mN/mlFocW3JLVqDrp5yKpwdB/KZhUa5nDjDiSQmNJxkRvlZBYqaN8Rq9Mlrq36dMUzs3jPkJwmLK9baSaMg1x4Ozjor6dPd6Yt077udOigRbfJ06br/9Ra/QAlyeuY3r3xWKbnIQIDwlF//IECST2IAbI60YS5YCPrkovXcjHRYazKd6qPzM5xoP1iPOfNvStWvrao773NEvutiYZARCnqAmsRBlszzk012wPN90TQsFmVq8eEy9quqVE2l8mR23Bo6iJSf8qtW65ldKD+bOvrZgAsMy4HIxaL9QK+LJ7P3DLb6q0XHFX1cO0Se00qkVCn021CGr0XQ3ozbsD2MgM8GYPWwi32rVHxC2PcwW5htOHizfNAuRZbPmZcfbJbvjjLKrKmLjkI4kdW3RrGZSpmOMgjxBQyeHpGPDSvEmxJON6Ph7JLyk559EVIpbkwaPZtScGoJwpypwJ1YrkEqlgLLYeDoFXsn2L+HiZ78ng+uvd+PkIRTJW0a1nwwAj7xaFBm5cQG7FvjsLH5jZpUxTdoHUYWsS/UaVeKzbyTFwRmirWZioZBo9iaY53xKEQCk+BiCltHzgO24pXJR3/U0Wni8aiCxWfk+5CpVCurZPheGISJAJ3D6c8joP4eX8fXgXcheLrSA1ZexgDI7EDi/fAm4JD2bzQOt0K6IIbpYQR8HLExp7ZyQrvUw8R1sW3yi6MO9TrGEvPGfvCsPvcEHCwKTvm1+qghUyg2v4TYLFf4sj8fJMX2eMCetII+/44l9UYVTr1JXZP34XpPwcwJRkoUyz9LDoYqbyGb6Z06B57OkTB+aUG9ED3aMBdaeLrOSDUQzYkWOA2zsgAAWczZc/Ah91CPP4yAzx70cNh27Gt+8BzYloOzXlaNpytleI2aO9s4NTZ/vAdcDjOnULnmATsVZNSLKeCcywtvGIKFLC7NPoFzMGiXmvvK3F485T/j9WaLhUIgmo8BM4oFlgBOzJy/IxlH9RSIThYwVMJfCxsDnhM2C/okocEoHWSDFRlj371jyxAgVQ9Ydr0M4ikqk7nZRn6vKe0Un+TcJVNRIZYf01TIZ2n2iUWOkE/Tm2O6KCIvPbfmudBNzI6vBRSzoFPYOclDyuGZ4ZDQL25IJ4JlMe0Z4qonANsIelaYB3xiUGcUrKSFSh+tdrHpSIZuqIyWaZQwD80ePnk7TOMHFwe9+dClAhWtdiB6QEZ1mrmnC2IoN1Pnri2mkHP0dZNTy/1giIPT3D1nEE4zeBc82olTlNNULB40lu5vOesKvaMcygojxyzsnJxdF2IPXxdDEF1cUePg2WAEfMjopJxMDGsnQ0uFeX4PE2enpvKDW6fGM+5olp3OD0YltYWRblP9pfVycKWAzElFYPk4lN9U4eUQPwjHgm0ZLwpOrchgVlBJsfl302k48bT/dMOlYhJWot7ghxJlX0zhdfBOKWNxBLZZVSTOMPQbnVLmpyY+Frd0Fn+GyNlpxyvAEIV3074ovYgwhMbBMBeMgE8YBthXkxrPvuYH52ZnsTo9ujg4y+4R6/CJB0sXHnDhNMejsR4wSVOqBww1Rxakn5qvA0aEnINz/zFZD+XLCDnEcsG9gDDwXuBgiB4w+cVI3jCFtUrJwY214tFp9x1R+sEQ2Ndfgfg2pPjJvqb5v/PBxoCPOaq0auxbau+AfQ+eiql6UM/uEaPh/J7SiWdT1SyRLsY1amPG7hRX4fLZUC6Xp5hOn5jlQ9jWypWYxoO1LcyEKaYb09FhjYmwpQb3eh00bzgyMcWwAwK4/bCCjN9myxlyZ8GrpNINM8E84OOMXvbtoOIN2HcUE5eyPXTYSZk7oMCePsFJwr784FFm45pZfy4cdHrM0QHkZsVYbOkBxynT0QUGdO90FR5wdKNjbePSpsysWOPkdH2F/His344jOqzcVdXpFolf0+AkJ/YFNrma7QztuTa5+qFeJ/UePwQYAR8XNJ0/nX1T8+S73CU1olAoZOpE3s++quBW4771GvbgmPrBu/ezt+dgLoRShTGesIYVGTWfB3sD32ZJJRCd824wEm8MNRDNORhiIqwVRiAePU5Em10B1SwzDon7IyOn1wjGGHJkVIC0IDiVhcBWA0O4DEnX14WZBcHE5PakJDfQbfw7I4yAjz9avi9PV09UZPrYt5OJq4RrfvABY0sOntCUms893X4POC69TekgmXEwV89pklXDLwxGCmO3ugcsal56wOjjz/7Qu6DivYEUI8/Bo0XRgUH+J2dHh1He2NHgS4Hj5peh9skD9hxsmAk2BrxnnDrvqu0MNCiTp/fHvo1BJGPfw0dn40vVg3p2jxiNz6cymY8H6+li3Lc2WJvJkE8jH8cVAsVgsGI2VJcPCTvKDOO4zi/mTjBC6w/EIUF852B4KBHh2fe7vzcYrkEqxT98thPHjDAC3icmZt9weOqBVzaomCUb7MueXGTPZoOJRX+7blYXa3TdVZlSLGt5CrTaKuz6azV0hsPh4PqpnGt5unGK6WbcmasHDgbJ0yX4VC+AktrTnhiJPgERbnbTRwK/57IJz/KWDNEAgsxacc8iQLbdB4SQtOPg6hcxbAcLQe8NOvt2teeqEIKnXjh69wUVYWQZbfbNtLliKdPhB/eLbSwDZ6UfPFN9NtPeMBatFZyb4klMB6jmF6d4bDndzIFcs2iz0yEuFuZeYRqj1aZrIYTRU09lOnNpFrgd8nswE/dlEYDgz/72yq+76ff/z796Y977y5b8BkoW/cTYjUw7S/MrnsLRPhNJTnMzTA/zgPeGo7c+In5uDf+IHL37kWp+K91iXwTA5f1eFzTCszzWD+4Uazm40Cc25Jg2/FjzgyfBJn5w5VxVrMMnzo6EMxrdTXZWiTxzsYofnNv3QWYU9qn4q3nAuSMeCJzYTRbj0vGvMshTuMWJaDXJRNLB2wYAxLxfY5gWRsAnAOkBOfXAK5n7uz37wvJ+rw3pcApb8pUKCrHlPV+tyVQPNhEb1h1xzjAOx4WDoU3DUkzl4Jw+IfKrX3pLdPobnqlSsG4kVkPGot0JskG9UAAAIABJREFUhPSiIsi6fsWocJTg5I1AfDAYo3/LHm4EQLkXtD0b88EI+DigxqTy8NSDGPs2nFQ9zQ5Denm/164++OjVB3+I5UNFveFxplPLe71mec9Xr37zMYpY5aAhtrzHq6qSA7ojzhnmwoFwsEwu7/AzKZcg0xd2uKMsGJ3TNpz53KWnv+En63UvKTyvsI/OQPJi8wcRlAP0dCvPxABWGOhNwsH3jTbSp+0FPRtsDPjg0ce+9fQQ+yL7h6Ud+5b5ClsNMjHC8p6vAYDVbz7Gu781xu1j4ki9LrG6+rGDKoNY3v2VLrG6+nEbG+HWRtlxpU9SNAAs7xa+y0d+rDj1ijJzwNpdX+Gt/c44Rd3aXV7mrf3u42vDxAAgBoGrYrS880vjweraJyq62RFfa6QVsfrYJY6DVzc8KYz+kndEkanzVb9pg+hw//uh5QrfA3p2R7auKRQQfFSSVQUIQ7Zf+OKVN/uX3//5v2TDwHJjrDBow93gwN/sZQzu3cNRIBbBljenzTcNM8EI+IDRoNvsEF3w+ZE8P43keJkm+6aTCAjL+wb2lflaJVvsu7zXa1wier2r33xMy12uHGTO7maMGym2gX5yWt7tFT3FdRp0Ym2b/XWLkqpBl6mxqX4xV7/z417xri9vCfT9FKvffby3FphYnP3o49mRJEitpqtrnhAPlnd6iTB17UWqpTQPy50QdIwAsPrYJRBc4dUNT0ocHNXlrCtGnxAomRVJcOZzl57++p888/nLQs2ZMGR7bEmBsDYJ2ePHGNT9UXx5r7hCIfgcGThuQILhMJjyfQEEjKyc9SsMM8EIeD4M9B1PnXfViBlYm/i+PF1n32yA9r6vBYDVBx/dFbgWVZKUeS/v8haV7/B3WXJ5d+fjDrmGHa7zWM+vjWmtzWTTG+TX866v2NiRjUw8CSITAwAgLL/pZZJ9HSoPkcj2B6trnuhMOSzvdHmVg2vuNXM6Vx+7BBBjRHr1e09Ou3YkMbbvVdpOknO8Z7kz/+PS01//jDN/dFnykn3RnIwdHzMnOPrT5L9Z8mzZnGdgji/yb4m5GNMOLzsEz+1xRnSg6bAFFloEekYYAc+KbeI3NS5VyMa7v8ryIZdu0GfOvqsPPrql0sG+gnohaw9a30KV6orKdrCvwWGSMPL0INDYd0ClTaira5/YikV3cDAQrW54kl5k2hiraZnhzOefe/rfPePM/3xeGCSOLi93f0uLzL1ljmz1LscoKMk4kDTIVxw+/0Pvfdq9H/CcD7w/0jC6vbB4aMAeqdlgBDw3NuPgOvsWp0LwuUaZoORj+Cd1jEeyrz7Wi8CpV69Jodigz3Yz08ZxaTXMvdgYPYS6NQcnNxS1UzwQzdkUslh3WabkXS2MnO6NwpEFybLiD5XHyLvOjH0zRBk2lk1uZ5Hj8iQdR9gs6B1gVBNbPmVQOVTSBECIFIvsZl9wYWcu1pmOOWqmqGDRMGQ1HHCR1W59TaTaOh3cX+f6423+eitTwSbaHWYnQW3+M/E/cdAzFzrf6MqdpkIsKw7YeGm+VpgA6Mznn8uES5tspVM0CADlZGaAf/uV3xfXAZeX2T0B6Qz6xx2ZBQBAhKfd+1sB4FlsQ0rEtPQoj2kbpoYR8GyoNQ0jgPVDnxZLjzIZ1Q/mD5YiNj7NqTdv97lKTYbzUIVB81NMpkoz8pIc8p9hS/Q8aDkbjuVgnihYNmPoXJcSoRI7lXF2tudlUTHOpn/6xStddv40ZDdUfIAk6UJ8wgIu/eD7eaYrxTnBtUEnwyQwAp4TddodNwMLQGVfaOw6WYtCt8S2SJeHsaiuIeRGDXWNXu46/ObDaHhiTMjBLBX90YyDS+G0h0bpB0cBWUzVbw522auA3f3yx3/9S8pdwwTCX9gSxG2+4fk1zq+CF3z4veDFfFmefdOzaxw8I2wMeGZMPoSiE3HGbSXn8Z6tpjIh+yqx6FqtNOR9+EGZrhP7xlAIpF1xGyceh8pTl2UPrQmuWhIzp7QNooN9xMoMYsfiaRpXWQzxx8Y/uMWreQuu9ZJSJFkAcuyL/JXAz/vQ+9brZC1beoTuVceGeWAEPD+0Z3iCLaBHsO/QqfnYF5XUJux77P3gZg0G27f9138GzPulJudgPwurRc7a7C1MI7zBi/WIZ3IVPz/Lx6sxvhs4o2TkKfmsYLYtJTL2jVVEQkJEQCLEaJ8wTLzKNhcxzAEj4J1gz34wplNYiM3EvjMxcUf24Ll9oMmxg5U1D2QTTMfBNf3M/VVtEnmm9S5y1K770MVWHiGAFX1cz658DlZrDNiLEYB/yxJmq5tShBsE+9pGHDPDxoCPOXr84PxoOj8Y2TOspiHrnp+d7Au5k7Jb7ZOPKkV0jgfXDkj8S6pMzKM8kaUV7ZHUxpxd/Y5wdAv5XzofO+G+Ix5InQ9MAaV8L2OYC+YBHwdUCQkr2czZ9Q8Qe/JQijXSoylZVgWhWsPe/gFU0Ncm7KDlGNeEtis0fpzYfJOIHoe1V70WZ9ZMZZFpdQ1xo7jqEHKSiKFsh+HOmHba94rZXtCRX2MgHCF5vcDi47YRx3wwAj5W0IiKsvxq7FcetAl1Q+oNKcxzm+zb4+Meqh88rpA2YQ7ZKrV38RV3RvJbf5lZOdgTbZ1Tc2uapKDnolLqGDAb/C2ol2JmcH09sjHgSLQYzsZ+Q+4le/YlP1PLNuKYGUbAxwej/OD0qIWDzC1OKpV041TnWC8qucXT3EHSh+wHn3wPGHfIwVtjF35wh3rmB0dkA8ac1JUxYG4zMLG34ycxZ3Uq2TSRs2RfISlziIlB4GDDTLAx4GOIXqKqc1viaY1KSxrudIK52bOBfUHxSnZqa0e+yclwgfp4RBsCFgdi8w1NWFhojhb3VsW9nwgAkquL9cgRR6BV4vPAvEMM3FQa5Ub2+LpTJ+PnP0yYB3yo6CGklkykwGIMOIk12beMRddU8jRLVb32TsatPPuH1iRs59kWtsYo7MhBPVZ+cA+qzu64IWA5CJwPCFfvjNoW00Mh7ryPFo7VvlsoACTnJnlkjjUGLzlM2mbfxHzg2WAEvGecOu+qo7ed35LYhqhUsRSKitkF16qtwNh5WBOy74H7wduN7RZW+hRGitf1O1EvZu/t82ZXYGMOrq0+EsJDUev24iVngNnIKDYeclcY4185ddm5zmliVepTBVOu9PA+YPDyNgY8K4yA94lT5101IDHaD846uuygtkhpy3HfFhOzhkGpYnlqy+7F/jCNB7xj33c6p/b4uscbcLBihMS8pvgZh29zcLsgVgNHg3VXmDMxqrk8x/Euf/1RtnoYwA30xkM+BmzrgOeGjQHvDNvdxjohsfAyO7V8wOur6hi13CGKBD+sruvtTJ817DuIsnFsiY60vBWmu4LH5bcooQ70lofZEK//rDzUFOVVAYLWSZHrX21WSKrXO5/5nN96BBi2hg6nL/7mb8ufb7/5c1hdYeuA54QR8C4hHqPo/p562Jt91jaEFJ6V5QNev3r/DwAw91eQtEaZLSeYqfAntScNkYl5VzwedeRnF6FyprgQc/9thF7VkUVsUaOgPxFOZjtdnZRVlRpttgkk8aAAfMWN/PtX+C+f0j5F4FcyMUuSlbMbJz6CLpcLn9Bf9iBgIegdIwWzjt76CP9OpDLWNIKJBbO2fF8I1Ig8rfFxqY8j06rBEV+qma9VcLfYqMg0G2YauY3E1Xa/rjzdMPGxDVKDEoxWZ1xtZbYmEGZBAfDR2Jw4m2YS12JwfTEtMeICGPbicAFxt1m0jQHPCvOAd4+hlmgDQhJrfHkOI+m2uuoNIwLA8h6v8iq8m91OY8m+vBu/hR8MMrvaNuBsf5uiV3tkKePER9Z/yqb3WDfj45cwhZzlLS6DGEbWzfQYdxtDMhPZ/Vi7uvzxCjnOFH9qMw0IZAy2BmlmGAHvCq2hpgq6mDiHjz8rpjAl4kMWP6HoSwf2XV39WPb4xkezmVb7ByO+VP0b9nLYfDjuNGwcvBm0QWDKM0qsPvWM5S2eK8wQPxhVdKRHTYr3YNH3YLHQw+w4ynOyZuuAjYNnhRHwDjH8uDX6sZoIis989Dd+iqewUkRGvYl9Hyc7z8yWni5qy04t7/yS5Z1eMvClDpp9eSm7oeGRZieV20x8Z7ZmwvJOl2+q6lg5o+qqIDukPFGTZMhuotKdLdmXKwaXOhSDoTAU8o6Dq5UwbAcj4N1ixIqURv5g4KnUy7bjKEi6QGDfWBCj4Va63ILWp5d3fgkArK69SBOT9az9ieuAy3NevDznxVWhhp3+v6HLOj8NGwcPYHnnly7v/NIJDa6uvWiIg0vPtzmxuWWDT7QeZl8E+Jt/vOKrb3wBz8Gwc7T/kz5rli6vfrrfi7561twYJodNwto5hmc1tNk3PJViRhWXqjMrKqmiEATOvnx6M/SkZXkIAOC83tW1F2liWo+9WcPlOS+K6dXHLql9jZq6MHXHn8lyVh97Ur8ZTf2ScOpF9boFyPlT/HsBwOr6i0P+5TE9bC0YXJ77YmHtuoty+cZ3K9r9jJBW1160yaSqoMH5cnXNE0fb4bYAVtc8Idp0aYlN6MNxsHbReiqGWWL16Wcsb37pmc88E0Dr7Ko7cvAdoYOlyjfJG5TYJHC6LSk5nfWzsQjAT7wCsPcB7whGwPtA78xCVahkVgRg8WdFQ6rU1v7mZjWVVlpWOPLKnV4iG7Ia42rlBizvqJJux0WUIss7CMpc3fAkfoofejTbnsDWSYjXc5iDY/PqrF0vhDkfL8958TAHo6jt6jouT8tzJYO2qQXzL546T64+jI9X13YzaDDLSdfFRZK1Xj7Oq8hpGHQmHofVtRctzx3k4Mp8aIqcWTzqtRciDe1GWfwmChoObpkpBNjuHG79L1LYXgQtAj0jkHp3BjeMACIe/drD2xJhDRIwD5I7r7V8pEzGeTyOgFX3t+YTV4rz7q9C2LxKIJ5izdX2ju8U7Ksx2Wj23RzDj8h2D1FVe3Mvc05TOzC7lS3pDW9wn6SbXHCw2vUsH6409wIDuSEhnr75c8989lk+f4GAi5BAWCz8J0+EP0KkxQJwsUZcrXG1xi//Fxf+2d9e6dKrNbjEkT9Mf0fsrDs8IpeAI8L1Go8IHnu3B77kt9+zJlwTrNe4JiCCNSAREKVXNDz7fvc3ppgD5gEfDKqEVHwW6HV/SyrlE6kAAGF5dz70q7jaMW6Vm2IqzkNaXXuREhvXqqgmIwL7VtSnYtkGpKtakdiieapqjze7C1M7MLuVra3d3+SZrq7r8YO3LaUpo0eYs5yyC5H7uOCvlnsBA1K6eBj/WNgZAIgtFDbMBCPgw0AHN+WZJSUPzati6pxKkxPs2Veh5w4mZmI+Ylll3w4/OGtCqtiJH9za7EIOvW5mWdEeb3ZLUyopYu1ELjRsarTZPlNzsYPg4AmMbVeHBqp8nPWQPa0SexQ1+37QN5D0tAELQwGbBX1gGGTcAuPcX/c48mc0mGXsWxSXuc6py12sHxQq4S9f48RUxJfkKvoXysVq2XoRm6JlZ7sCJjS7pald1GS82X06X1NQD1v1e+Yzzzz9H56zfRH/8l9cCABfd9NHqndl9khhEEIAEP5sGsh6wj2+/SK3I3TZ0tgi4JlhBHywqNz5wv0tPNRB9zd3WEMOImNfuWap6rxWXvebMzEIld5adYgNy08K4+AJajLe7IlgAPclznz2Wdvb+eI/XgEAf/53V6pdUHm5KJ6Cou/NBV/yW7+e7GASQzAOnhdGwIcPLD4TRrq/sTNc8zLL/IJWS+4H6dcm5u5j33Ltb0Uuq+aUPm4njIMnqMl4syeCAbb5Ei3dMNNLOrDkNpssJXkC0xnIDYQDx8Fb1N3QghHwcUR6TFbv07a+6lEXD5lGzzyH0yr7J9iTLjJysfBX7rQV/0TFpIr4i2cwl9TlJ/3rqdW2ZtWv1aeeX4cOUxWhbdWh+ntWpCY0dejYqrKsY/xXf39F3HYjPpq8lOyh4lkx6Z68V37k3SkXQykoZI7VNT5mMAKeDc1Z+34N0jCw+OxD1f2Nnygk8xKLVjJpZDMsUaRRpstWstE/6GpYcaT8ROipz7Zmx5vaplYtkW3U+75Fl9SEpg4F21c2Mq5611ceZpbPONU9oy+/+j3ZYyTY91hd3mMHI+A50bVyDtXkkHzxucHjgkw+U48MnXWwscm+alqU2GDfnprvtTEwDp6w6F6pE8jBW4E/l/oZXQmyR5l3lQH4hpq1TrthDhgBz4wKB2vub8HEm3q/He4vK6Z8cBMNg3jchWIRVVbTIrZVyc9PVb9Vh8zMMA6esOheqYPhYPVRpvqpTYoY8TIGjhYfS9KVkqQ+eY6S84feMANsHfD8qOwtJzEgUExnzIh5PEuL4Z2SpHl+VsOiB34IfvDkzUSt4cPaub4a5KrhuJODt6zV6MW+DXW15lK3RR6D6ry4UkgzPc090LTSXprbu8VsB9xe0B0GVcc3DTGhMoMKEfhGHHEXaABEICJ0R4SEhNT5UBo2gnnAO8GoXdx25P6y8vTolTruG41ozutoP7h9Sv96HTJTYEvXsFd1pKkDclj36F73qR9TuDcxbArxKKuPI0J+nk28A9ZvQgBbgzQ3jID3jFMPe7PMaHiHzc8N3V+5NIHnc+GMTPV0g301+YFTBwDj4AGps5KDazHnA1iqU7YECABAiNl8aQJMT3l5P2IITRsHzw0j4INC1k0d6f+mR6rT/WXFlQ2rL5xXiT210OcHd1LswT7ixsEDUmclB0+IjiHkkW0BhRcaBfaVptz64PRUY3ZWK9fWAc8GGwPeJ06dd1W3LHsAFWaVUgOWauolSUu7OftqhfYwsV5PtTfexpjme+N3+2xPAF1Dp3VT40Zei3OzD9xuU1y7xIq6kG+dO2YYGvEdesqrW5bHnnIY7gUgwPDq33jWcXUcHo4vAz7+3ZzDhXnAe0OdfTdyf5N2p/ublVgSuTruy4pI6TF+cHE0nD8JuozPU4OxLuN+1ad0WDdwqTtOHFefmMTe0DwbRvQc6s+VJiy9Wvas8oHe8PiWxvGgL+gJgBHw/lEMA5coKbnqBC+/5eealurELB7WOmVWZ11VZA6BfUcUYRxsHDw3NnXTCyodEMyfTuLH6B9Tkv5xmPIRGxXj4DlhBLw3uKXAR287/+ht549WVp8JxOW9f94l9M+WwUjDGaOX476FSlafDdh3Z8+4cXCnunHw9LanqdVNvuxC1XQKRcnyeJ+6qAH96F0e5BKQC1NSNwaeDTYGfEwgHiadWT37toxUiLm69rfT9+1hYlDaBq2KzbNTYD4OVoc/q1abRQyPpNbVN1hqvO3AbceXHZQvSxTrgPuG56tLh6cYG57gtixIcgqTnnrrvxvGkknUIH7GPwoDw+5dwHHBsGEmmAd83FDxfQFg9aEfznLGbyUnB4IQl+deLvieG1fSeZX0eu/dD54JWzqpU5nKxXfgsB5GES2pfd5ay1teNr3RwJm1L1b22EGmUx46Wg5rk+qTqA2Twwj4GIIRJMv06dVv/GhFa9D95U8zBvaVJVYKbclk5w6yiZwMxsH7LaIlNbHfuS9Tf/dPV3zFjZQoNHDnunCzG4VwD9gfIo9IGwfPCCPggwcWiVzAn1je++dXH/6RlDPO/ZWd5LzLHLvNG7BvwvJ2L+irzHGGcfB+i2hJ9V7D5Z0uHxaaBNORm+blijRmj2bNew4dcuZDH+fFXYcNI+ADRtn09M+lUvO7xoB9Ynnu5avrLl5df7FuvGclkrcV+geefYNY/sf74XhgfyMhtDvf5ls3VbE7rJ5LZaVvUxxWpPrkW0WMrRUAQArV6Cr9X2r8b92B1aeesbzFcweEpisZ6wmIN4I8oV+F+FbgyapmyGEEfBww+ASU1Dh69DczheEjPI9jx4ABOK0ub/eC1Sd+YvWJn1DEBuqj/y1v8/zlbZ4/Db0O/83TBOW8Mu4KDKovb/fTzdLrbKde8Du8cHmHFw5XuMV8Kbk850XLc16kUd4mZlfXXTSGg4exuvai3TnB82CQO5GnipsqLkYy9p0VNgv6sKH0ZnVmTfFnxUhBye0p0ADLc1+8uv5i8Thm1pS0VqizdtsXeOotxUZieevnu8Tq9582iR2Olk1EdYv85W1+qqax+uRTh+uBYuLu8ra5tXTdOtSzUOHq40/hHLz6+FMKdf1LqVj93pMBYHl7z8GrG55cllipiHJi9bFLAGB5xxf5dL651WizjoNX113Up3JgGGTLkZaG81HMmo57aMVmwN0XGGdCG+aBEfDecOq8q7S3Ao+E6sds6P5mkalB9gU9LcUE+24BR5lb8u5WdjS66mLZAbOpKVx94qkZYyxv+wJo0/AQBydTgYwFE4/hYHA0TAAAzhte3fDkjTkYMhq+/pJh/Q4OBgBBw5ty8OpajdHVkqfF9gY9ZXpW5X14H81xbxwUReX7Trp/KHCwYSYYAR8YBPdVOsYZs7aJttf9ZZTp3d/C+F7Zd3vqddjKzki66jZbJdGuq9fk4GSq9IC9xsgvhQDkqLdZYh8HA6PhqTg4J87d+MGHxVLsNb7RhfXXIbAvErC9oJU7yPaCnh9GwMcWcguO1Yd/ZIuhyhSFXp57eQo+j4s881B2cN3aDmJ3hadi3wnQWefkgnSarR50sWOm3rPrhdDIShxSz65B7iINvkRBoURHw72x6LpZ3Wft52BpvMsJLqu0MSaPRfP4MqVPJCbDdBAovJMBgJKGYSYYAc8Gog0ZseoED7nCiqke97fizIrsDj9YHk4Qmz3W8JG7STZgGu929/nEk6nnIj3Oa6eDO7b0uvz4y9BFvVkRdSxvfunqs8+axFS/EZR9IQx/3g9GkalcIfSbZxlmgs2CPj5Qn4NIhxtPe07GMQWfq+xbr09N5ayFDOxvZ2q8nYZLPYd66UxtbLbT1FizfZZmwurTP9kt26olhr2gv/rGF+g6uTYhECDlYQoEAHjUuQ8GgB/6pgf9yF0exBQd5fr9sIx+Z4UR8KGBObulK5zRbZkuM3vdXwSAwL4djJuzrz2mGoyDNzN7Ejl4KvzdP10BAH/x92+AooXov0ec4C9e9w53+HMffVfyg6NbHBuh43/RDhYWgj5c6BvLFxy8/Jaf89tPZpw64nHkfF9jXzUfW2LtzMH67AHUONoQ7QZs3Oynws42r3+ovbOhod5T3OhB3IrZkoPHlV4pWrHcwGT3IQGc+cwzuwfzu8oNQnHbSJT5pSSIyVlSwA/4+pgzkb+Axr/zwjzgA0ThBEPlIZhkDFgpujDe8n3H1OfQgY2jeQrcroxtfNyZvMwdOa9buNfHA63K/80/XFGTq6khAIRX/2aSr73mnT6Hv4rFtxA2AWteGAHPCe7fTLB8RXdtt9j/mVlzPV2UmbLYPA1ym5xjz74OxsFbF7dfDh5b9CbYya3eLKR1Mu5zqqowBkaAX7j2nVk2BCYOaePgGWEEPDO24uAyHtX2iLmgZOth97fm+1aYOGPf4+1tZDAO3rq4k8/BOzC+LUrGLU9hIZJajphpHDwbbAx4fvD1SBuuTdID0PVT7kxPq8cpudDaZNy3OLtBrfaPbg6eal+OsStxc3V5MEq9JMvBL5UX17Fat6dWuMGCorpYRWE6bHMnY/ibrQRnQPvqLhNj2Iv8yLBLxGKJ5RhmgnnAO0HRQrl9KE+dd9WQZtl97fZ9Y7pr9Lcw3pho3Wbfswoz9Se2jC5sqz7Wje6TH+06mx+8uW0MusjTxcsVPAcXXi/Yyxh2AiPgnYMIAI5+7eHu6NTD3tyriGWq2NLVZ3c2iJn7WxsDNvZtwji4X35CDu4qYjtT22NX8Z6BYorZVUU42q369Wt/kUsZB88JI+ADQDuW3Ag/Z2mVNXvd307ft36qXeGTDePgfvljz8FtIyW/7Y7BsrIbLQqmf2rCxDnYMBNsDHhv6Ig/B6iPlNpI9RAkP8sfWRyyUB0eHmxGz4InOL8IpCbHm5UHuxwbBgAcO5zcJ49j96SsyLRq0vsqCE1ASarHvXaA+ZU49dMQbXYMxCfqpTztnF+/FzQCEBASEtrLGGaFecD7wanveEtKP/TNA04wP6X7vjyzoMbNVihNxr5nJ1rOxSRWd+QTj1XplD/JfnD5WO76YcgaidIzFum8WxB39gBAexXhvDACPoZQ6RYRAJb3eJXIrFqI7q9ciFDbRcvYdxMYBzflp+Tgsffhdr/HJtrjK78RapwvDwm0uDimf/wbGIyD54YR8H5w9GsPP3rrIwDg6G3nH739/HSi5QoPMN/ym39WkeXM2lj7K7L72NcwDOPgpvxoDm7k74qDq+ViOhp8flPG/CPEeQVjqJoQ4MJzHgyalyzraGuR5oIR8KGin4PHuqG1tb8qSTd831Iy/kH21wGhgWP+itK6y9wJWJ0m7L5kl2sH6ieTg8fcN+X50W5tvBPKMyN+xC+/0YU9YlUfV68dxf4AorgvDuhhOnEwAj48NJ+SQQ5e3v2VhVguUzUosbzdTytltUztBWOb3b1irvnS25k9ezl4CyjVxprA6ZtfqqvPfJemPgMrDgHCJGex+qjsGBzWg34SYbOgZ8PoTa804UEOTnkIAKurHyeWPdQ62soYcCE6dtx3n8C+l/McBrBjq6ndm+1Ux5GTkzvle8Rq2nn+Tm4GrKTLwy5r7KmcAaOiQohuCrS/XDPdrQYH84APAY1YEUurjkJtUS8GGR5qHi43nVre9gX1swcI84NPkh88UmhqP3h57ot7RQfiVeNR2GnQX95M8PB2bifMbS763uVhsARcxTAHjIAPCo1+dchLfxoHD6z9rX3qWqtP/MRA11mM+7bKXd7qectbPS+ML2l/4rttBtT/snHiA0H+9aczu8237efg8j5sy1cO6mLjhJbnvKjL1mARCICwuv7iERw8OeqVrIUAAACQAOKfrqcQNkvEfAyNw+E8LicVRsAHArUj3d27Vji4cIKHiy4LOtwHcHnLy8aIo5pcjmFUAAAgAElEQVQ8IEw7P6tyMFdNNuLg5e1fOCTWZauevcOgyGzub4TKqzVtrLYcxDOjrxw7a3ziVekWGyaHEfABopuD+dyre7xqdfXjWkpV95dJhPTydi9YfeInRla7iuUtn7f61NNXn3r6dAYvW33qGSOVqhzsvfO9w63kvvXzl7d+/tam/L/L2zx/eZuf2qwmJZa3fUF1YGI8B69+78kTcvDqY5cs7/iifXLwtGZHmhJPfOnX+hzKZHLdorkwDp4bNglrTjTnYfVuRZlCiSoHq2mdYAeKqQmKIvb8MDrHdzz7OmD0IjLGXf3B5p0Dlbw3NIi4+v2nAUDkYHe4kSkAgtUnnwYAy9s8HwBWn3zqqJqUc29cn8xxsNI/65mug8KPcxy8+r0nD8jp2bmM4+DV9ZcM1KFZwsTY5HHpjnu1EL+bZ1v/D8lGIl2B+O7ByM7kgtoYd4U2zAAj4Jmx4QuACyAfnClOqWkhg63PjH1FQLuS343lrZ43ie+7HfVG+FbHV2mKJngb8laACESRd5e3fv6WHAywKQ1XCDXS8AFy8Dg0tVfXX7w858Wr6y/e3H4sBVli3ADBVk1HajMo5YhKsYAzsdoFccfK5gHPCCPg+eE4WGPio7edr2q00MnBDad5QB1T26pFp6t10Cq5UaxYx1R2RLu7GzdoLBiNbc6+3lRKrn7/aaMXlGD15QrVEYq9cvA4Jxh6no8Z2Ic5pZXipi2U/PNL+RXljQT6F6VyJ9i/meEAH5ETAxsDPoYY7Yk23d+e9b4b+cETsu/UqHy1w8HhrFMa57F1lyJFNPZtlliv1Qj2PWhMEojuspj13jEPOVsEekYYAe8Q3a9BG/PQIQAs7/6q1Ucep+8d12/KTQJy7m+NfcfgUNm3wGE2MAfKwRPqdNodWfwufs0RDxUALG/+XAA4/Y3PqZiZpsZ5eNmDshxECC1R3h6x6mTLlswHngtGwIcEnTjVmHOFY/n6A+SJ0uWVwa4e39ewY5y1HJxnb8PBm1/DijPd7N4qe1rh6jPPrFemvhVdBTf5sgsB4KtufEFbDNmfRKLk82//UAB45B0folWruYWPYSIYAR8Y9Pt9kINVjSaP9jRSyB7hytMshCffVsKQ7SIy1aU1Dt4E2Q/QfgDzs2f+8NnJyNY/5V/+/RvU+rWR+bhX/d7b2CmCuGkNalqGGWAEfHjQx2q6/WB1U474qTjBwmKaJWt+8KFgnubQOHgr1JlY26LuzGef1TIz5rf4u3+6orNatVNZ5/yXPvb2qoo9+DPDCHgnIH3QZRjbc3BTWz6L9rQdLA4nFt2n0hVfGSszTxEbYC6zvT2tv/mHFgcPFCJTb7rh7fEQuUSzLTFMBSPgg4eIQCrBK7EHVqYYP8UBCgHD8cBMv9bhcPB47JGDub3xXuwuUPbMZUgrNidQRLuy4Y5D+2YnCUbAu8VUb/Ziz4d/BWE60W+iX6l8Kl22jfvuEsbB2xcxWB671bF64483uxFqI0VjLTQF+GSrbMzKnuq5YQQ8Gzq49tTD3jzeboU4cw7GLKk7wbmR8dUx7BTGwdsXMek1nNsJnspk0SoohRR+sHHw3DAC3gcYNzMOnsl53ciUebSHi+PGwfMUvl0Ru7q9NyincVX7wme5ftYVZwNQzLcnRMDwriTkWsbBc8II+KDQH0nWiDNfBIwpU/d+uZFK2nCAOCDmm/BWmcc/Hlvc5Hq1CPYYjB24QtmUDITP2Q3FhPVXJxmmhe0FfWiYioOHDNRCZ4NMfIzpmdTksUTPlsu9pra8GtvqD5uasITc7oziinoi4wotNza/GP9WhCr1Ni4zuu2fAQgQicj4d16YB7wfnPqOt6T0Q99UkRrDwSmPj/ZUnOCaEfODjxHMD94j5q0Pi2Ax0HaTOPMYfPhLzYOfdkaRudFexDAzjIDnROVxOfWdv9xU42uNujkYYXmXl2V5A0qNiLThWMA4ePLCu9BfXo/kuNpnbUqnMhbpamgcgb832Dh4VlgIemaobyH81e9xS3dOnXfV0dvOrzaj/hHhS31USS3OlI8Bs0/DScKUAeDxYe2e0jtr2CVWF5qwJttA2wu62aWozXGqBqyqpkgm8uIJMJFpJoXKuwrZWePg2WAe8PxwjdokI3Y5Hycs7/JyAFh+00uFsG5kPBkfs/W+pP/xo5OEKZ3P8bYm9PG6xOpCk9REjNRuU5nsFIo/pc88wsH/8htdWJoWgnnh4v3JHA+/3UPrtTTMDiPg4wx1/418qMfc37MAxsGT12RjQ9pe0Ke/8dm6du9IU1dtWlZ8UEzpezZ8bWsy5oYR8DFHeMhXv/t4AFhd8wSAekcYCjKuz5pe3up5U9bTMDeMg/v1N7lWcw5Bew5skGBvEXHoSVPK3vK72+6KQYMR8FkC7Tmqz3le3vr5M9fHMBUOp4XcNQlvpT4ksrzji6rSgsGaL/Td5ns0dRujKMhoOONano8g49KYZLIQ9OHcYScPRsCHhU2GKdUXIlVEhy0gAuLqD54OY53gZghsecvLRpjaBJWx3pM67itwOC3kcePg8k+X2KJi7bjw5rrDqsIbbpvMImLh83BurJMKI+ATAYWDu5+duh/saHhkTZS8+dnXcDhN5d44eHmHn9lGvQ/FkA13fxvLGZSs3f1keYsgfVs3yRllFzXy9+HcWCcSRsCzYaqNivqwvMvLVh99QlNkMKSU8pe3et4m7Fs3v/rUMza0psEYXYP+s047mrC8zU9tXJNSZnm7n57C1HzqDWvbOafN42lR9gq8Z1ySK3d8MUkaB88HI+DdwxPzqfOuqsvIuFjn+p+8i6v2ynfyNM1ZyPKWl01I58tbPW+S6WYTzlnbvEpq1+f3n7YRB+s/4eqTT+3j4HmwRyoYVbTibHZHpib9jsoYMACwva7CWYLwMoYokxSNgWeDEfDxAV+MW6PkmpeL5efMT9U85idkX8dzqz94+ua+PsPqD54+FZe7Km1obX4OnhCrjz+lwwmWqFdqdcOTiij0RNhqlkXBwYOm5r3wemROMDQLTc9enbMbthPWvjDVvhzFcJLg4C0e8REDWvVCaFLKzE1t9XKFSXh3PoNbDQEUV2P1+0+bypZzgleffOpGBqeA9gXnKmgwp0u32VfezH5H+ar7yxxcfx3j5cTwMgaMEuF9DIaZYB7wscbQsyFmiED+CTrLbjUArFZgIkw7kHySMeVlV2xNyL6bOMGwJ6es0w8enGvRPtUp0I2eXgSvcnwrsM+xfSjnhBHwnIjzsPhulJ374qrerS4ak1jmNVWl3AyN2vIWl60+bax5DLHBzdCjokbIP/6U8YXVy5tuilM9oF0ZWh2A6gfXpkLlGEODle2uMCPaSo8CcwvGwfPBCHhmzDEXOmdljYOzNmJwN8p5XApj32OMHXLwpshtrW54kpa9SZGrj12yUWUUSl5+47MB4PS/f2arJrPMyWDvXsgSvOSQn/GxhZ53ACPg+SHc3+gTAwAcvfURm5ttDzK1BoBLU+xxU/v0wh3Hob9ZcRa8XOFwcAw5uJI9avDW/3k6Hyi6ZhnjvXnmD58NAGc+dymzv4lNd5vf9MsuBICvvvEFzboBeyrEKG65+ex33+5hDc/YMCuMgPeBqdxi9UGpbcqh7v8M2hM5S7UMxxNnIwdvXIeMPkf1gGs2BWLD8Rd//4ZaPXQG5fFnBCjebqr22O1JnhtGwDvEHI4aAgAsv+mlq2ueyLzYrSJdq09NPD3YYNgPZqL5foYNj9uZ//M5qiVVuI0v/tMVPWIB+f5WZRX+6yfe5rJ6ewGG6WAEfByQL//NXNiaVvOswXCwOLibtowqFRkNWq0N0Qy/A1gX+Ot/6OXgwQv5q598W1aRsqYH92ucINg64GOK6jPdbaCUHGwO9gJqHBlOLHCXv3VtFKb5jIx4JjQ7M++EUxvKzRoLsRAYABEorhBGQLIHbl6YBzwbOgZ6026U2818WF3zxGL+M2ZJgbm3wTIYtsfB3aRaT1cd/B3QHfvVtroQ7QAZsLcQZr0LZGcNM8EI+JCA7MbfzYREY2LDIeNwbs/5alJbjo/Z8SibmirrMyBA8H4pP28vY9ghjID3jFMPe/OQSH9UmaXSM8Q+DYazGps+Bf2DPK3HTcscfDC3fHClo16zpn0/exnDLmBjwPvBqe/85c2Vsfjjp9S0zxnzJO2Ts7fa5PnshV2rYYx6BLbQrnJwJaxV7hdbHo5CHNlFQL65JB/x9ck06stHheNG0Ma/88E84P3j1EPftK2JKgebE2wwTIROP7i24L5luZCsRI83ROkHs+UUjXC1bUI5N4yA50RlHtap7/qVEUY6n72xUbKNCzIYznKMYNbuTOD02F+TAcNYpCo+OAGCCDtHPePgOWEh6JlB5Kf2s4f26L99t1vRe+o73nL0tvM7tmhG1mutYnnu5avrLx6oj1jxJ2c9GgwnDzhnZL4nwtQYJNKlN61L/IdUJmari/xnFFc+ha5x8GwwAj5gVKJC6gjw8tzLNZ2G8QNmYnveR8Au1hAGOXjDQdaRrqpgYpWzN332asyZjJJqHLnP68aJ2QuAZ+26GBwsBD0b0l7oVGR1YMSzyWj4nBd1zdw4ZPY1GCbHfDf2ZtMssC088Ah/xY0ubOjV3kqK/q0MrhXy6fNufV6a/uUVaLgGholgBLwrjHoBw8ie8fJOl4+tTrBcNb28xXM3tGkwHCC2JZMN3WT3z+lveObUlgds1MLeg7QPCMii2MbBs8II+CRgde1Fq+suBoDV9e4lptuuA17e4rJpa2gwTIwNmGEaMumILSlvJNvQvH+nodsSstWH7+jfy3lY+RnUTxU1MkwJI+DdgmiCdxHm47/yVEtx4HTd7g5gb/fdCDNdtmPxa2zGwfokilxieYef2apI/a2gQ8/XBE9e8weThSvdBBZ6tnWL/3977x5v31HVCa669xzHURtsXqIwQkiAJEB4ODMftWG6nY+KLwRCMEAg+JjRaRsdEAjkTfLLi/AQkJbPtA3yDoHwEBFp+vFpH0N/Zloh8giBEAKNCAgiD3u0Oefemj/2rqq1Vq1Vu/Y+u86993fX93PuubWrVq2qvc+u+tZaVbv2FmAEfGDYffyNM2jJW7TDgektaf3xSzesWsTiTLOnDW1Ab22FNQ8IkxlMmYD15J+IuuESnfTFHQYbIxgHt4YRcDts1XZY/I8vSc8gEQ6OYccDBsNBY/HQF26qYju3s2Aoa5JDFRq5woOgtlPBe18pddAWX1L6t96iKYyAW2IeCp7m9apQdjSb1uJBVx90FY4YFg++Zk5tD7l2Rm0zofGtrD0vNLgEenCSSG2zm51RcQlVefIqd5QbB7eDEXBjePQ9Gtkw1UXPkTKTNG2Pntlnfv34ScSDmHScl8u3qG0LF2t8EQc8bTzT7UvaggPIdr8ZW07y5xbZV1abt9KAoaneGIpPGRVmq5gvOlbYmLc1jIDbo2F/JDWrmmXPR9YOXjzo6vXHLj7oWsg4tBU7NmhwK5fcxZssWMp3tStrGH9qLiNUTVAaBsSh/pHqHo4ejICbIefdQ7igtH3zWpx51fqWS5oXMwmHmTJnrNv6oxfNpep4YazBOnmPaPwqJIHz9fFy/aKrrGqC0sxxbRzcGkbATTGNcnOX18gmUPtS0qPXsg4zZR4TrD9y4UFX4aAx2G4cobAx2oqTtxU6hi32BNI7Zb2FvQ94GzACbo2xk8DahBPyNo+ar1XXiVirMhw81n/xvIOugoopK7SFUW9hEjiXVLJWFj6YVJzOdjTSSS9HMswLI+AtYKodXKZLRz9jlQu6ivqnlAIAUPQ/H4ntHg4Q6Pp4/Dmyl61xzdcfumBSPvkWHxgcML7iqSlheeqlALA85WJU1mB9pkOtkZqcjIRsH+kjd4cdMRgBt8Mmk8DFkWo9RPN3aPXH4owT6i4cNhg2HA+sb57G5UJDW91+AgBWd4xdJC9POX/3dypvYqjT6ICPNx77oMcXOds4uCGMgLeFLdzGU57XE7LMuAeWwXCSQH7Md6jFDS7DyI+HVH7tv75uQGJIjWSDoxcloY3kwTi4MYyAtw6/+Y7Qw3M9BoNhMygzQDnplh/8cwAOVndcJTi5nct9vhoKa0nE6al6vPtj7+wyZHPAU7QZRmFx0BU4ZqAvxt5757lTFSnTsxu2lS03tW0MrOcqo92l0Wu4ZcNj09eEHC07SXbwDtDZkMlbfQmU54CVeWWm9m+++fr9EDU4GC+4lz3Ae2555z4qwIH3nQnsg4ShJcwC3iKyu3n38TfOvyJl0vsHDUOwruh4os4OHtvoOPmK/m0eUb4FJ7jFOlez43I+Bq0XaQ0j4Jbw6kFRsgilSaw/+NxqFYZpMA4+EpiRNDSvcn0RNZLMfbW5kZ1EBlZEo0O6ywjSYBzcEkbAjTH0GPDuY98yQpurexiosEe8taeNYBx8JDDHTa6YvkO58kaXz/0Wiqwtqe5G5EzswDvGr7R4kGpgfUY72BxwU/j+bnc4BgDc7hPeNlpZvil8NgU8XVuvsYzDTD9eDLYtiCG/fof5gnU4nNO+M6idtD5ZjFcli0WoO3LUk7GKavblk9ueH2YyLq0EsCngLcAs4Gaovnl3f/aG0coruwl1Zea0Ma2NhIuw7urkw6AdrC2KFpOmlKpizGuqMvXOx5GAfFr19TBsACPg1hCaye45N5VyDC7QmMfenQZrkkUYBx8IGt2VhH0nmdQ1keXDIQzdcZ6ssaKk61AKroBDUdbgm8IIuB28Ehaw+5g39SHeJsbc/zPbu1opcyo7CWEcfCDY2m1JVivhGV+yiomEC2Z04enhQmoFsjLTxs7aqECdA55cCcMQbA54C+ATLXs3ndM9g7979lv3fu9J4Bw4cSSkvQnMZR9YPPxF65svGD0vNdkVfShoZmvzviNxqCqTo35x/khdDeTHYPC2VO/26mYw+TXbfPLXATiJyzN187Cfd2EBp3yFQoKLDyF5Mh9saASzgLeJEY/pZzHlhugAYPGw65NkYWpqFtio2HAIcSB2cDoceoEKTir4t2eagM0UkEcykotN8kRvbIEbqmAE3BIjnNASUsMYaAeLR7xojNqZWpU1TsMhxBZuyxF2cEVtxs863e0fnV9TeI2unz798WUlxsFNYQTcGGNfB1yGNoETMOUNpqKe06+cRY/BcACYzBka84zeeYPnXd734ql1Qqh5Aq4w/YzihPPhq65sL45twAh4u0BNaPfst47Lq88qddtgrW++YPzrzV2hSbbBhq+Exa/IPbKvxd0yPLvqG1w4rmpklq0hXyYx6BDGPlnnAGBx1nUAk/knn9916TMW4e0tpUsY/N9DrxstpWj7YRkawQi4KWijmdEaHhrnboLO/DUj2HBMUWkHq/s/S3OqM6KmA6ngYFzLfIgSDHnj4LYwAm4GfuvOt2S3sbG6vvWy+L05FmdeNYseg2EQ/TrETaA1roZ+2FrNnfOiln/HzgajNyLh7MbBTWEE3A7zTv92GHSldf/R2JzNSW19Omd9yyXGwYYC5lq4sCXgBqVtui5PyYraRvPkWOhdhs8S0nuQqAbj4FYwAt4OfBaYgJq2WnCItXVcbweLB11zfOZ9Fw++ZnpmOum7eMg188z7ggfwi7Ounes3WDz0heMXLsyBoRnZxVnXrT9yoZhT1ymGC/LN2Rer5i1eeBEhpMeBbe3VVmAE3BKe/GswCVzg4MwIzkWOPTZiuPba1h+9aB5VD7lW4ZJJ2s66bv3h58+l7Ygh9yqRhU+FnXMyPQOvKWvcRMnUtqfTwMkONg5uDSPgA8H2J4FR13CUG9X6oxfNyHMzapuRL2fXdmgxr/m7eNj165svmEvbECrs4NqGlm+J1aaJlhaEJ8MXqM/ZOLgpjICbYYq5K9m1zIrl7UHxMGsyR5p+AQBgXmaaS9vhrFWvzczfWlS2Dkf+C5kc+1+rnDfzVmRcqLKQcuT7jMMLI+DDCvEhh8FJpoGmYi3JsBHmZd+Dmf1VoY9TR2xolXubEU+XHwLOx9aazgpoeXB1yhmts9gC7GUMTeGJO2fyHe2ATy+lJh0adp4kaRmoShc99/qm9S2XpIPRyo/Baqu5MOPe+Ru+sGHO9z3UosL/rN32xflXlTL7lqac3gYWJWupPnyPxEhzvj/w6K0Mk4o1jIBZwIcTjEV1O3i68unpBsPJC519B41XbrD2geV9Jk0oKO7ru3zX0wHgHndSt4NWdWR49APPBoCfPP3snzrjbC2ndQZNYQTcDsVJ4KYv+lL36JlHexu1BsMhwvojF7K1wiRA3gGcOZ0cIePVZ/WFfnySV1sfxfHX33i9XndeQh7uAu//xDu6w/d+/B1YqOgQMMwJI+CjhfGLMibR8PoTlxXLsSZpMOSgs7Zxesi51eeuUx49qlogiR9k/OrfvQ5GeoYd7TjKrTeJWStvD5sDboluFiU2Fi+5dXw9nTVoEINtUW3o25oesjmoHI1mWA9i4rY96pcoVsjkW1+p88f6fLO4AciY54C//M3X72/8+8QG/L5b34H9cR6217gNZgEfBLZ2czO/2RQNE9MMhuMEkearG0gF+4obj23ykvEu/G8+8Y6CmBnBrWEE3AwTngPe8HbXmsumajfLbjAcZtQ8F6RN+A7v/1zReDj5DmSZ/W1q6Vjy0BkHN4UR8OHD8B0vSNQ+UmnNyWCIKPiBXTWP5vtQDq2rSilOOXSdwvFrPgZAzQJp60xHJAGMg1vCCLgpwvuAyYvQCXYf95ZJml364PmkclsRWruTPobDAfwWBO/TZ8Z33GcvWpiudkZVG4HezNp9XZ6FzcOaEVyohXKASlfmpwcc0jXFVyAuT3FhrRg36W0euDmMgLcPD+B3z7mpJDKhccmPSSg6B/QbBxuOGcrsGw6kjFhM2i1nqGDZDgXMszMxLlGODNxS4cbBbWEE3A61k8C7P3uDnIDbtuzdqoQrHFVlMRhOYoxjX4UOxRYqTwyXK1Mr6AeJOaYHY1uomuSDdijeOLgpjIAPALs/J688JBCdyTPQYr0K42DDYcAB3Yc1tqzAgJn/KfFfzYkUZTZb9KxP9w5EGge3gxFwS3gc8nFGbO+tZOO3vXc/WdWgvdAXps3Y8klgNp2YTdkZB7eHNtE771yvVuLRmPcVVyrgiV78oYlEjfIM7mDh/MDJp0qal2Qil0p3WfPUQcvOr7hw6kNhcsGUWSzD7DAC3gKE/mjvbef0gXc9qU7JwPTS4qzrhjUU8iMYBxsMPUqNBtm/xP9MV2NUlVGgS4J+nMNiinoHiV0cxpOpbUMzGAE3xiwPz7MWpLSKCg7OtckwDjYYEPC86FBzKNvBZfmi/px9xyGuvEZdyI894OxQpk8jB5zJWn9LGAE3Q5N5E7k1LB76Qio1twvJGqFhm9jm/Tb22V9iGyJiLqzkqn8HcN2J373uVUhD8Flxcp9lHNwORsDbgvIc8BjkjZV7jxYPuTbLJDSy8kzd8oFXDBduqIE4x97uod7KahzkQ7rVGJr2VSd6S4pwdDYdO8DE+qA2+Z81DQDOLe91AZ+EHsG+dcZ3HTJdHsUOPJ5kmBdGwC3R7XEud3Qb9n2kg1j/xfMBYP2RC9cfvai4U3wtjIMNxwvjnv3FjYvSWeX7g/vUMCzI52m36gMA2h15mJfwDTqMgLePkdQrNILx7WIuL5K1SMPJB4U1Fw+6mkZmd7/LAiC3teW9Llj91YuU0ouHAb6cPBIFfnX6fLBhdhgBN0Nv/s7k5YstZkKDGJll9YnLoXKYUKF5ceZVm1TGYBgFvh4ioubGK9uvePa3PAeMDeL63WGFQl1un3bY5uSBNdl2MAI+sphAxnmW4izaXBw8Q5bDjNr53e3OvEqTvouzrt209KBzcdZ1c52HSpmTIT4WDNCHap4DFpi4isDlcORsNvFcZF+PnjZWMeaG4iegT2fPvojToMEIuCmiETxHtyu27qp1KFn26tRDxcGLB1+zePA1U3JuEcI6uA1UzaVtcdZ1i7OuW3/4+fNoe+h13bKDw4bFQ184cI7VdvDizKvWt1zCyVJYYIGN4MoComWMPhWvBIZCP1LsYBztMJh6p/cixsGtsTjoChwP+E3MPn3maV44uQ1X1V3JCwDrWy7p+7LqLBrWH70IABYPvqYLbAJG5BsqXDwkaVt/5MJNVAWF186lCgBmpF6Ym30XD31h7Zs0N1c12mM0aCiLmuXYKj0AxHAnyS5vLi18KS40eR+qM9c0miGHEXA7eHQz13OwJjSmVXOf2ZiOQHkUUElQ4kvkOpJ4M/H1Ry/anIM3p3Ci7SNY20bd1dzUey0AzGb4nnUdAMzFvp3neS72nY76vTLEOWD+HWR6o3LiYNnjEJ7Q2Ay4MQ21w9RhmR3cDkbAW0Q3G9cNKUs3NVrBoSXx8LCyWjTg4MwInoGDR2SfC1uxA+ai3l7bhztt81R9/eHnz3sRZmTfiZZ07VND8kooQUx040aCrpwtotj4klNLAFu3SoYg7fOtOgzzwgi4JXzecvMbWjSNKQcLy0AmsK+49CMeeCFOUHdY7ODDhENTM68eHEJszL6OB+VdMpS7OdsoAx+hpfuIPvm32DZFTxUri33U9tZmwR7vcFyWjJKMg9vCFmFtHfnjSf06VYYKE3naJFOFxOqTl8t7cQx7yOVoYQ54bMO2fsCgYyM3u2QHrz9+KUCZqga19YHl9z13ME+NgTyHKUxrVqxQCBz2kdyRhhFwM3j0PSgWUd8y8mPe8id4n2WMb4KZdTIdM6oyNMXR+XmGdqDk40UHiins+HeUdyEXAACsvvBi5fpkxnEHxfj1AHf7RwMbQY/4GRwAwI8+4An4pCR3nHFwKxgBHz6M7sfK81ij1CXh1Scvx1k34uBNcXR69uOOo/BL1ez/rDqWc234O5PnHmamR2FfABhqcfXe6fHusl76KPyWRx42B9wS3WKrCc8g1djB5Wkk/lB/vXbH54PD0fjzmHHm9rBNAh+ayhy6ed/Zf/5CFB8AACAASURBVKmRLpDSq4f0eV95HyuUJJi8VFzj4N78xcqlTUKUWouX8kvfeMN+9eYbngZy/Lvb3u49gAOHVl75ch7DTDALeCtofx93D+cAaCPuiXYwOzI72FCBo/BLFdjXhUCWZ0Abp9Kya4plpx8HgGaxsL375W++vqRqqLos8t/f9vaChD2A1BpGwM3AFluN5a4N53M3xZDPbRZVo2H9wUGj9hc4fL9U1ZsH83YXmdXRmHy+FOWMdu0ENutnXGe6gMHeJvO7ed3ZeSP/s3FwUxgBbxGb28HFxrC9p2OtTR5nHEUOrmVfzWNU4dYmxBUoTpweUlWl0bbaVXjymdKjOMhPcmBS6jD9kicZbA64KeKkisMRJwNsfug4g93Dpae9p+oclaGQt3belyUBAPjc2BWXPcsEJRWUXsaAp3/lU+gewK15imLE48K42bpQxojtsQwzwyzgrYDtpjrtHp82n9sOh6QahgPHUbkTatlXO5+aOWC8erhSJ1tw7Nj/SoodlnFKuBRnaAsj4HZgDwKT1rH7c+/oA4+/cUgPmwQe30xmbliKOmu+BwJ5GnLrOJy//mjPc2bXDswBZxkLHKxWMj/sDHDwnTMaLSOZa28sPkndGduc+g3NYQS8TYxsO0I7KDYNxtGMuEej5Ncbl0ONnzCYsM4hwzHn4Jq7a2bbFzUtzf+c3MxFTzWPo20Yj94bMLHg9tbTDC1gBNwSQhPxALD7pHfiqN3H3qBqKJFoPpM09PC8k3qSPJIXPybJOPhAcHg4ePKnRqnDH2bHsdSJ7Ntzm3M+pgpzwOmYKImpSQC4ADsFfpri6TcEG7Tjdx5aO9sCbBHWFlB69cjeO8+FncphkFPC9FAzfwe5edxLkPQkLYcaP/6NoxOynPQgl7fwq52kGGsHF5Iq7WC8W1Zu5rpMXlYYhw45BaMBwZCiTdCVie4d3y0/89bO2sMs4MaQpoD33vK4vbeePVGh1LAXD7lmoLXXDGan2MEjxY60HXxIrMwCDn8NG2Eu9nW5OYtMXpdnLBbKtNU6h8RRs/NNyFhQ5sDs4O3BCLgZ8nu7X5VV34JG3PuLB1+NsjD7t1pPRR9RrH1tHzNNJMtiHJzh8NdwMsbeXBPYF3BYLCO0rOj6jrkK9jQWzj86QlvjQqNomFbdO67Y/6/3f8KAhpPrPjpUMALeLpJBPGogK7WAigac5XW8F6grisUfdw5On+qudJso1fDAa4sqwCdEtQ+ur5QRs2Z3yoU5YHaI5307u88hJuYLnhHd4gvoiDal0Oz0h6DM7gAAfO+dnzaYvQDCwSjW0XM7NDf0yQwj4Jbod6PM4+tVKK1AclMtHlQwgnVV1WUaB0ulqweHBWqlDmVtB7GJHcwOVb50OkVmxMwamqzTAcDy7s/kY6M4PGKDBtrQgr0r2MH1kDjVK2Gey9AORsBbgS+YvEP+pIpG0G1Cuf7YxRtpAQCA5f1fUBKv5OBNOn3j4Nlx0nBwa/btDNxorbrcCFbGt4S+VQ6Wa87yKuanlzzSk+eDCz984cwMs8MIuBnYyxhgrNuZYoteoZ6DheLzaL1Co81gyadXD+PgMk4CDq66owpO4DrblwaXp10mlIcd0TGs6leqXYJLvjPPPnyf6Lk4eJCSDS1gBLxd+GkbqE8qSl026Qqf1W1XKPpGc/DijBOjNM3AwfhUtgzmXTzIqihQf/P66djNP/pVGcyb3Ly02lFj0L940NW1874uW+/rsHxm/rLrmZ+CEMaTq+ITwCOQautdbN6TB/YO4EdOO+c/fOomZu9ucbR/3GEE3BK5EbwJDr5BjOPg9a2XbpuDN80+H2a1iRcPuXZDDY1UzaVt8ZBr+7dZD2LIDl6cefX6lktoUoXtK9nBy9MuW91+paQqGL74u6TTLe/2zNXfvJwUIYwwsoK8MICefQBvtu8Bwjbi2ArwC5EANn0pUuNmsbrtiuX9L1998gVK2eLyTPbEfi+2vvXSxekn1h+/tF4TSUDBsMSsPNWtZteA+/3N3+fItW2wMwbmtvVHLty0YkHb5qqitplV1UwitGbfRKhRKTaCaR00a3HybAhm4szPrCwV6cuaZZCP79EYHn3jGsbACLgZOtJN1FvaD6stppWptTwUT8YRXF7j4BqCFGQi71Yw8UARM5Ius9u4NlJ6VVfWgikPp7ZO4QhVmlMhEN7izKtmYN9wkMxfx1Kzed/cR53WUjnaQuqaYpgA9jCC/SoF5bvQhcacGNj3zwybHdwSRsBbhufm7zaHl9UtqTeCb3vBPBz88UsXZ8zAwR2GLOCYBwfxUrgZLN1UmUFVY3zRHZ1znV49GNA2it4mapvo85fPNKkq6pIu6eLMq9Yfv0SVc+gmyNkXE41zEJ3PxOFMVTqmIeNgbEnHUhwkG1dCv1VPWIQFGQf7LCBl3wAKBxsaweaAWwLPAReaxRwcvP7YxdE0lDHZDh6K55wryXUcLMupFZvYuTdW1RDrj14kcNIYCifa5mPf+bWJZ1qDqew7EIa0VCqsfMaWcRDIzd8YENdqOQAHy7v9n6u/eQWxgMsTwACA1muyZxjveeen/dXX3ghtnkHiyW6Ovsmgwwh4Oxi6j4ceBj5IzMfBan7j4DKmcvDJBuU6rD9+aTQwuad37LyvAwBY3X4i+ZBxafib1EXkYPGWU34+l1eeuG7EXTPyPsNn33JpehJPNg5uCSPgdkCtIG8Q01dNbKn/Xd12RXoguIoA9IqpPjfj4Goccg6esUba3aJdgYI8pk8tjAkvsm+QI0Vo36KMi8qZJc3PpEN6PtFzmRgf+4x7ffdTeSqMGcErtrpaOePgZjACbgZtlsZvwr5D0Ebok0CeCTYOPnAcWg7esC5DztheZtDAZap6nkEsq4YdN4LT3HAsDn3XcDAEnVEt4CeAs9N0APKz+9QO9gAAn//bN3rPlIT8g8hawI+cdo540Q/THXbSwhZhNUVcWRi/5wIdWWctcYSaDmrTdcpiKKfk0eIhe1RpsAixop3MJiOYeg6WVr8cLA4tB3coGnkjVY20g/MsiZLoUmQ5HDIQSxDRMP6OZQ1wcCfsVl99Ba+YA3nMgToJD+BzOxgBLdSiGmqAOqT/ePtNPnRRuLcybAFGwI0xL+1yFLlkLBMfdg6u0TMvRtbqmGNzO3gTGXWud1AG0ypOwkYw+q7nYFIEIXa18ml7KwAA8Pj+6/FXX3sDWSNNAtV2sIT8Hre7vjXMBd0SfH5m2s2M27+WWo6u6xpLUlopygi9sqPUiqip7+TtDsZhZK2OLTY0zTdhX1fDvgodurzmLClnWZ2Dc5IlkcQszk8jPXGEH5vw4MOuk8Laq43p8Y9uv4lXWTo0NIJZwM3Ad79KCRvc1WLGPnJ9i/SAbAs7mEQnY5Q+E6wbqWYHn2SYMBiqIezSfLCmsMzE2MwFwjLECNYf/BV4M+fmEMDhqASPCbg65/vVWI5wsGAQ81nhpjAObgcj4G2hZ6dGLmmlexC7uXL5B8/BuLSh3qXc9c/WOZkdXIcDsYMdHh9JYphrh3masXIMDO3/jDkY07ljkey9FJyDu3/JGs5OVePgWe51l61bMTSFEXBjdMsb5um1N3ALHSU7eKRMu+yGUdiyHcySNFUiv7o8CQ1hSYlxU0nlG2d31JLOH3biFnDI20n2POqCH5rRrYshgCzY5jY3Dm4NmwNuCbahHLqXd5/0rnotWaA9Cn1pxfLUjeeDR8q0y26oxLa90Br7OoHYkirJF+yUKWH8bFK+3kqY90UWMDOOIbPCHQ9B8I8BpK6CrRyJhn4+qhz5/JGS5lhwKJdhY5gFvE343l92JEaVhdGvZlmiLGYHnyTYxKvMxYeHbuOYWPAnS0rEJVrJk8xklPlgjYNFJdHbDIj4cSSpoyPsS4fr0b2skDHB4FJPrU0L8SjKOLgdjICbgS3C6idVPDi/e967gSTU0EPTyeO8rJC4HQ6W3WpMRqqhJj+Q3dAGDexgL6rNHblArcy8PlpYYFDMsii+zMGMUPFQwKFIFym5nwlGrNkvwgI6B8weOvL4QIdG1XmbJjGud3Z7G7huBeaCbgzf7SCn3si7Z7+tk6tUN0Z4MkTnXi41bNDU+qIrS5wub9gMDn+kl8kzf299diBspMggRTgXy0J8vNixrIexgUvYFFvARfbF874xMupJJ0/DKQ6dUZCKjTwZvl5o+SI71hjKjn5wPPpHz8bQBkbAW8QAb46i1UPCwcNZjIOPPIaM1BmyV8k4iS6A8whh4goaBiYfVFfOAXcaHBBhTK5C5dNAgRAqAISngbGZyyaGAbcpsrCEX7dRfYRTNBkHN4W5oFsieqGp/3jvTY+BnZ3dJ//e3tueADs7I8m0kS86B3JN5X4rSUrLUuuLrixxuvyxh3rjbEirdapmYWLBTJPk+RItJ4VpJGZkHBi0gIkSTMkhe+JjUqdEqJ7O+wJ0L+LFjuiQ4JKMisn9g9y3GAe3gxFwM/A5YA/ODZDEaCYGAFg8+Nr1xy4a0+pGSU7gYByfhvKEg9VJXN2urXlueAoOhLePYJc21Q729dnLMjLR5jFKKg9TGnYsb2bUlr6hN6OJEjox7BDN958+TV57lZzJ5GEk1tAkMt7o1nLg/WYaDKNgLuj2YMwhzghvxgKLB12zUf4S6hhOS0K9odpNVLb3VuPw49fduMKnML+LP+NVxYTSXK8oAyRVmPcNLCg4mQMvYhs0sm+U76kxuydr2DeqBaSEuLKRJCZ+BLLIGfmffWRZ/mASVsKJnMUP4p+eek5WHcOWYATcGJh9vWb2oZip3Lw48+pmLcc4+CRC6VxHXgdV3KlpTj3QZVwe5HLqvC+2QZUtIekCKMTKFd8poDwQzMUoH+MX7RL/cwoIdrAHALjvXc/zmYZZ4AB6D7ihPYyAWyI9QMAah7Yu2tO1Fn6AswEAYP2RC0HbCHoklqddpqRoZOk0KRp/TDi4ZA/Sz0xQS6g0ZJVajVXFk/SMRF4R02R4WTipq7ZmAeOpWW21c5Z98Jsf5vO+ITWILb/zV7KqOvTcUZrfpQaxg4yYE9BCLTNdjxxsDrgZxJcx9I8kOXQo5OypF2cfXHo109qs5WmXrT51pZTilPngjIPl54NTHtqDkH6/NEkeUyZy8GDvtP1B/5ZKFM68VPLIWgniuobC6G1QhomT28DJ8blXGZwUzu3XkewbGdch5S4Thozmu3VVcXVVP/xO9i5xSgd79z53Pe+Or7wp8TSZRp5Cw47mcqE7MUZvDbOA26Mf4qI1wSG4+3PvGKEB1IHu+qMXLR509UaVxFD7T703JFJa2nD20gKQTdlqa/xatjIli7NVgdu1g7nZKuXa3AImViyQOqvWMCC1KAwh7KTs4Xv5vc9hMfyQWMCB1FO4z7L8zl9Z/f3v8Oo5hz3JbP0zs4NF2zeGCRlXM2f5Ltxamzm2MAu4MbAhS8JI4NBgdfuVALA89bLV7VcqbRgNiwsjZOeW97+81/nJF4zKXlosvumYfAtj+tRlLU6/cn2r5tIfh8XpVwKArK1mtESxfOAVALD6xOWlIp16QFQ94AXQ/cRcRMmiq+2mP1afurJUND7SLeDlfS8CgNVnrilaw46EXSYW2Hf1xZcMs2/u1gZIYU7tSMADuN4vFpk4n/fF/mcf5mepcTwDxOaxhTZznGEE3BLpOWDt3cBBbLYSAWDTgevq9is35+DVbVd055X66OrsjIMXDxRd4gAaJ5XgFqdfub710sXpJxSFl2LhQXWRZTuOHF03pQR2yusyWRZVAbjuJ4igQ6J6ncGSu3+qzOq2K2qyFGSWp/ZXaXV79otoqnQa7qn3s9cwSqYZKfXGiIx6AWCYfRN/S/O+Udt3/PLq738n2Ls94uO/oKx/Dgl5MHiq06FLAj77FuEAPDzq1HP++PabBIez83ElltnB7WAE3AzqHHAhy/TS1h+7eHHm1etbLhmXTWlbiYMxlIlbtZNwDsCvbnsBACzv/wJIXb/SmaL88Z3kULTVFg+8ooqcgq6O2Bann1h/YlPbNHJkb54GhWy6rhKdVRrBTnlYFb2MywdQbZWMq9wM3W+XtOWkK2QvUW8kXYi8WzCg62h4eR9KvTl3MLplYcrBveEbY+rZ12XCOABIMhTPllzxAH73UTbFi0ay84DQMOJgQyMYAbdHvwUHsoYBAGDvhsftPvldSWbmQhsMXFV7t2DU9scSDY9VJWD1icvrTrTXNYl3ZfV1xF9bwuqTlwPA8gFXdIHB0guqAF3tLjBFD9b2qSsAYHna5crqPCFLodDlqZeuPn1ieb9LV58+MVCxCdTrRKFImSEJizkm45b3fHYyfGM8EkCRGe8yn7Nz4Fw0f1Mu6Od0kcnb/WdzU8kOjgL3vet5d/zNm/azlVlYg2AKF+D0NVfGwY1hBNwK/f2s2cFsXVUMHZr5FtkI3oCDoSOGKmtuBAdD7WCjTpeQqzFQCbOwb9I2ln1VKQfd7OyI7KoF3PHu6tMnio6QERbw6rP6XC+WS3ZqJoYodnnPZ6eYXEazgAVuhuh8pqrwUAAgMDH1P+fEnJgYQFzQSU92g46E07FxcEsYAbcEmwPON6ckwiC0Gvw8UtzMsmsShUYRGWkzO7gFB9fxYDsOhjFd01bZd6PSi9w5T/bKqm6oSlsqoS650vPmWVwWn5m5qy+9NJMBYumK3zGLxMH94ucQ6QG6R349X1HlAHUDxDUdAve561MBHZLkTVAwggFGTqcYRsAeQ2oG+W1heSR7y0l4CJjvwuF5rhgfPuuPXbw486pcZBNw9u0wpZOt7Mony9efrqv+jISqafzjQOkJnGJ2pkdIqlMykL3uySVyzWpkqBheuDQQn6kiMiBkcZFHHZcRA6kKIXv5W7aPObvHGke71kN81SBZ/5xv4cPbP7VKN2nr/8v92FaUYaCygU5DJcwCbg9lDhhLVDcgD+DCWLVrtvM2k0FtyrIPtHKDKsMnhpY283LkgbcuX67cHFK4Gq1RKqGu9A011IyoKsU2VLWJBczEhKVPiowQE1S7TEycCZbjAZxb/cO/Jmo9QMevziVLN+yBBWj9s88mhrvvO77ypl6GkfRUEv7jT99Emi/S4zajdsMgjIAbo3YOOLQy8X4nrzUc6VaOnqV5eERpkmpLrWzQY9VugsaEWslAo1VtwqOzZt+IhuvExtIwO9JouOB8lpMgMXeZg2st4ISOX+MeWP0hODQHHJ4DRvO+nyHLrxJJ94esCPQZAePgLcJc0A3BHUl80rdiDhiLoU1jtTaxvuWSxRn985Q57VdVehha51gnP5afjpYjbC72dRXs67LPoK48S//RnczclS0Vr8nIHu+sRMElDno8ZMUFVVisJgyMMhFrdmGITmZHv+s4OAQiucZv6A3fyMEhJnUDaI008D2i0Vjdxcxa/4FycDjwf/Lpm6IW8tsSMUMrmAXcDN6Dc65rGKVbmLGpT2ydr8DCYgLDegDAjwK71FTnbUTKsFgdLVcOqseqnRtVF6nuSs7CxILsUPZNyi2JODE4XmZQzCnxoh2ZCdfYvmKSw6piGAX4dwUHo8PkWKYmaeRgTJ+Ylfs3NPQMnKotjN4nYvbOwTACRsAt4bvW6j2EOWC2tCrKsVmcgZ2zOk4qygRQ8prRH800jJkbzsW0yd6Rc8CHBZuzryw4zTAZyZ21KXVqp2R3SrzIwVkpo3gXhwnjRrU5s6IS6yzgLo+Hnk0J6dJDz93Laf0xnvfNXc38YAwhx/UpsXcwbA1GwK3hwbv+UbpIfMJLBivngH3qFHB8IcuWGtWGxutB276s0LnkNmTiyuxjDfdK83RsTQpq1ZHieBqumR4exbssjPm1xMHjLGDsVU7uaPrsb+RO7mr2gDeGK9i+nn7GwOzgg4ERcDN4QA/sdgF0l+emcDdCzhqY5IVGzwHHtdDaWx/0yk0/NRnNOBi2SMMHyL41RZd+1kqK1WSGOLLyyhTUVjhsqIx+Rk6UqeRdlKsRByfL1QGyZb3ApmGuF8nEoTjj0XAYlk9njutZYKbwNmEE3A7J4KX7ZmTDU48DgYPZHDDXShlUfedS3LtDyTgz2nAwVNPwpme2ATVOzF5UXZmxqQU8oLyOngct4ErzV1RV4t1clcvC1RzMmZglcQ5GPBaN4D4+MTFEk5eshY4LLvNJYtHANbI8orBV0C3hPWPXriXt/vz7YiPaPfcdpPl4AO+F9/HlXuvBjT60/aU9+afCTfsoCXxFq55d/MhKFLHpH+Xca6+RIlLKXrzgYkJ+AXMx4eJI1SyLucgxhU+d2EBxeZ11tbkqFkPCuSoWDlTK8mJOTRSLszgSCS47i2jRcmaN7OuTt7k/iyQvNV8SieZ6N3wOOIdD34amMAu4GfCMb+d8Rrbp7vnv3XvjzyBhbhM7vDhaWwtdOBR3weTWbxtr2NX0BVVCRByqc2x6Tnr+Ks2bMfGmYpWqcI4aucJyqpGqCtawmqJdUqcecju4LIOsW5zkcBh9g6MyEj2HtkXmfXP27exjGoaMiTH1RtrWTOGp08ACRrZSw2gYAbcDJd3Mmbz71PfsvflnYSc4IfpZYWYNi1QKdA7YgdO90HrVSGBetOBgqKPhI8a+h55655IpiI2NZ0nTeZdysJhUxcFUCZoAxvO+yE4NHi4PEJgYh33wWudcS+59T77xBpZMZBMYBzeFEXBLECM4kCijWIgzPDHGo7YlUaWH9IoSB/0kksi+xPwVjeCjxsEwqrY15DFe1XCW40fDh4iD0b8aDk6HlE2TaYtkihzsIYyM44oqT+pE7No8nLNyOMSEralKp8O9aWL0EFDTbNE9GDoYATdDR5OJNfsVVbu/9G+jyO5579674XFJPgb6YbMj4bQ3jkvKQ0QqpdIOxrw7joOrRUOnNI+2DvW9yEbdxmQ7uIZ6t0+3FWIbMujmGiZoHrZ99UeE5ezjORjLeGr79s7kNNfryXPAdG44t5V1lvWxqj0xZ2GK6RxsaAwj4HYItMZIMWDvDT/d+599sIz90PSNj6yGOBii+OAcMHstxGQOrsfcHqwpldy+HWw0PCl7Ew6u4V0cxiyryIjsGwI+eI+Bsa9msAJec4nf0BBqgJg1dA0pe25SxwQR5k8+VLBV0C2BnFAAfXjvd3507zU/3qeif2RGJ2TuWTkOlYF4phY/8BLu00YFVVdRCM6Kgx1Ib5l9nZxGotGBIl4tNlKV08XiMuAC4hLfUUmDMhPU4ngSRifI8qpZWBizrCITJSGVFSzPniYhs31JA892v2LTvdgRTZgVe6Q5kUMSybsEJZwqfdAN9XjCCLgZcDvIFjnv/e5P7J7/B/wBgngkW8Kx7fZkvP6zZy9+4MWLh78oULVM+dC9OzSEs/qU2+YsaNq0nfpx0nM1/FPOLj6iUyeDP0QYCah6JLEambKYKpCxlCZTSpqavVB0TTwJ62pHhPF3pgoSBweKdf1D+/GJI7zzRmx/IuOKHIyXPaNvn300jGrGj7rfE/NII+PtwFzQ7eDTfIxDrmAuRVnXg9DQ8HywQ8qjw8mHUrArmc4BO94sox+b5pKd0Up7HNFMD7ZFV5ReW0EnBgWZcuqgEqcmVFRgKPvAyboBAU25I/9GVqygtiLe6VdVExsIRxtXSPKuF4htKnqePQt7Ei/ybpc/fSMQrqWSZ97zyR/7wlsAC5CMTlRYBu4lsh7DMD+MgJuBk2WMz14GjFdBA157FT6JI7EqD96t//zZix94CW01QWfXWaB5X+e9d3g5dKri8rTLusDq9isVDj782GSUUGCFioRSEQWxai7fqBSUMHwpijIDvFsqe1PeJSJNeReHSxwcIzxA15YAsSwE1zGkduy8h7t81/lf+ebrYzYIDilkLsvczLqEM+755I998Qb2/ARj4hEzUQjGwduEuaAbIzYR0TkMaHCLiZlryKaBUa71B5+zePiLeBYFQlfnAQBWn7pCiD1KOITsm/nASR6XB2luLbsjH01M8Nxq8bmMIqZl59Vo4WemlVT9zDVuaj0cD/tAf7j89v8tae5o1QE4511/woga6ZpnuvNGx76UZbGnWnAya+Yv/0YQmm5Na1bu6KM4Ej9CMAu4HdDjuT68xYhPBke3M4phH+eSIZyeRwKsfP3B5ywedv365gt6JbHQLqwthM4M3dWnrlyeehl0djBJHWETL09JLyRe3XFVZa6ywkzPZpQpRS/vc1GMW332Gp5lUC0SWP4Pz8cSq8+9cFR2mu6W3/fcpOqv8EironqScbm857N7bV96qVatoFPSS+OXd38mAKy+/DLVSK2oEgAs7/rrfa2++luqfMmFgKp051/tVX3jt6vsXS2pp1741j+8OrTR3qKNa5IB0SegXTXwmxW61Mi+wNgXbcSBOJUs2srN31u+eIO6kGMyFIPXOLgdjICbIbmOob+HI/l5D97vvfYnd8//g703PqZk/na5vEtk7KVXIeVZYnz5aWBU1c4IXn3qSnCwPPWy1e0npnHw6o6rlqdcsrrjagBYnnIxTbqaiA7pW963z45JXS70M1eXNCKWXX32Gsy1ScNnrxlrRi+//8LVf7lu+f3PZ/Grz11HspXZN9btXhesPn/98l4XMCFKul0+rZ59fKRYEYh3B+d6AQCWd39WSdtXXs7kef4MkWuJnq/+1uB5SVrd8s6/uvr6b0fSBYDVN15V5YsuJAXqXf23VwN2MgNAcCzHQLRcI7MCedugk9gXr2ruVREzGoWTWO61prtUTsCj7vfEP/n029CJH0Hn11GG85v8egYFzrn9l/5g78ICBzvOux3YceAc7O7Czk732f2F9+298WdgZxd2d2Jk/PgUdtBlx2HnYGcHu+wWj3jx+uYLSq42AHDOo3D6BmrZOAim8ImSZTPS3MR8vLrj6sqh9fK+Fwd+rS1IjI68u/rstfWaREMT27irz103xGQDTIxJl9NtafAkm4bJwP3iS/Ts5bneFOoMXOA2bvk2UHl0eZdf67X9LTZzNRtXLyUOgfdkYQAAIABJREFUNe4Ujd1XaTI8XEgKvAuBervIOKcbaTiyLBALuLdrwSP6RPO+2PMM2OHs0cYd+WYdlGhP/56n3BJmf0lG5AAHtKEHGgokZziEEcMjAwGzvbQYK/zTU88xpmgBs4Abw0NY6xQ80p7au31z0S1g8OldwtEF3e94Ryzg9Yeeu3jY9eu/eB63gKHcj+OqpvDq9hMAsDz1UgBYffqEJDQa3AKuzDUH+0Lg3eV9LqzPonFDsHG7+NEcSUWcYOOW1RYtRcGxPEVV/3/1lZdNIUjlbFd/+8ph+ZKfGUc7AFh981WDMvKhFMZWb6/L9f+TXRuSYlijN+/dXb7rfADIPc+AaNtjVeKuGtTwZTHRR43+bQyzg7cFI+Bm8B4gEadzLsz0YAEI7TLECJ/AuMQF7dNe0Pm8ck69aD64Ww3N54NZ3hDuafh+l87FwfNhHPvGhNVnry0af7rJOFxERXadhkfrHB2vFz9Ew/ygkiMHp5An0LnKr3r1qqaBHQB86x9eHeZeYysAydLFdjD2P2MDNLV1xr75IXVfc2bFnzPumcxfBrLEkxbNIuMJF0jWKHg7MAJujO4udgD9sifErFGgX4qFk+gHW8AuW4qFphKJESzSsHNAWlewzlOPI/Dx5PngZpjIvkWZxux7zKnXoX+HjHfx9sl8k0hMZvQZ35iE53qxQxi8YPsSLu/KQo5iVAo1avvvVDQwMSRFbGIsMJJRjYO3ACPgdoiroJPNSu7p2OAAeGMi/Ou5BRw5OEojvesPPXfx0BeWHNEePxMMwaE9wMF9raZxcJXgWE6dlqvAdhUJ09j38FBvFa3WcepGWfJrMrIyGgcXxIocnCHZqV3jCqxHn/FFzxhilpXikz85NGvp0WG6qAp1A72hHMxftOcz42CJMz0TYqeKhuFikqEdjIBbI87XhtF/NHEB9n73J3af/t69N/xMMnyZ/xmi4UstYIeeaHJoP55EygOOaHAuvFs4VrIlBzfBZuw7mhc3Y+Kx8e1UbUTDE7LUGakbcXCd2BAHJ9JNxEOWLMVBciRUkoWurqLxxGaNq6tAYV8fcwHgCsUiIBuxAwt7ITJn4j/FS6AlGAc3hRFwM3TsFldLpdnW/qEi5IjORrzgezGPnz5CvJvTKqS2sv7Qc1EdZAu4K64zhHtP2wQOxvGHBMeTfZmlW0hyQmgbfFmIF8U01i9VSRNzGYXgh+AdY6zImmISWY3FLd3Avnk88meJ876RpEMpzFnN6ZZwMw8SG7oGDrV/MdXQCEbArdHd0sEE7lzHPhNhU7/9bpTe+YyDIZmwxN8ku5CcQNWYhk8yDj787KtyUmMmduRfMUY4mMd3nUcOxOjxwrkPKfT9QWolmGJjRLJBHQr3yV37kSgWgBqyWA/mWj7vC0LAh9mlSM8xOcUgJTyMMc569eTHMsu3PYyAWyKQHJ1n7SiWWcAxss8ZqZpzMDOCIRJqKNRlFYjCkiP6QDm4htjquJMJlcQqCq1h4gnZm9rBOaHyCHbi46l3IwsY6oxd7bfL+FW+MryIxFYoHrmMUliyaLswfv1fYMEQz+WZFxqRqGdkTJ/ThWBbY25Or1HKLODI+iEjOzViT9cDTUsZB28DRsDNENk28W78ziTxsNaHaeO+0bnEwUDpEwc6sDbDfc65BXzgHNwAh599S4S3GXmPNlWLfCkmjaXhCdlrJ7Nrrgm6XWnjSE2O7itJaZW84h5xqjwHDIh9MVtDyBJJPZ/rxd8AEHe7JN5pn9cQ5aLniGteD+PgbcJextAOtN3gb/TZe82jd5/+3jw+LcnAuZgYP8w16NlJreK43aeak3G1FgY5vrbVKqpaYb4hwlhNtaSuMUqFWjcj+7o6anSSeJY3Hjn0zgOcoMm4oZc6AAA1EKOVycNkARR4D/upfTiWhMKOZJFlUhjImxgQ+yJVuG0lFxjKDlmF42kCDWMmDhpGQr3d/KCMYRaYBdwM0UDsTV+66wVxQTP2xY07Tv26vL1KXmilFWoWc0jun5Jy4Luy0qJr6E9DDWt2MErwhWZcKXaUUcm+avYKtTMarxNWF+f+4ZnrwJPifc8SkyHoqPGa0xXSkNuUXVMp2JrIq9wnJ480X7EVxgE0i0eqYnFYeSyMFZ2fDhcYxcQ1Nu5J2SoPB4yAWyKSGVsLTZ26e7/7E3QMT6m3C0AMQE+NABKnZlNomKRF93V/2NUTnHO+KwvQBHZfqBju+jvko0aEjIO6W3IWDq7IVhDZZPlV/QyuumxK0a66l4tqZ7OD9eyMRBtRb2lSI1nPbDwZSIjwNPfaCEwM8pwujQfEo0jMpfjOkCXZsZNZmfelMjgXLgJXQzkdvG11NczPfHAwAm6GZOwC52BgJm9oepoLuqPDPtBpC0XEb0AGNwam5wE7uI934Dy2gNOEtBimJxtOOA9ydtWSjp0dDBuNHiawb9Uk7gRTVVljNaH0moFLHN85gZkQQWImFi3dvgyJepMZzS1gURW2g1F8aKzoySI275uGsnQptWTX8qFDZgdzuRoYBx8QjIBbIrFdYE1sAfM52th/+cS7cZ4KAK3D6sSy5dBaEypwMDOCITyp7HtzGDXruEQrdog4HM19XJU4/khXZDwHjydkLccUap9vOEDGKG1QZftWqtqEfUeSOqt26RAgUSBlVpQECl/iJE/knRAfbVnZ6o1hh1XltBqJOUZ6JhDE8nYcJclYQTbf5W/DIYcRcDNgY9e51OacA4B+J8goyQxflxnBEJ5Hgr5rQN3AEAFDkO+DyJUNiHcjB4MD5118VSUbQMQSUxgPHYJRkiqENz2ATTlYJcSCWlUKxRfYcQscXFHEfLWogFJSjSFbyb4VU8iF25k5Wj2N50kF9oreXYlfWUE5Q6e8PhNgXqqQxAiVkzFKxTPB+TACnVAJk2mYrIU2NIMRcEsIc66BUB16uIh/wt6TlICh25cDIEzQBibulQ+2toyDe/cynvHt2beLcZhu0csfMurFvIs7EkdjkI8aN22Pu2NP4sUsJL6S2qEi/uTm4ApOFWRyasxiVKOWuZH1LCL1ZoVi+smMvPSqMcavSTgoFckVujtMojqcPSfLEHYkvudal4lFNu2TmBEMiLkhm0smeVlDkb4Rptw3xsFbgD2G1B5pWN5z6s6v/WnqD6goAJ4YFujZyZPElR8kj+qTviEPp8qj/gnPW9OuztPTwf0EJ1fpEgkXRMxSEZ+XMhxfGMJMtiXqS6koYr5aVGAmO7iQxVHHdf+sUeRvB+DSxo0AgE1GyNpKSCX3Ox7B0uYCSFXfsLAMSIcoDEmJA6yQOpmTHuBqgdYBWFcRVGG1MRyzFOCzwFhkm/YZZoYRcDOQwS2mIg8AO8/4E4lQVd5NSsQs0zg4lgUS77JyAaBbIuI96V0S9eJ+jl4Hcu4+D6YLJV1HMair8sUsYjyrrZ40Kr4yS2EAIefVj8eebGUpG3bCBfaVxDw6YLUgTQgREmdlzH+MemmWEI9MWyxDaJW+lUFk64yeMa2y7LEIwNnz05TYNwnMx4+aqWsc3BRGwC2BWx7QPgBg51/8MYpk7Ihbf06i+4EI91Pkfi42kowVvmc07EjvQqsKcWDvSSQ+dy4PpDvBnZDIqQL9DNFwVTzVqSVp9MxOtiaJcTCp4ci8pZPVskjx7NzULGqOmoR68HIiaQElJCqD6VONx+PPLh5zbc6LCkPj7GIYmFrg2bUzEji4PYyDtw+bA24Gn+3eTKZUYf+Vj+pTo7z36KnfjINjXg+7P/U6AFj/m58H2If9nX4ctT/3gIqszEqT2b3f0CU28uxZ5PBFTryrOqDzTWKAxPJ+PxQHLJ3OHLssy4h4qhDNd9N4QJ0rzkd+WaqPJmGzL0V2h9lEeK4W3y1JPD8pPHcuZmGqpB+IJXl6vZUcCGpCDeRRRH8xBQ5Dstl8sCwvvwQJpD0mIbW8wrRuaBwoEqmSJ3T734zXoXRNmlLy8EoSw6wwC7glRAsYYP9lP5QOBaMTCAFLn70/eBoALB79Wp60T8PxM9o4xhWT6okNBAAnpFKzWDR/AVIvxcVYHyyankRIyDIiPkaJSYUsqOZyBVklNTEQVOdqZas0PymlRKzMa7WqKVEP08xawigQ4pE5jIrheIWtezF8u3mkHN9xyYoNc73YrvVJFVA9uaoCtYNYYRpohEee8kR8aMuutgkj4K2AsxHsv/yH+6VYMgcPfvY7ZYtHvxb8vsy7daoWj3jR4uHXLx5+/RANh84vdTCkzmgHAdqTxTDmVawWUjQ/YPEiezG6nkbDmzI3Olm5gtlwRBPT1IrZSzWs42DMA0lMHzTU8DGtPT8XMazDSwecwzRuy+qVi2H6BHxTh3jC0ExJ/i2pFcL01Mg9Lp2IWNwj7n0uvz4joS2BNw7eGoyAmyGZgygGMxmgrnnws8+ne/fec97ee5+294fnCxxc1pMYeh+8X//Zs7va9Rxc1pP6JIGhOzt4+cArqAALU0bhmrMs4GV5/hmpisVPyCJfH72GoJx4TXZ8/9Ret0H5Xmn6XZJYcdBQFcb0UsfBIdx5mSMHpPcvAIDr4zvXfj1PMMIri4n4vu9+Wq5K+y7gAfd4ygO+5yl5iQJ5o3BexUfc+9w//8sbh0rj2fLrZhx8sLA54G3Bs305QvtC212hvtL1TTDGdN/7+7CzAxCme/f3YWdn7w/P3330awFg/f5fHDOg8qyVrf/8OYuHv6gP33xBKasyU7Q440QXWD7wil7PJy4H6B9Z9jgbm93ECh05WN7v0tXtJ4JMigeA5f0uYRVY3XEVWTJCHvtU45fff2F+Lqv/ci2AVisWj+D98t7PE7R9/np0sqV9QJna5T2fzVV96aVUFSm+z3WPZ62+/DJR7fIuv55UffUVZH49sl7c8bs7o+/+F6uv/3YXTnXzHgCWd/rnSdvf/V9IBnqFcSlAPKP//n9f/f3viDPQy2/7xV7Vt17jw0sx2RmEh9RDBaULeefveHoMf+2/vg6JkB++gEh+3xt49/Nfe4NIhFGtlB1NGAPc/x5PAYBP/vWbfTdYFTWFSW6mCz9nDACPuPe5H/zcjeJNFLV4fnlQe8+uG34WzOeRhmYIux0ZZoVzbv/qh3ah/jt+dnbi984zP7D/ykf57rD7xLBzsEOE+28SIIe7P/G69ft/sY/MP6wa6bCrJI6ExSNe3J3I+uYLUjz7DqeKA4szrwKA9ccv7WIWp19ZvlCr266gF67/vzzt8sGLvPr0CXbV9SO3POViVc9nrsnlC6oAYPn9z1e1fe46dUMPaYvj5fc9V1MFAKsvvFjOrjzDs7zHbxS0AcDqKy8P8sS0FMIAy3/8jAFt33hVqWLU4Fp+xy8PaPtvr8YaOiZnhnQw1B0AfMe3/7yo5+v/3+uSBmJKyi/3jeF73On8L339Dd9z56dFqS987Q15dq4WyBNKrJIe4LS7PwUAbvvrN0cvQzyv3tGA44mGWNm0UOvh9z73g5+7McmkEyIniPXEvPn1/CenPPH/vuNt7ALmlPDIU55oTNECRsBNUCJgRKg7z/zA/m89ykcerSTgAQ7+BXA7Pa1qn1SlEOg7SkLD4Fyyif/ieeR00KmSADvMwl6JB6A815HTaZcDwOpTV8oyJZcZSVqekmzl1R1Xj1SV1QpZzL2hXMm4StLyXhdAZyWDet1KmjOx5ff8xupLL9V5sciXWdLyHz9j9bV/OVIVZfTsl60MYw4W2fQ7v/3n/+4fXktoD0BlyoyfsMw97nR+F/PFr78hxo9Sm8ef2lHvl9+cuZTJywdlAlZqzghYrKF4guEQNUYvEzBW3sEIuBGMgJvAObd/1VmE6iCwHTJkd571n/Zf8UjYcd7tELoVCbjMwSEmcHCdHRxJN9nBIQYCDUNiYm4Q4yeOBrk5hH0uEJXgYyelVbHmgP06MotWq5r4ahLVVI0xpksyBXlGlimMD8eTLo7E2lwmT/LySGa65XawEA8TORiorTlWJ4s/9W7nAcCnvvzmTD4UJFjA5KRYKQ+797kA8KG/vJHUHDMxsq21E8QXEwB++L5P/AAlYJEP/okRcBvYHHBL4One2CvFiTTv91/2wzu//qf7v/UoB9771ART0+8mfePUL24DbD64i3Fu731P3/3x3wWA9b/9xb4COQeT+K6k+Mgyfm2ij9N46w8+J53L4CnnYYSChYlEfFcpuZBhDUTTaMhFF3VptVUuQm3pWvYJarXsXn8OuEPN7y6CXDDXk46HfpBRmBR3qaX0M8Fh+RU4iG8YdOGVJj7oQGM2ZarY+ciXjj27LobDkfZdwO1ffnNRIF1qcgropHjNAT70lzfmFyxKxRbLTrC7Zi6UGocMPuYHog2GTs0wF4yAmyGyb+rpAMDjzgV/u/5VC44QMJOMpNsh52AA2N/f+8PzvXOLH3vN+v2/INcq77tTb9CFHInMKSEyNDjSJ80PoaObxqrj8qmEKhnr0Vk5ioOFeElVTfZcZpA1Vd7Nwyimnoxz9s3DuC1E5Yk3+pvPASIQYOTKiTbVWKLnLp5xsCRD10pWnuVodEXl93c6KVyrmz//Fn6pCPWmayBzcBAASO9z+U+feStr/IDFpp+aoQpGwC3BGnFnBNOlpNEIBt+9gxcvfg5KAHOtzsEdb+70Ra3f93TyiIhqAUc7GPe3XSvGzdnxXr6ebyaba6wI3HVv2DvU5B/BwYOqNjNkp3FwhMYkMUv6xfuEOj9FHRlPYGKsPNBwx1aBl3oSddC9vDqGw2szkZhUcuLggu3LKj3K/K2GD/0CVR5OitWqG1WIta3hYMA0TH69VA2g18PQFEbAzYAtxdzDhqkxfQPxRaNnjQAA9j12NSca7g6dgx0H4GC/51TnnGeeZwhdLeFRTMah5aZvdIhPJ3IzhLcd8xcGY1d2dlnwuUcOAGaFl2Vo/6NmZ/HhgKpSKacqexYPkjIfxFwhHuXnxogX8rLsQpjebILng3FwripEYlWYL/MRAKFzdJP0MuHsMOUXRg/SL+PQj++gJyvfh0NafwbhRKKeEO+gn3CN8T3zdfGsieRMT4pw5JYYiEfNpS/RhSIG1HoAp8Snn8JnF06zZzV5w7ZgBNwSuRc6xneIPVoyeb3z4CPXdn1ff4i2fYaMhgEZweHTTemiGDTL6zSbGLNvjEd2cP6NO4/EE1RDTccNmMtodyDTcBrmp+yiDceFqCoSj2NorXIxj8VyY0TgjdRZslIcjscmD1LltLxRbSbG2Fefau1HUSm7o2rpnaz9mlhVtOYA3SSRfAY5eMg3kEizmx7u/8JtGu++/oS8c4BmTcD3Z9bTbZez0wgoPp1FToqoEmiEIcezJsK5lmZHSara/mXdGbunn64/6q9GEsOoHIYamsEIuBliQ9c8dSF+/zd/MDVK8MkOhs4I9iEAAL5nWY2Gve/t4PBx4IIh68A572LnlNFwmh726TvFY8uGfvPONPj9GIvDYMfd/6EhObpWTCzIpA6DxKPsvEthqlg8jhmiZCcckPozBsfOQyLtJIX4dOLtwbKHDruPz20jiX1lD0ROw0xtcSDFBlUQ73xaMTHAOFgYsCZ+TZEO+psypMYzTFTXq+95l0yH9jdmv8IrXfW+JuEGZlfcQ/xZwxRscItzP6+Dgfi+nEDJvlPF+RJ7PkK8h/C4ElXrUZUDlxIxTrA4OzpDw9ZgBNwOCv0AxNbfBdPMVRrEercPvjeCQ659ALdP/cw7xCndfTI7GLe5fmFKsksoDQPtBD3jYGzZYNdi7oXOuteajhsP+fm1VNay0eutx9NjZnDjg1GUXOi56GjAoZ+W8gjqWQvxvaqymCKjXfNCElFFwwDpfujPm2ZnhjL7ZQm9SByMwekCxThybaIrpG9IgXGDYt81KefQVempzUcaprdwnyWJxps/UC8hSPpT0GFoHx+KCH7sbN4Gq0pEL6mKYa/I8CuHGR1fS1xb4QcwNIcRcDPg5sXtA/xgvEOH+wA7sb/rOZjP+AZO7Z3SbC3V4KebMQveZudCJ4jc0V1kdDLHyJQaWJZQdRyJo+beiwEZc6hhdK3iYbqe0vAlFhSDYjw7Eh0SUTOSmyrTCXIy97wmhEsl20RSpYkVZJwW9kNhptaRmJSEsmgyqRVgeXaTAL/HfCaTGpQ88nPd3gYO1buXQmwVb9vAXV3NfC/ef4dBcW8gJ/+U6z3YoS5hKBpGFIH7U7x3gJTLxbkwZu+pMVJppsqhLCiQ1OJRIVElxaM4nt3QGkbA7VCwgANir+RxLoge52QHExr2kIxgOg0MKT188gXPPnAw4t3kf44EDP03FoCsi0zfAMECCZ1jtCFQDwuFMPCuX2BKnCWI4RMX41kSaGLZJKsj/6plOkEqlxyhcnWpDprkuCpJTCLLTkYjYFZ5OYx+IEfHkXJxoQiViaMMGsPFEnsxR8XYnYZt7uhrTh5o59LqqjAk60eaked93yJ9d4d7H+jWpV/Yx/jAuBD0IZJOJnbG3z27k8jOvgbA90dQyONRRkFV8uKHK6tl18OOxYcWK2QxtIARcFNoFnBMD3c4foM6toYxBwN2NQd+3aH+50SohHGZEQzO9atFQ2TfR2GujR5mN0i9jGVd6E/yHjYmFcIB/HKF4b5DHYNM0mJ2RUa1hlGZgyaBq5EpCzn2H8UPXhklidvEhQvuPGQn66QwocmcdxFhlwmYCWQkWiRgQIMSRw67W84H45YsiY5UDRD80T7k9Q7ShlaBgz2k+EB7gQJ7bobAxw5nBGpAA2JNwPHBbRzjsWUMYhauKrQKHwcVKTuzZSUC9iwe5zBTeAswAm4GYSZMp4rkg8UNAnGwE18d6UsuaMA0jDk4cK1P8Q4gPbMEwWCIXVgtAYceMJ4X/o6N3YW+ioWjcB+m1nDqNBQZ3F04drWdGCz5okmwRqzCWiiNCQoELARVVRoBF5Ic+g3Iz8dqJRFwCjOCzKg3z8I5FauKawsg3YckC6J5j799yt4ZiT7WO8ihtc2Jq1zvvIkc3NnNHoBskNNTrAPkke5kejaG/jtSKTNbQTFnu2FDbhljTpVUEbFeDcoOKOyEcH5zeyFkaAYj4JZIS1qQBZx5JknMPiPafsrXgfMy1wJgbu7aVlpUJdrBgFJjGPrnhpNJETq72AnWEDAgJ+dgF5yHcXbAlJP5TuUjneEqxaqkFFIsKBqtSj/HGupll0vLTrM4vGgs/xFjWEhCpioRo+7oXG3OwarVS2+hnLbZTViWCVzsetOZPiUVVPSEG9ZxeZf4rWfCneia7o1pHyi0276rT+2YNUzOeAhMn8WH+ah+iNDXpV8RJmZJ4b5nQa6MkB2pYvEgbvCcs7KhFYyA2yM9j4FoGKcyiMuYHbidrFV4iWgBmbaEgAGFYyrggOvcWDFjrC2m4YFvpYvnXbA2GQk0rPMuj6hjMikiQ02WqWo3YeI8XtTmskvpasMu9v4xe063LstOYqSAo6rk20ZTpdGwlJHnwuWW7lsXV1FDIB8XDG3fpyDD1HeiHgB2PPZRQzDCPSR27Bk6msiUxVk4CeN4yOmWZI+H4EgvESMBsnge0iIMDWEE3AzsAZv0YOW0O9zDfra5lXMxiUYilk1eaEzAgLjZk54oZQ8y8Sy4vZJyeRSmXS3rNHGqRK6cO1h8NQeXk/S4kfLDrJvJlrPotrJ4Oo4mqDLhnxZGqvBfihd+UKaqbAQ7CDYiFUCqpCwVjhZXnR0lSZztgpiP1e2I2aeCwqwJdM/z9UXv+LjmK3Fk54jGjztgAg7fIhN7zKOEofvtKeNgPvYoyAonxaVaxSyAZOLFRwIwtYcyTIARcGMID/tuQsPgyOgVe5XRB1A84NlfutSZhAF1SYPsy79dXMYFWZctOiorOZhkp2F2UZQDXX4Md04ogmevqVXN2QG9UEPsC/oFdCyvpFb9KaUw93Zw/ktGpEyTeZZK9s1qWPXNsuObmSrn1wJPuYbvnfgcnst41PWeXmzdIj72koEr28FZGFg8NW0J1/p0Kqzr0axho+EtwAi4GXpHVgjjjaIARlrDofk6D2yTZ8A0jD4+59qcdLMA/tbiIXVRRQ7OqTckpOw4CQCF+FENDXMFG3BeLSprslkWlZj1yzWWgAfF8gFTDQEzgowPYrEsNQScqUqnOZa/GYsP1cSJMmmPDheU9TXEROg7J3aKcZQmfWcEUxmIw3aiqus64oPI4RJjokXZEyerlAwSMivZ0BRGwI3R0zDeEMqlVokXAPOM+bNDaRDbD6pzus0ptusjIgEDYmKgAdzHYUmo7RADB6P4nF8dxLPgnTsVzHLFCI2Q1AMVB0DAetpYAs6TxKFMnr2GklUOBunHRb+sY9k1DtZcx+INJprL2aFGqKKqcpZKhfz6BK91F5dadi8d9w+LPmSAOH9MabX3DztKrv0IPsxKAwBfQ5K0eke0+UwmC9Oa1SzrN2wKI+BmwNsLRP+zQ09KQBxB5wsh2JaKXRaXkpzrp6zCoWccDIiACelSPzOjYciyQDUHJxsA9dfEUgEUjp1XSkAx9KCGfcWMCogRNh1D2dX08bRdaQQTJdUczA7FMOEbID+ixsEpO3cUOxYflXDy09hX5WBfkBzBwXVF59ckxDh8ZXy6DvFSBZrr4/tgfGYqinmi1qd9RMJjT4nPeyQvFONRybSV2FeTNTSBEXBjREd0T7vhAUftQVig7EtmebMdm5H56xgHA6CwRwQMgYZDH1Eygis4OMWAHGaMWxvGF3FsPANPc/nyk1qMzDOWg8cSsJaEuaGQfcqP4kh8ztB1HJyxb8EYpXSbq0JidB6k/J2pSudSk50KM4WpPikNXNq2Cm2U6QD6jUOiIOf1cNbJvZTYF1/SCEy9sjmr+aVlGUMzGAE3A3v2NzBlbwHHpw8hNShBQxrMur4pRpYNU8IyBwMm4EC0wNhX8jmDmEVh33K3G3uTvOPOw6wrGUvA2VE5wQFZMlqN8Xnm4mCo41GmixPeUHb115GSGBXhMLkfGO2h+0fLMnrAl26gw+yvAAALJUlEQVRI1/FZQYlMxtldXa4JEc6zJ80O9MrjZBIf2Bpr9kgJumQyaMsqGL6lSTBVu2E2GAE3Bt6Lo/+GnSs+vn/5GcMZYyvq+bcn153f+H+i1P7LfihwpwdwzoUNrSAQMFCixewLAM7t/tL7917zaJ5E5Nm3RMBAe5ACAQPtHQocjOOpgoosQ3DEjmiCsdRbzrLRlanJnqlSfxrZ+uS5ZMsVxaSAdLfkdx0R1rJ0jSBw8OA9PGAND2UULgsTRjHpFOqvT/onXOr8OpAkIuTzFOe8Z3kM24YTt0IxbAjn3P5F9+9CIQpw49y58tb9y8/gY2pMmTGGCwA4t/Oc/xzL2v/NHyTkGgsSsqc67PzKf4ga9v71j2r0zHsQsZcEAOd2n/J7ALB3w2NpV5IE8NWRw6mvAQDYfcLb9t7+RJIk9BYFBiLYffyNe+88V8zdkIMH1CsJpepkadIp7D7mTXvvOY/EOy4jZNeYWFQisBGKyZiJ7O9R4mCRESVhlmuAI2u8zWKhgwLsogkFoXnZCgLOLh0Po6u9vPszV195uXobK/FocVhvZ3/bXZ7xra++UhUD+O/u8gxjihYwAm6CRMDhGEDhYKBMyQKRSgHToQMHO8/9s/0X/88AsPOc/7crZP+lP8gJmOgkpQO4nX/+HwunsPfqH+c1BxB7rt3z/6Dysuzd8FiSPQ+DA4Ddc9/Ry7/17Bi/+3Nvry3lpnNYzO45N+XxXWSFtjAICNXcfcLbAAANDlJkSQ+VZxlTqnO7Z791uFbvOBdXKWl7/I29wLvO3X3cjYN6AGDv3U8JqvCPArs/86aa7ETV+54uUybA7o+/Zqy29R/9H5ztkM7FI/8lAKw/8GsAAM4tfugVJVX/+TdUn3P4Xjz0hQCw/vDzuyIWD7lWVvXxS+RBA1eIYsAtTr2U6VndcbU8GsguXR5e3uu5vZIvvBipdOw/VSvBOQBY3uNZ3/rr31RlAADg2+7xLGOKFjACbgLn3P5Fp3XBEAX5CJ1wMFAC1r51ycjE0JnFg6oAvHO7v/pHe6/6Z30VUfV2kYmMQYk5dK+/8L4+9bU/KXVAfXj3qe/Rrtjem34WAHbPe7cqEMk7aZePMHaf9C5V4VseN5A5K2L33Heq2m58fJUeClEhGnboVcmCALD7RDJGCQOOCbO/QeHjIp0/iYvh+1lWxXgFdn/q9V1g/b6nU1W6Ccgs7BBY/Mi/Yqey/pNflSo2aMv2MYv/iTPQ+oPPEQYTOXNDFg8OHCzOvIpou/UyL2ehtSUyPLw85eIuuPrMNeQ3Fd1INKjR8PLez1t9/noxiYjd6wJjihYwAm4C59z+hafhYwBp3A1u58St+5edLrOs5M6qImluFmeq0KEXuxXRRwcOHOz+8r8HgL1/9aN5p7P7S+/P7GZcnBRmYgGdVb33hp/OkzIMTwPvPvX3AWDvjY8ZkCuAUd15v7/3pg20Ueye9/vQDUGqBgOZUBax++Tf27vhcco1Z3mzvjuL2D3n7dR5kBNkroFTZgyHtW9l56pwo/IadsT5Y69Z/7tfEsgb3/O5HlLtlLT44VeuP/BrPK/g8c4rJlUV1wQA+od6xRPHZ5dfBACA5RknVrdeRmrCMuIogZGlO0BqeiKWp15qTNECRsBN4Jzbv/DULohjUwQmyxOf2L/sdNo7aI1Z4mCqTYmEpJMdCpGZKt5F5j0RiwSqlofRPVfgBvIvi1dSlbgKTMw2Jwp95bSM4k8jZC/24EI8JgD6C8pcwjhDD/MKS7c0EVays9tVZM2SfrEC3YAVC2REmN/2cpIoI14BlDSQhVSFZ9cc0XW33OLMq4wpWsBWQTcDfgC+u/s9fkl4eiRp/5IH4q1xQi7XPy7s4iF9nMnhtwgXCBj0xp9xMMkldqDyhFwWyXIBk3Fo+z1RoCpekuMVOFqoPdOReUsXNjuo1MNZRBcA9TaouJcyBo2J2i2NtZV52iFdGilmt70jr2SgZ1eoSX4ug9eBhSPyqhaEczEerx4btgAj4K0gPYwEdG8OHkwHcd/JuHGWowox0eJnjtXhvBIvBwD1ergDdbydD80jajIOMg7WegBt8F7IfHQ7k6qTHZ99wAASDqpUab84uMEboC7s5CRGk1p27sih2bk7p9wKEAfjhc2Mgwsnwuh57PXBKMjMeAMY2sMIeIvANOz0HWiCdL+BJUT5YDpDJF0UA3p3U5PEU4H2EdmIu74LyFt46t/oFgFy83d6kiQ5oO1IYMMTKdg6g2ZQjFcTiLZcSk51PAnY7UQzc0nxvh0qghGnOD5IvKucF28dLqZ7rqfmNGnlyxlZKq2+UNWBljK8VOJIt5kjCiPgZmBTJrHt4Xjn+NtMHDV2iR3s0TtYPM3bxQfbuqorwQJZ03VZ70CCWbeYnyZTSJSQPsPL8mJGUaA2+Whg8CJMyY7Saq5h2Soa7PGF20a5hfLUlJhuXOHOHAiz6jmpUFZ/PawQqhMXlJGa53XTJYWLoP9U5etJJGtS1WNDaxgBbwvYSwxoa2hZGHNw8DZ7oNu74qaM9oZlnt2y1Ruy8aYnLpkp69QEaEJeVrG3L/T+ivKTEuKv0EhPmX1zPaIIL0ikahZZlpGKK9/GhGJZdp3AgrAH6Sz4UdZMSucoXjGN+PXzqokvRYxqU4a2MAJuBtECJq9I6hPSAV5XxVRFDk458rlkHM6KzsNCNzRNhqLMvrkqRaR62F6bduQxFw1D8efjJcoHw6q0fr/AB1VTnlrRFTJcv1IlF0eymxchykh1gOLvu8kMbo2M4YBgBLwtkHczkARFnjYWtjU0xFR0QJzbVNvASo3yoNiVktQWXUyahuPbe9RM4NUrq9blhFBBaKRsdhOOupdyW1ZQ7IRD0FK52u5PGtJKpdRWSckbD0e1mhoLWIkzHAYYAW8XKkdmDArZW4FZ3nzhNENpoC0fDKdOlBmRNoDj25XMd+b1mgqMMqiutpQKv8hcMuWRh3Kyrma8sh2ZYQW6RMHxYDg4GAG3ghOdyYRQcYJmB3u5TdbkhUnep02zjM8+Fse36zh8Zz6BZadI1fPKkND4Cle/tnJIbnM9s/3+h+9GOq6wnbCaoGrUbDAYDEcExhQtYARsMBgMBsMBYOegK2AwGAwGw3GEEbDBYDAYDAcAI2CDwWAwGA4AR3sVtK11MhgMhmOLo76G6WgTMACc/ps3OwcOwIF3aN9157yD7DC9ZCwdOgDAh/3T+T4eJoEk02+SEyJ9KqiP94Cyd9oAZRfqlg7RudDDvG4VVQWIAuww1K1Y1X4rAkfrBjCpqp1Aqio5rKgq/6XyulVVVf3h/EBVUzXIDxeylG4qoarkhgk3Fb1J5KqiugGEB8TF7+7tWxt8O1/UX/M9XErDU3DNK1/xvUEd3OZ1GCilYeXBe9ey8u76O+CIw1zQBoPBYDAcAIyADQaDwWA4ABgBGwwGg8FwADACNhgMBoPhAGAEbDAYDAbDAcAI2GAwGAyGA4ARsMFgMBgMBwAjYIPBYDAYDgBH+21IthOWwWAwHFscaf6Ck2AnrKP+AxgMBoNhAk4CA8xc0AaDwWAwHACMgA0Gg8FgOAAYARsMBoPBcAA42ouwDAaDwWA4ojjaFrBz7iSYhzcYDAbDBBz1/v8IE7BzznvvvT/qv4HBYDAYxuIk6PmPMAEbDAaD4djiJJg/NQI2GAwGg+EAYARsMBgMBsMBwAjYYDAYDIYDwBHeijIuvzoJZgIMBoPBcNxgzwEbDAaDwXAAMBe0wWAwGAwHACNgg8FgMBgOAEbABoPBYDAcAIyADQaDwWA4ABgBGwwGg8FwADACNhgMBoPhAPD/AzGNnQhoWzSgAAAAAElFTkSuQmCC'>"
      ],
      "text/plain": [
       "<IPython.core.display.HTML object>"
      ]
     },
     "metadata": {},
     "output_type": "display_data"
    }
   ],
   "source": [
    "velmax = np.amax(velocityField.data[:])\n",
    "if(velmax==0.0): velmax = 1.0\n",
    "fig1 = glucifer.Figure()\n",
    "fig1.append( glucifer.objects.Surface(mesh, temperatureField) )\n",
    "fig1.append( glucifer.objects.VectorArrows( mesh, velocityField/velmax, scaling=0.1, arrowHead=0.2 ) )\n",
    "fig1.show()"
   ]
  },
  {
   "cell_type": "markdown",
   "metadata": {},
   "source": [
    "**Calculate quantities for benchmark comparison**"
   ]
  },
  {
   "cell_type": "code",
   "execution_count": 23,
   "metadata": {
    "collapsed": true
   },
   "outputs": [],
   "source": [
    "tempAv = Avg_tempVal[-1]\n",
    "nuTop = nu1Val[-1]\n",
    "nuBot = nu0Val[-1]\n",
    "uRMS = vrmsVal[-1]\n",
    "uSurfRMS = Rms_surfVal[-1]\n",
    "uSurfMax = Max_vx_surfVal[-1]\n",
    "etaMin = etaminVal[-1]\n",
    "etaMax = etamaxVal[-1]\n",
    "workDone = GravworkVal[-1]\n",
    "phi = viscdisVal[-1]/100.\n",
    "delta = abs(workDone - phi)/max(workDone, phi) * 100."
   ]
  },
  {
   "cell_type": "markdown",
   "metadata": {},
   "source": [
    "**Output all quantities for this case**"
   ]
  },
  {
   "cell_type": "code",
   "execution_count": 24,
   "metadata": {
    "collapsed": false
   },
   "outputs": [
    {
     "name": "stdout",
     "output_type": "stream",
     "text": [
      "<T>        = 0.5994\n",
      "Nu_top     = 8.4725\n",
      "Nu_bot     = 8.5376\n",
      "u_rms      = 138.8999\n",
      "u^surf_rms = 103.7922\n",
      "u^surf_max = 120.8130\n",
      "eta_min    = 1.9854e-05\n",
      "eta_max    = 1.6723\n",
      "W          = 7.5235\n",
      "Phi        = 7.5241\n",
      "delta      = 0.0070%\n"
     ]
    }
   ],
   "source": [
    "print('<T>        = {0:.4f}'.format(tempAv))\n",
    "print('Nu_top     = {0:.4f}'.format(nuTop))\n",
    "print('Nu_bot     = {0:.4f}'.format(nuBot))\n",
    "print('u_rms      = {0:.4f}'.format(uRMS))\n",
    "print('u^surf_rms = {0:.4f}'.format(uSurfRMS))\n",
    "print('u^surf_max = {0:.4f}'.format(uSurfMax))\n",
    "print('eta_min    = {0:.4e}'.format(etaMin))\n",
    "print('eta_max    = {0:.4f}'.format(etaMax))\n",
    "print('W          = {0:.4f}'.format(workDone))\n",
    "print('Phi        = {0:.4f}'.format(phi))\n",
    "print('delta      = {0:.4f}%'.format(delta))"
   ]
  },
  {
   "cell_type": "markdown",
   "metadata": {},
   "source": [
    "**Comparison values from Tosi et al. (2015)**\n",
    "\n",
    "The expected benchmark values from Table 2 of Tosi et al. (2015) for case 2 are given in the table below. The minimum and maximum values from each of the participating codes are given here to provide an expected range for each quantity.\n",
    "\n",
    "| Case 2  | $<$$T$$>$ | $Nu_{top}$ | $Nu_{bot}$ | $u_{RMS}$ | $u_{RMS}^{surf}$ | $u_{max}^{surf}$ | $\\eta_{min}$ | $\\eta_{max}$ | $<$$W$$>$ |  $<$$\\Phi$$>$/Ra | $\\delta$ |\n",
    "|:--------|:---------:|:----------:|:----------:|:---------:|:----------------:|:----------------:|:------------:|:------------:|:------------:|:------------------:|:--------:|\n",
    "| Min     | 0.6027 | 8.5217 | 8.5217 | 140.1871 | 102.8500 | 119.4120 | 1.9850$\\times 10^{-5}$ | 1.0400 | 7.5199 | 7.4690 | $<$0.01% |\n",
    "| Max     | 0.6071 | 8.7475 | 8.6489 | 143.8518 | 105.1767 | 122.9754 | 2.0800$\\times 10^{-5}$ | 1.9421 | 7.6400 | 7.6422 | 0.68% |\n",
    "\n",
    "Note that the values from the spectral code MC3D are not used to construct the min/max values here, as they are outlier values."
   ]
  }
 ],
 "metadata": {
  "kernelspec": {
   "display_name": "Python 2",
   "language": "python",
   "name": "python2"
  },
  "language_info": {
   "codemirror_mode": {
    "name": "ipython",
    "version": 2
   },
   "file_extension": ".py",
   "mimetype": "text/x-python",
   "name": "python",
   "nbconvert_exporter": "python",
   "pygments_lexer": "ipython2",
   "version": "2.7.10"
  }
 },
 "nbformat": 4,
 "nbformat_minor": 0
}
