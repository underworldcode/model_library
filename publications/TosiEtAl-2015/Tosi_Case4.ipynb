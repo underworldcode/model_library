{
 "cells": [
  {
   "cell_type": "markdown",
   "metadata": {
    "collapsed": true
   },
   "source": [
    "Viscoplastic thermal convection in a 2-D square box: Tosi et al. 2015\n",
    "=====\n",
    "\n",
    "This series of notebooks generates benchmark models from the Tosi et al. (2015) in Underworld2. The Underworld2 results are then directly compared to the results from Table 2 of Tosi et al. (2015) the paper for each case. The notebooks are broken into a general notebook for reproducing the models from scratch and 5 post-analysis notebooks which look at the results Underworld2 gives for each case after running to equilibrium. \n",
    "\n",
    "Case 4: Mobile lid (larger viscosity contrast)\n",
    "-------\n",
    "\n",
    "This case has a temperatureand strain rate-dependent nonlinear rheology, like case 2, but with a larger value for the depth-dependent viscosity contrast ($\\Delta \\eta_y$).\n",
    "The parameters used for case 4 are: $Ra = 10^2$, $\\Delta \\eta_T = 10^5$, $\\eta^* = 10^{-3}$, $\\Delta \\eta_z = 10$ and $\\sigma_\\gamma = 1$.\n",
    "\n",
    "\n",
    "References\n",
    "-----\n",
    "\n",
    "1. Tosi, Nicola and Stein, Claudia and Noack, Lena and H&uuml;ttig, Christian and Maierov&aacute;, Petra and Samuel, Henri and Davies, DR and Wilson, CR and Kramer, SC and Thieulot, Cedric and others. 2015. _A community benchmark for viscoplastic thermal convection in a 2-D square box_.\n",
    "\n"
   ]
  },
  {
   "cell_type": "markdown",
   "metadata": {},
   "source": [
    "Load python functions needed for underworld. Some additional python functions from os, math and numpy used later on."
   ]
  },
  {
   "cell_type": "code",
   "execution_count": 1,
   "metadata": {
    "collapsed": false
   },
   "outputs": [],
   "source": [
    "%matplotlib inline\n",
    "import underworld as uw\n",
    "import math\n",
    "from underworld import function as fn\n",
    "import glucifer\n",
    "import matplotlib.pyplot as pyplot\n",
    "import matplotlib.pylab as pylab\n",
    "import time\n",
    "import numpy as np\n",
    "import os"
   ]
  },
  {
   "cell_type": "markdown",
   "metadata": {},
   "source": [
    "Set physical constants and parameters, including the Rayleigh number (*Ra*) and viscosity constants ($\\eta^*$ and $\\eta_T$) which are common to all Tosi et al cases."
   ]
  },
  {
   "cell_type": "code",
   "execution_count": 2,
   "metadata": {
    "collapsed": false
   },
   "outputs": [],
   "source": [
    "RA  = 1e2        # Rayleigh number\n",
    "ETA_T = 1e5      # common viscosity constant\n",
    "TS  = 0          # surface temperature\n",
    "TB  = 1          # bottom boundary temperature (melting point)\n",
    "ETA0 = 1e-3      # viscosity constant eta^* in Tosi et al\n",
    "TMAX = 3.0\n",
    "IMAX = 1000"
   ]
  },
  {
   "cell_type": "markdown",
   "metadata": {},
   "source": [
    "Select case 2 of Tosi et al (2015) and set constants as required."
   ]
  },
  {
   "cell_type": "code",
   "execution_count": 3,
   "metadata": {
    "collapsed": false
   },
   "outputs": [],
   "source": [
    "CASE = 4\n",
    "ETA_Y = 10.\n",
    "YSTRESS = 1."
   ]
  },
  {
   "cell_type": "markdown",
   "metadata": {},
   "source": [
    "Set input and output file directories"
   ]
  },
  {
   "cell_type": "code",
   "execution_count": 4,
   "metadata": {
    "collapsed": false
   },
   "outputs": [],
   "source": [
    "# input file directory\n",
    "inputPath  = 'TosiInput/case' + str(CASE) + \"/\"\n",
    "# output files\n",
    "outputPath = 'TosiOutput/'\n",
    "filePath   = outputPath+'files'\n",
    "# make directories if they don't exist\n",
    "if not os.path.isdir(outputPath):\n",
    "    os.makedirs(outputPath)\n",
    "if not os.path.isdir(filePath):\n",
    "    os.makedirs(filePath)"
   ]
  },
  {
   "cell_type": "markdown",
   "metadata": {},
   "source": [
    "Create mesh and finite element variables\n",
    "------\n",
    "\n",
    "Set up mesh and field variables that are solved on the mesh."
   ]
  },
  {
   "cell_type": "code",
   "execution_count": 5,
   "metadata": {
    "collapsed": false
   },
   "outputs": [],
   "source": [
    "res = 128\n",
    "mesh = uw.mesh.FeMesh_Cartesian( elementType = (\"Q1/dQ0\"), \n",
    "                                 elementRes  = (res, res), \n",
    "                                 minCoord    = (0., 0.), \n",
    "                                 maxCoord    = (1., 1.))\n",
    "\n",
    "velocityField       = uw.mesh.MeshVariable( mesh=mesh,         nodeDofCount=2 )\n",
    "pressureField       = uw.mesh.MeshVariable( mesh=mesh.subMesh, nodeDofCount=1 )\n",
    "temperatureField    = uw.mesh.MeshVariable( mesh=mesh,         nodeDofCount=1 )\n",
    "temperatureDotField = uw.mesh.MeshVariable( mesh=mesh,         nodeDofCount=1 )"
   ]
  },
  {
   "cell_type": "markdown",
   "metadata": {},
   "source": [
    "Set initial conditions and boundary conditions\n",
    "----------\n",
    "\n",
    "Load all variable fields and summary data with data from previously run cases."
   ]
  },
  {
   "cell_type": "code",
   "execution_count": 6,
   "metadata": {
    "collapsed": false
   },
   "outputs": [],
   "source": [
    "# load fields\n",
    "temperatureField.load(    inputPath+'temperatureField.h5' )\n",
    "temperatureDotField.load( inputPath+'temperatureDotField.h5' )\n",
    "pressureField.load(       inputPath+'pressureField.h5')\n",
    "velocityField.load(       inputPath+'velocityField.h5')\n",
    "\n",
    "# load past iterations of summary data\n",
    "data = np.loadtxt( inputPath+'Summary.txt', unpack=True )\n",
    "stepsVal = data[0].tolist()\n",
    "timeVal = data[1].tolist()\n",
    "viscdisVal = data[2].tolist()\n",
    "nu0Val = data[3].tolist()\n",
    "nu1Val = data[4].tolist()\n",
    "Avg_tempVal = data[5].tolist()\n",
    "vrmsVal = data[6].tolist()\n",
    "Rms_surfVal = data[7].tolist()\n",
    "Max_vx_surfVal = data[8].tolist()\n",
    "GravworkVal = data[9].tolist()\n",
    "etamaxVal = data[10].tolist()\n",
    "etaminVal = data[11].tolist() "
   ]
  },
  {
   "cell_type": "markdown",
   "metadata": {},
   "source": [
    "**Conditions on the boundaries**"
   ]
  },
  {
   "cell_type": "code",
   "execution_count": 7,
   "metadata": {
    "collapsed": true
   },
   "outputs": [],
   "source": [
    "iWalls = mesh.specialSets[\"MinI_VertexSet\"] + mesh.specialSets[\"MaxI_VertexSet\"]\n",
    "jWalls = mesh.specialSets[\"MinJ_VertexSet\"] + mesh.specialSets[\"MaxJ_VertexSet\"]\n",
    "freeslipBC = uw.conditions.DirichletCondition( variable      = velocityField, \n",
    "                                               indexSetsPerDof = (iWalls, jWalls) )\n",
    "tempBC     = uw.conditions.DirichletCondition( variable      = temperatureField, \n",
    "                                               indexSetsPerDof = (jWalls,) )"
   ]
  },
  {
   "cell_type": "markdown",
   "metadata": {
    "collapsed": false
   },
   "source": [
    "Set up material parameters and functions\n",
    "-----\n"
   ]
  },
  {
   "cell_type": "markdown",
   "metadata": {},
   "source": [
    "**Viscosity field**\n",
    "\n",
    "The viscosity is a function of temperature ($T$), the vertical coordinate ($z$) and the strain rate ($\\dot{\\epsilon}$) and is given by\n",
    "\n",
    "$$\n",
    "    \\eta(T, z, \\dot{\\epsilon}) = 2 \\left( \\frac{1}{\\eta_{lin}(T,z)} + \\frac{1}{\\eta_{plast}(\\dot{\\epsilon})} \\right)^{-1}\n",
    "$$\n",
    "\n",
    "where the linear part is\n",
    "\n",
    "$$\n",
    "    \\eta_{lin}(T, z) = \\exp(-\\gamma_T T + \\gamma_z z)\n",
    "$$\n",
    "\n",
    "with $\\gamma_T = \\ln(\\Delta \\eta_T)$ and $\\gamma_z = \\ln(\\Delta \\eta_z)$. The nonlinear part is\n",
    "\n",
    "$$\n",
    "    \\eta_{plast}(\\dot{\\epsilon}) = \\eta^* + \\frac{\\sigma_{\\gamma}}{\\sqrt{\\dot{\\epsilon} : \\dot{\\epsilon}}}\n",
    "$$\n",
    "\n",
    "where $\\eta^*$ is the effective viscosity at high stresses and $\\sigma_{\\gamma}$ is the yield stress. The values of $\\Delta \\eta_T$, $\\Delta \\eta_z$, $\\eta^*$ and $\\sigma_{\\gamma}$ are assumed to be constant with values dependent on the particular case."
   ]
  },
  {
   "cell_type": "markdown",
   "metadata": {},
   "source": [
    "**Create variables required for plasticity calculations**"
   ]
  },
  {
   "cell_type": "code",
   "execution_count": 8,
   "metadata": {
    "collapsed": false
   },
   "outputs": [],
   "source": [
    "secinv = fn.tensor.second_invariant( fn.tensor.symmetric( velocityField.fn_gradient ) )\n",
    "coordinate = fn.coord()"
   ]
  },
  {
   "cell_type": "markdown",
   "metadata": {},
   "source": [
    "**Setup viscosity functions**\n",
    "\n",
    "Remember to use floats everywhere when setting up functions"
   ]
  },
  {
   "cell_type": "code",
   "execution_count": 9,
   "metadata": {
    "collapsed": false
   },
   "outputs": [],
   "source": [
    "viscosityl1 = fn.math.exp(math.log(ETA_T)*-1.*temperatureField)\n",
    "viscosityl2 = fn.math.exp((math.log(ETA_T)*-1.*temperatureField) + (1.-coordinate[1])*math.log(ETA_Y))\n",
    "\n",
    "#Von Mises effective viscosity\n",
    "viscosityp = ETA0 + YSTRESS/(secinv/math.sqrt(0.5)) #extra factor to account for underworld second invariant form\n",
    "\n",
    "if CASE == 1:\n",
    "    fn_viscosity = viscosityl1\n",
    "elif CASE == 2:\n",
    "    fn_viscosity = 2./(1./viscosityl1 + 1./viscosityp)\n",
    "elif CASE == 3:\n",
    "    fn_viscosity = viscosityl2\n",
    "else:\n",
    "    fn_viscosity = 2./(1./viscosityl2 + 1./viscosityp)"
   ]
  },
  {
   "cell_type": "markdown",
   "metadata": {},
   "source": [
    "**Add functions for density and buoyancy**"
   ]
  },
  {
   "cell_type": "code",
   "execution_count": 10,
   "metadata": {
    "collapsed": true
   },
   "outputs": [],
   "source": [
    "densityFn = RA*temperatureField\n",
    "\n",
    "# define our vertical unit vector using a python tuple (this will be automatically converted to a function)\n",
    "z_hat = ( 0.0, 1.0 )\n",
    "\n",
    "# now create a buoyancy force vector using the density (FEvariable) and the vertical unit vector. \n",
    "buoyancyFn = densityFn * z_hat"
   ]
  },
  {
   "cell_type": "markdown",
   "metadata": {},
   "source": [
    "Build the Stokes system and solvers\n",
    "------\n",
    "\n",
    "Setup the Stokes system with linear or nonlinear visocity viscosity depending on case."
   ]
  },
  {
   "cell_type": "code",
   "execution_count": 11,
   "metadata": {
    "collapsed": false
   },
   "outputs": [],
   "source": [
    "stokes = uw.systems.Stokes(velocityField=velocityField, \n",
    "                              pressureField=pressureField,\n",
    "                              conditions=[freeslipBC,],\n",
    "                              fn_viscosity=fn.exception.SafeMaths(fn_viscosity), \n",
    "                              fn_bodyforce=buoyancyFn)"
   ]
  },
  {
   "cell_type": "markdown",
   "metadata": {},
   "source": [
    "Setup solver for the Stokes system of equations"
   ]
  },
  {
   "cell_type": "code",
   "execution_count": 12,
   "metadata": {
    "collapsed": false
   },
   "outputs": [],
   "source": [
    "solver = uw.systems.Solver( stokes )"
   ]
  },
  {
   "cell_type": "markdown",
   "metadata": {},
   "source": [
    "We do one solve for initial pressure and velocity with linear viscosity to get the initial strain rate invariant. This solve step also calculates a 'guess' of the the velocity field based on the linear system, which is used later in the non-linear solver."
   ]
  },
  {
   "cell_type": "code",
   "execution_count": 13,
   "metadata": {
    "collapsed": false
   },
   "outputs": [],
   "source": [
    "solver.solve( nonLinearIterate=False )"
   ]
  },
  {
   "cell_type": "markdown",
   "metadata": {},
   "source": [
    "Create an advective-diffusive system\n",
    "-----\n",
    "\n",
    "Setup the system in underworld by flagging the temperature and velocity field variables."
   ]
  },
  {
   "cell_type": "code",
   "execution_count": 14,
   "metadata": {
    "collapsed": false
   },
   "outputs": [],
   "source": [
    "advDiff = uw.systems.AdvectionDiffusion( temperatureField, temperatureDotField, velocityField,\n",
    "                                         fn_diffusivity=1., conditions=[tempBC,] )"
   ]
  },
  {
   "cell_type": "markdown",
   "metadata": {},
   "source": [
    "Metrics for benchmark\n",
    "-----\n",
    "\n",
    "Define diagnostic functions to be used in the time loop and/or measured after reaching steady state:\n",
    "\n",
    "* Average temperature\n",
    "$$  \\langle T \\rangle  = \\int^1_0 \\int^1_0 T \\, dxdy $$\n",
    "* Top and bottom Nusselt numbers\n",
    "$$Nu_{top/bot} = - \\left. \\int^1_0 \\frac{\\partial T}{\\partial y} \\right|_{y=1/y=0} \\, dx$$\n",
    "* RMS velocity over the whole domain, surface and max velocity at surface\n",
    "$$u_{RMS} = \\left( \\int_0^1 \\int_0^1 \\left( u_x^2 + u_y^2 \\right) dx dy \\right)^{1/2}$$\n",
    "$$u_{RMS}^{surf} = \\left( \\left. \\int_0^1 u_x^2\\right|_{y=1} dx \\right)^{1/2}$$\n",
    "$$u_{max}^{surf} = \\left. \\max(u_x)\\right|_{y=1}$$\n",
    "* max and min viscosity over the whole domain\n",
    "$$\\eta_{max/min} = \\max / \\min \\left( \\eta\\left(x,y\\right) \\right)$$\n",
    "* average rate of work done against gravity\n",
    "$$\\langle W \\rangle = \\int^1_0 \\int^1_0 T u_y \\, dx dy$$\n",
    "* and the average rate of viscous dissipation\n",
    "$$\\langle \\Phi \\rangle = \\int^1_0 \\int^1_0 \\tau_{ij} \\dot \\epsilon_{ij} \\, dx dy$$\n",
    "\n",
    "* In steady state, if thermal energy is accurately conserved, the difference between $\\langle W \\rangle$ and $\\langle \\Phi \\rangle / Ra$ must vanish, so also reported is the percentage error: \n",
    "\n",
    "$$ \\delta = \\frac{\\lvert \\langle W \\rangle - \\frac{\\langle \\Phi \\rangle}{Ra} \\rvert}{max \\left(  \\langle W \\rangle,  \\frac{\\langle \\Phi \\rangle}{Ra}\\right)} \\times 100% $$"
   ]
  },
  {
   "cell_type": "markdown",
   "metadata": {},
   "source": [
    "**Setup volume integrals used in metric functions**"
   ]
  },
  {
   "cell_type": "code",
   "execution_count": 15,
   "metadata": {
    "collapsed": false
   },
   "outputs": [],
   "source": [
    "# temperature\n",
    "tempint = uw.utils.Integral( temperatureField, mesh )\n",
    "# area\n",
    "areaint = uw.utils.Integral( 1.,               mesh )\n",
    "# velocity squared\n",
    "v2int   = uw.utils.Integral(fn.math.dot(velocityField,velocityField), mesh)\n",
    "# work done\n",
    "dwint   = uw.utils.Integral(temperatureField*velocityField[1], mesh)\n",
    "# viscous dissipation\n",
    "sinner = fn.math.dot(secinv,secinv)\n",
    "vdint = uw.utils.Integral((4.*fn_viscosity*sinner), mesh)"
   ]
  },
  {
   "cell_type": "markdown",
   "metadata": {},
   "source": [
    "**Setup surface integrals used in metric functions**"
   ]
  },
  {
   "cell_type": "code",
   "execution_count": 16,
   "metadata": {
    "collapsed": false
   },
   "outputs": [],
   "source": [
    "rmsSurfInt = uw.utils.Integral( fn=velocityField[0]*velocityField[0], mesh=mesh, integrationType='Surface', \n",
    "                          surfaceIndexSet=mesh.specialSets[\"MaxJ_VertexSet\"])\n",
    "nuTop      = uw.utils.Integral( fn=temperatureField.fn_gradient[1], mesh=mesh, integrationType='Surface', \n",
    "                          surfaceIndexSet=mesh.specialSets[\"MaxJ_VertexSet\"])\n",
    "nuBottom   = uw.utils.Integral( fn=temperatureField.fn_gradient[1], mesh=mesh, integrationType='Surface', \n",
    "                          surfaceIndexSet=mesh.specialSets[\"MinJ_VertexSet\"])"
   ]
  },
  {
   "cell_type": "markdown",
   "metadata": {},
   "source": [
    "**Define diagnostic functions using integrals**"
   ]
  },
  {
   "cell_type": "code",
   "execution_count": 17,
   "metadata": {
    "collapsed": false
   },
   "outputs": [],
   "source": [
    "def avg_temp():\n",
    "    return tempint.evaluate()[0]/areaint.evaluate()[0]\n",
    "\n",
    "def nusseltTB(temp_field, mesh):\n",
    "    return -nuTop.evaluate()[0], -nuBottom.evaluate()[0]\n",
    "\n",
    "def rms():\n",
    "    return math.sqrt(v2int.evaluate()[0]/areaint.evaluate()[0])\n",
    "\n",
    "def rms_surf():\n",
    "    return math.sqrt(rmsSurfInt.evaluate()[0])\n",
    "\n",
    "def max_vx_surf(velfield, mesh):\n",
    "    vuvelxfn = fn.view.min_max(velfield[0])\n",
    "    vuvelxfn.evaluate(mesh.specialSets[\"MaxJ_VertexSet\"])\n",
    "    return vuvelxfn.max_global()\n",
    "\n",
    "def gravwork(workfn):\n",
    "    return workfn.evaluate()[0]\n",
    "\n",
    "def viscdis(vdissfn):\n",
    "    return vdissfn.evaluate()[0]\n",
    "\n",
    "def visc_extr(viscfn):\n",
    "    vuviscfn = fn.view.min_max(viscfn)\n",
    "    vuviscfn.evaluate(mesh)\n",
    "    return vuviscfn.max_global(), vuviscfn.min_global()"
   ]
  },
  {
   "cell_type": "code",
   "execution_count": 18,
   "metadata": {
    "collapsed": false
   },
   "outputs": [],
   "source": [
    "#Fields for saving data / fields\n",
    "rmsField = uw.mesh.MeshVariable( mesh=mesh, nodeDofCount=1 )\n",
    "rmsfn    = fn.math.sqrt( fn.math.dot( velocityField, velocityField ) )\n",
    "rmsdata  = rmsfn.evaluate( mesh )\n",
    "rmsField.data[:] = rmsdata \n",
    "\n",
    "viscField = uw.mesh.MeshVariable( mesh=mesh, nodeDofCount=1 )\n",
    "viscdata  = fn_viscosity.evaluate( mesh )\n",
    "viscField.data[:] = viscdata\n",
    "\n",
    "stressField = uw.mesh.MeshVariable( mesh=mesh, nodeDofCount=1)\n",
    "srtdata     = fn.tensor.second_invariant( fn.tensor.symmetric( velocityField.fn_gradient ) )\n",
    "rostfield   = srtdata.evaluate( mesh )\n",
    "stressinv   = 2*viscdata*rostfield[:]\n",
    "stressField.data[:] = stressinv"
   ]
  },
  {
   "cell_type": "markdown",
   "metadata": {},
   "source": [
    "Main simulation loop\n",
    "------\n",
    "\n",
    "Normally a loop over time increments would be added here. As we are only interested in the post-analysis a single time step will be taken to ensure that all analysis fields are live. This step will involve the non-linear Stokes system solver."
   ]
  },
  {
   "cell_type": "code",
   "execution_count": 19,
   "metadata": {
    "collapsed": false
   },
   "outputs": [],
   "source": [
    "steps_todo = 1"
   ]
  },
  {
   "cell_type": "markdown",
   "metadata": {
    "collapsed": false
   },
   "source": [
    "Initialise steps and time. Set to zero unless loading values from file."
   ]
  },
  {
   "cell_type": "code",
   "execution_count": 20,
   "metadata": {
    "collapsed": false
   },
   "outputs": [
    {
     "name": "stdout",
     "output_type": "stream",
     "text": [
      "This model has previously completed  48900 steps to get to time = 0.564\n"
     ]
    }
   ],
   "source": [
    "try:\n",
    "    realtime = timeVal[-1]\n",
    "    step = int(stepsVal[-1])\n",
    "except:\n",
    "    realtime = 0.0\n",
    "    step = 0\n",
    "steps_end = step + steps_todo\n",
    "steps_output = 100\n",
    "steps_output = max(steps_output,1)\n",
    "print('This model has previously completed {0:6d} steps to get to time = {1:.3f}'.format(step,realtime))"
   ]
  },
  {
   "cell_type": "code",
   "execution_count": 21,
   "metadata": {
    "collapsed": false
   },
   "outputs": [],
   "source": [
    "# initialise timer for computation\n",
    "start = time.clock()\n",
    "# start loop\n",
    "while step < steps_end:\n",
    "    # Solve non-linear system\n",
    "    solver.solve(nonLinearIterate=True)\n",
    "    dt = advDiff.get_max_dt()\n",
    "    if step == 0:\n",
    "        dt = 0.\n",
    "    # Advect using this timestep size   \n",
    "    advDiff.integrate(dt)\n",
    "    # Increment\n",
    "    realtime += dt\n",
    "    step += 1\n",
    "    # Calculate the Metrics, only on 1 of the processors:\n",
    "    Avg_temp = avg_temp()\n",
    "    Rms = rms()\n",
    "    Rms_surf = rms_surf()\n",
    "    Max_vx_surf = max_vx_surf(velocityField, mesh)\n",
    "    Gravwork = gravwork(dwint)\n",
    "    Viscdis = viscdis(vdint)\n",
    "    nu1, nu0 = nusseltTB(temperatureField, mesh) # return top then bottom\n",
    "    etamax, etamin = visc_extr(fn_viscosity)\n",
    "    # store results\n",
    "    stepsVal.append(       step)\n",
    "    timeVal.append(        realtime )\n",
    "    viscdisVal.append(     Viscdis )\n",
    "    nu0Val.append(         nu0 )\n",
    "    nu1Val.append(         nu1 )\n",
    "    Avg_tempVal.append(    Avg_temp )\n",
    "    vrmsVal.append(        Rms )\n",
    "    Rms_surfVal.append(    Rms_surf )\n",
    "    Max_vx_surfVal.append( Max_vx_surf )\n",
    "    GravworkVal.append(    Gravwork )\n",
    "    etamaxVal.append(      etamax )\n",
    "    etaminVal.append(      etamin )\n",
    "\n",
    "    # output fields and summary info to file (output graphics can also be added here)\n",
    "    if uw.rank()==0:\n",
    "        if (step % steps_output == 0) or (step == steps_end-1):\n",
    "            print 'step =',step, '; CPU time =', time.clock()-start, '; vrms = ',Rms\n",
    "            # Temperature\n",
    "            fnametemp = \"temperatureField_\" + str(step).zfill(6) + \".h5\"\n",
    "            fullpath = os.path.join(outputPath + \"files/\" + fnametemp)\n",
    "            temperatureField.save(fullpath)\n",
    "            # Temperature time derivative\n",
    "            fnametemp = \"temperatureDotField_\" + str(step).zfill(6) + \".h5\"\n",
    "            fullpath = os.path.join(outputPath + \"files/\" + fnametemp)\n",
    "            temperatureDotField.save(fullpath)\n",
    "            # Pressure\n",
    "            fnametemp = \"pressureField_\" + str(step).zfill(6) + \".h5\"\n",
    "            fullpath = os.path.join(outputPath + \"files/\" + fnametemp)\n",
    "            pressureField.save(fullpath)\n",
    "            # Velocity\n",
    "            fnametemp = \"velocityField_\" + str(step).zfill(6) + \".h5\"\n",
    "            fullpath = os.path.join(outputPath + \"files/\" + fnametemp)\n",
    "            velocityField.save(fullpath)\n",
    "\n",
    "            np.savetxt( outputPath + 'Summary.txt', np.c_[stepsVal, timeVal, viscdisVal, nu0Val, \n",
    "                                                          nu1Val, Avg_tempVal, vrmsVal, Rms_surfVal,\n",
    "                                                         Max_vx_surfVal, GravworkVal, etamaxVal, etaminVal], \n",
    "                   header=\"Steps, Time, visc, Nusselt bottom/top, av_T, vrms, surf_rms, surf_max, grav, etamax, etamin\" )"
   ]
  },
  {
   "cell_type": "markdown",
   "metadata": {},
   "source": [
    "Post-simulation analysis\n",
    "-------\n",
    "\n",
    "Here we will calculate the quantities specified for this case in Tosi et al. (2015) and finally compare them to the values given in their Table 2."
   ]
  },
  {
   "cell_type": "markdown",
   "metadata": {},
   "source": [
    "**Plot final temperature and velocity fields**"
   ]
  },
  {
   "cell_type": "code",
   "execution_count": 22,
   "metadata": {
    "collapsed": false
   },
   "outputs": [
    {
     "data": {
      "text/html": [
       "<img src='data:image/png;base64,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'>"
      ],
      "text/plain": [
       "<IPython.core.display.HTML object>"
      ]
     },
     "metadata": {},
     "output_type": "display_data"
    }
   ],
   "source": [
    "velmax = np.amax(velocityField.data[:])\n",
    "if(velmax==0.0): velmax = 1.0\n",
    "fig1 = glucifer.Figure()\n",
    "fig1.append( glucifer.objects.Surface(mesh, temperatureField) )\n",
    "fig1.append( glucifer.objects.VectorArrows(mesh, velocityField/velmax, scaling=0.1, arrowHead=0.2) )\n",
    "fig1.show()"
   ]
  },
  {
   "cell_type": "markdown",
   "metadata": {},
   "source": [
    "**Calculate quantities for benchmark comparison**"
   ]
  },
  {
   "cell_type": "code",
   "execution_count": 23,
   "metadata": {
    "collapsed": true
   },
   "outputs": [],
   "source": [
    "tempAv = Avg_tempVal[-1]\n",
    "nuTop = nu1Val[-1]\n",
    "nuBot = nu0Val[-1]\n",
    "uRMS = vrmsVal[-1]\n",
    "uSurfRMS = Rms_surfVal[-1]\n",
    "uSurfMax = Max_vx_surfVal[-1]\n",
    "etaMin = etaminVal[-1]\n",
    "etaMax = etamaxVal[-1]\n",
    "workDone = GravworkVal[-1]\n",
    "phi = viscdisVal[-1]/100.\n",
    "delta = abs(workDone - phi)/max(workDone, phi) * 100."
   ]
  },
  {
   "cell_type": "markdown",
   "metadata": {},
   "source": [
    "**Output all quantities for this case**"
   ]
  },
  {
   "cell_type": "code",
   "execution_count": 24,
   "metadata": {
    "collapsed": false
   },
   "outputs": [
    {
     "name": "stdout",
     "output_type": "stream",
     "text": [
      "<T>        = 0.5281\n",
      "Nu_top     = 6.6091\n",
      "Nu_bot     = 6.5811\n",
      "u_rms      = 79.1966\n",
      "u^surf_rms = 75.1731\n",
      "u^surf_max = 88.9630\n",
      "eta_min    = 1.9181e-04\n",
      "eta_max    = 1.8824\n",
      "W          = 5.6178\n",
      "Phi        = 5.6181\n",
      "delta      = 0.0040%\n"
     ]
    }
   ],
   "source": [
    "print('<T>        = {0:.4f}'.format(tempAv))\n",
    "print('Nu_top     = {0:.4f}'.format(nuTop))\n",
    "print('Nu_bot     = {0:.4f}'.format(nuBot))\n",
    "print('u_rms      = {0:.4f}'.format(uRMS))\n",
    "print('u^surf_rms = {0:.4f}'.format(uSurfRMS))\n",
    "print('u^surf_max = {0:.4f}'.format(uSurfMax))\n",
    "print('eta_min    = {0:.4e}'.format(etaMin))\n",
    "print('eta_max    = {0:.4f}'.format(etaMax))\n",
    "print('W          = {0:.4f}'.format(workDone))\n",
    "print('Phi        = {0:.4f}'.format(phi))\n",
    "print('delta      = {0:.4f}%'.format(delta))"
   ]
  },
  {
   "cell_type": "markdown",
   "metadata": {},
   "source": [
    "**Comparison values from Tosi et al. (2015)**\n",
    "\n",
    "The expected benchmark values from Table 2 of Tosi et al. (2015) for case 4 are given in the table below. The minimum and maximum values from each of the participating codes are given here to provide an expected range for each quantity.\n",
    "\n",
    "| Case 4  | $<$$T$$>$ | $Nu_{top}$ | $Nu_{bot}$ | $u_{RMS}$ | $u_{RMS}^{surf}$ | $u_{max}^{surf}$ | $\\eta_{min}$ | $\\eta_{max}$ | $<$$W$$>$ |  $<$$\\Phi$$>$/Ra | $\\delta$ |\n",
    "|:--------|:---------:|:----------:|:----------:|:---------:|:----------------:|:----------------:|:------------:|:------------:|:------------:|:------------------:|:--------:|\n",
    "| Min     | 0.5273 | 6.5572 | 6.5243 | 78.6652 | 74.1719 | 88.8130 | 1.9467$\\times 10^{-4}$ | 1.1800 | 5.5903 | 5.5434 | $<$0.01% |\n",
    "| Max     | 0.5289 | 6.6822 | 6.6690 | 79.6202 | 75.4814 | 88.9848 | 1.9900$\\times 10^{-4}$ | 1.9834 | 5.6512 | 5.6463 | 0.84% |\n",
    "\n",
    "Note that the values from the spectral code MC3D are not used to construct the min/max values here, as they are outlier values."
   ]
  }
 ],
 "metadata": {
  "kernelspec": {
   "display_name": "Python 2",
   "language": "python",
   "name": "python2"
  },
  "language_info": {
   "codemirror_mode": {
    "name": "ipython",
    "version": 2
   },
   "file_extension": ".py",
   "mimetype": "text/x-python",
   "name": "python",
   "nbconvert_exporter": "python",
   "pygments_lexer": "ipython2",
   "version": "2.7.10"
  }
 },
 "nbformat": 4,
 "nbformat_minor": 0
}
