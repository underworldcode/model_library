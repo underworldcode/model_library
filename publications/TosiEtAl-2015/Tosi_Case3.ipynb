{
 "cells": [
  {
   "cell_type": "markdown",
   "metadata": {
    "collapsed": true
   },
   "source": [
    "Viscoplastic thermal convection in a 2-D square box: Tosi et al. 2015\n",
    "=====\n",
    "\n",
    "This series of notebooks generates benchmark models from the Tosi et al. (2015) in Underworld2. The Underworld2 results are then directly compared to the results from Table 2 of Tosi et al. (2015) the paper for each case. The notebooks are broken into a general notebook for reproducing the models from scratch and 5 post-analysis notebooks which look at the results Underworld2 gives for each case after running to equilibrium. \n",
    "\n",
    "Case 3: Stagnant lid (larger viscosity constrast)\n",
    "-------\n",
    "\n",
    "TThis case has a temperature-dependent linear rheology, like case 1, but with a larger value for the depth-dependent viscosity contrast ($\\Delta \\eta_y$). \n",
    "The parameters used for case 3 are: $Ra = 10^2$, $\\Delta \\eta_T = 10^5$ and $\\Delta \\eta_z = 10$.\n",
    "\n",
    "\n",
    "References\n",
    "-----\n",
    "\n",
    "1. Tosi, Nicola and Stein, Claudia and Noack, Lena and H&uuml;ttig, Christian and Maierov&aacute;, Petra and Samuel, Henri and Davies, DR and Wilson, CR and Kramer, SC and Thieulot, Cedric and others. 2015. _A community benchmark for viscoplastic thermal convection in a 2-D square box_.\n",
    "\n"
   ]
  },
  {
   "cell_type": "markdown",
   "metadata": {},
   "source": [
    "Load python functions needed for underworld. Some additional python functions from os, math and numpy used later on."
   ]
  },
  {
   "cell_type": "code",
   "execution_count": 1,
   "metadata": {
    "collapsed": false
   },
   "outputs": [],
   "source": [
    "%matplotlib inline\n",
    "import underworld as uw\n",
    "import math\n",
    "from underworld import function as fn\n",
    "import glucifer\n",
    "import matplotlib.pyplot as pyplot\n",
    "import matplotlib.pylab as pylab\n",
    "import time\n",
    "import numpy as np\n",
    "import os"
   ]
  },
  {
   "cell_type": "markdown",
   "metadata": {},
   "source": [
    "Set physical constants and parameters, including the Rayleigh number (*Ra*) and viscosity constants ($\\eta^*$ and $\\eta_T$) which are common to all Tosi et al cases."
   ]
  },
  {
   "cell_type": "code",
   "execution_count": 2,
   "metadata": {
    "collapsed": false
   },
   "outputs": [],
   "source": [
    "RA  = 1e2        # Rayleigh number\n",
    "ETA_T = 1e5      # common viscosity constant\n",
    "TS  = 0          # surface temperature\n",
    "TB  = 1          # bottom boundary temperature (melting point)\n",
    "ETA0 = 1e-3      # viscosity constant eta^* in Tosi et al\n",
    "TMAX = 3.0\n",
    "IMAX = 1000"
   ]
  },
  {
   "cell_type": "markdown",
   "metadata": {},
   "source": [
    "Select case 3 of Tosi et al (2015) and set constants as required."
   ]
  },
  {
   "cell_type": "code",
   "execution_count": 3,
   "metadata": {
    "collapsed": false
   },
   "outputs": [],
   "source": [
    "CASE = 3\n",
    "ETA_Y = 10.\n",
    "YSTRESS = 0."
   ]
  },
  {
   "cell_type": "markdown",
   "metadata": {},
   "source": [
    "Set input and output file directories"
   ]
  },
  {
   "cell_type": "code",
   "execution_count": 4,
   "metadata": {
    "collapsed": false
   },
   "outputs": [],
   "source": [
    "# input file directory\n",
    "inputPath  = 'TosiInput/case' + str(CASE) + \"/\"\n",
    "# output files\n",
    "outputPath = 'TosiOutput/'\n",
    "filePath   = outputPath+'files'\n",
    "# make directories if they don't exist\n",
    "if not os.path.isdir(outputPath):\n",
    "    os.makedirs(outputPath)\n",
    "if not os.path.isdir(filePath):\n",
    "    os.makedirs(filePath)"
   ]
  },
  {
   "cell_type": "markdown",
   "metadata": {},
   "source": [
    "Create mesh and finite element variables\n",
    "------\n",
    "\n",
    "Set up mesh and field variables that are solved on the mesh."
   ]
  },
  {
   "cell_type": "code",
   "execution_count": 5,
   "metadata": {
    "collapsed": false
   },
   "outputs": [],
   "source": [
    "res = 128\n",
    "mesh = uw.mesh.FeMesh_Cartesian( elementType = (\"Q1/dQ0\"), \n",
    "                                 elementRes  = (res, res), \n",
    "                                 minCoord    = (0., 0.), \n",
    "                                 maxCoord    = (1., 1.))\n",
    "\n",
    "velocityField       = uw.mesh.MeshVariable( mesh=mesh,         nodeDofCount=2 )\n",
    "pressureField       = uw.mesh.MeshVariable( mesh=mesh.subMesh, nodeDofCount=1 )\n",
    "temperatureField    = uw.mesh.MeshVariable( mesh=mesh,         nodeDofCount=1 )\n",
    "temperatureDotField = uw.mesh.MeshVariable( mesh=mesh,         nodeDofCount=1 )"
   ]
  },
  {
   "cell_type": "markdown",
   "metadata": {},
   "source": [
    "Set initial conditions and boundary conditions\n",
    "----------\n",
    "\n",
    "Load all variable fields and summary data with data from previously run cases."
   ]
  },
  {
   "cell_type": "code",
   "execution_count": 6,
   "metadata": {
    "collapsed": false
   },
   "outputs": [],
   "source": [
    "# load fields\n",
    "temperatureField.load(    inputPath+'temperatureField.h5' )\n",
    "temperatureDotField.load( inputPath+'temperatureDotField.h5' )\n",
    "pressureField.load(       inputPath+'pressureField.h5')\n",
    "velocityField.load(       inputPath+'velocityField.h5')\n",
    "\n",
    "# load past iterations of summary data\n",
    "data = np.loadtxt( inputPath+'Summary.txt', unpack=True )\n",
    "stepsVal = data[0].tolist()\n",
    "timeVal = data[1].tolist()\n",
    "viscdisVal = data[2].tolist()\n",
    "nu0Val = data[3].tolist()\n",
    "nu1Val = data[4].tolist()\n",
    "Avg_tempVal = data[5].tolist()\n",
    "vrmsVal = data[6].tolist()\n",
    "Rms_surfVal = data[7].tolist()\n",
    "Max_vx_surfVal = data[8].tolist()\n",
    "GravworkVal = data[9].tolist()\n",
    "etamaxVal = data[10].tolist()\n",
    "etaminVal = data[11].tolist() "
   ]
  },
  {
   "cell_type": "markdown",
   "metadata": {},
   "source": [
    "**Conditions on the boundaries**"
   ]
  },
  {
   "cell_type": "code",
   "execution_count": 7,
   "metadata": {
    "collapsed": true
   },
   "outputs": [],
   "source": [
    "iWalls = mesh.specialSets[\"MinI_VertexSet\"] + mesh.specialSets[\"MaxI_VertexSet\"]\n",
    "jWalls = mesh.specialSets[\"MinJ_VertexSet\"] + mesh.specialSets[\"MaxJ_VertexSet\"]\n",
    "freeslipBC = uw.conditions.DirichletCondition( variable      = velocityField, \n",
    "                                               indexSetsPerDof = (iWalls, jWalls) )\n",
    "tempBC     = uw.conditions.DirichletCondition( variable      = temperatureField, \n",
    "                                               indexSetsPerDof = (jWalls,) )"
   ]
  },
  {
   "cell_type": "markdown",
   "metadata": {
    "collapsed": false
   },
   "source": [
    "Set up material parameters and functions\n",
    "-----\n"
   ]
  },
  {
   "cell_type": "markdown",
   "metadata": {},
   "source": [
    "**Viscosity field**\n",
    "\n",
    "The viscosity is a function of temperature ($T$), the vertical coordinate ($z$) and the strain rate ($\\dot{\\epsilon}$) and is given by\n",
    "\n",
    "$$\n",
    "    \\eta(T, z, \\dot{\\epsilon}) = 2 \\left( \\frac{1}{\\eta_{lin}(T,z)} + \\frac{1}{\\eta_{plast}(\\dot{\\epsilon})} \\right)^{-1}\n",
    "$$\n",
    "\n",
    "where the linear part is\n",
    "\n",
    "$$\n",
    "    \\eta_{lin}(T, z) = \\exp(-\\gamma_T T + \\gamma_z z)\n",
    "$$\n",
    "\n",
    "with $\\gamma_T = \\ln(\\Delta \\eta_T)$ and $\\gamma_z = \\ln(\\Delta \\eta_z)$. The nonlinear part is\n",
    "\n",
    "$$\n",
    "    \\eta_{plast}(\\dot{\\epsilon}) = \\eta^* + \\frac{\\sigma_{\\gamma}}{\\sqrt{\\dot{\\epsilon} : \\dot{\\epsilon}}}\n",
    "$$\n",
    "\n",
    "where $\\eta^*$ is the effective viscosity at high stresses and $\\sigma_{\\gamma}$ is the yield stress. The values of $\\Delta \\eta_T$, $\\Delta \\eta_z$, $\\eta^*$ and $\\sigma_{\\gamma}$ are assumed to be constant with values dependent on the particular case."
   ]
  },
  {
   "cell_type": "markdown",
   "metadata": {},
   "source": [
    "**Create variables required for plasticity calculations**"
   ]
  },
  {
   "cell_type": "code",
   "execution_count": 8,
   "metadata": {
    "collapsed": false
   },
   "outputs": [],
   "source": [
    "secinv = fn.tensor.second_invariant( fn.tensor.symmetric( velocityField.fn_gradient ) )\n",
    "coordinate = fn.coord()"
   ]
  },
  {
   "cell_type": "markdown",
   "metadata": {},
   "source": [
    "**Setup viscosity functions**\n",
    "\n",
    "Remember to use floats everywhere when setting up functions"
   ]
  },
  {
   "cell_type": "code",
   "execution_count": 9,
   "metadata": {
    "collapsed": false
   },
   "outputs": [],
   "source": [
    "viscosityl1 = fn.math.exp(math.log(ETA_T)*-1.*temperatureField)\n",
    "viscosityl2 = fn.math.exp((math.log(ETA_T)*-1.*temperatureField) + (1.-coordinate[1])*math.log(ETA_Y))\n",
    "\n",
    "#Von Mises effective viscosity\n",
    "viscosityp = ETA0 + YSTRESS/(secinv/math.sqrt(0.5)) #extra factor to account for underworld second invariant form\n",
    "\n",
    "if CASE == 1:\n",
    "    fn_viscosity = viscosityl1\n",
    "elif CASE == 2:\n",
    "    fn_viscosity = 2./(1./viscosityl1 + 1./viscosityp)\n",
    "elif CASE == 3:\n",
    "    fn_viscosity = viscosityl2\n",
    "else:\n",
    "    fn_viscosity = 2./(1./viscosityl2 + 1./viscosityp)"
   ]
  },
  {
   "cell_type": "markdown",
   "metadata": {},
   "source": [
    "**Add functions for density and buoyancy**"
   ]
  },
  {
   "cell_type": "code",
   "execution_count": 10,
   "metadata": {
    "collapsed": true
   },
   "outputs": [],
   "source": [
    "densityFn = RA*temperatureField\n",
    "\n",
    "# define our vertical unit vector using a python tuple (this will be automatically converted to a function)\n",
    "z_hat = ( 0.0, 1.0 )\n",
    "\n",
    "# now create a buoyancy force vector using the density (FEvariable) and the vertical unit vector. \n",
    "buoyancyFn = densityFn * z_hat"
   ]
  },
  {
   "cell_type": "markdown",
   "metadata": {},
   "source": [
    "Build the Stokes system and solvers\n",
    "------\n",
    "\n",
    "Setup the Stokes system with linear or nonlinear visocity viscosity depending on case."
   ]
  },
  {
   "cell_type": "code",
   "execution_count": 11,
   "metadata": {
    "collapsed": false
   },
   "outputs": [],
   "source": [
    "stokes = uw.systems.Stokes(velocityField=velocityField, \n",
    "                              pressureField=pressureField,\n",
    "                              conditions=[freeslipBC,],\n",
    "                              fn_viscosity=fn.exception.SafeMaths(fn_viscosity), \n",
    "                              fn_bodyforce=buoyancyFn)"
   ]
  },
  {
   "cell_type": "markdown",
   "metadata": {},
   "source": [
    "Setup solver for the Stokes system of equations"
   ]
  },
  {
   "cell_type": "code",
   "execution_count": 12,
   "metadata": {
    "collapsed": false
   },
   "outputs": [],
   "source": [
    "solver = uw.systems.Solver( stokes )"
   ]
  },
  {
   "cell_type": "markdown",
   "metadata": {},
   "source": [
    "We do one solve for initial pressure and velocity with linear viscosity to get the initial strain rate invariant. This solve step also calculates a 'guess' of the the velocity field based on the linear system, which is used later in the non-linear solver."
   ]
  },
  {
   "cell_type": "code",
   "execution_count": 13,
   "metadata": {
    "collapsed": false
   },
   "outputs": [],
   "source": [
    "solver.solve( nonLinearIterate=False )"
   ]
  },
  {
   "cell_type": "markdown",
   "metadata": {},
   "source": [
    "Create an advective-diffusive system\n",
    "-----\n",
    "\n",
    "Setup the system in underworld by flagging the temperature and velocity field variables."
   ]
  },
  {
   "cell_type": "code",
   "execution_count": 14,
   "metadata": {
    "collapsed": false
   },
   "outputs": [],
   "source": [
    "advDiff = uw.systems.AdvectionDiffusion( temperatureField, temperatureDotField, velocityField,\n",
    "                                         fn_diffusivity=1., conditions=[tempBC,] )"
   ]
  },
  {
   "cell_type": "markdown",
   "metadata": {},
   "source": [
    "Metrics for benchmark\n",
    "-----\n",
    "\n",
    "Define diagnostic functions to be used in the time loop and/or measured after reaching steady state:\n",
    "\n",
    "* Average temperature\n",
    "$$  \\langle T \\rangle  = \\int^1_0 \\int^1_0 T \\, dxdy $$\n",
    "* Top and bottom Nusselt numbers\n",
    "$$Nu_{top/bot} = - \\left. \\int^1_0 \\frac{\\partial T}{\\partial y} \\right|_{y=1/y=0} \\, dx$$\n",
    "* RMS velocity over the whole domain, surface and max velocity at surface\n",
    "$$u_{RMS} = \\left( \\int_0^1 \\int_0^1 \\left( u_x^2 + u_y^2 \\right) dx dy \\right)^{1/2}$$\n",
    "$$u_{RMS}^{surf} = \\left( \\left. \\int_0^1 u_x^2\\right|_{y=1} dx \\right)^{1/2}$$\n",
    "$$u_{max}^{surf} = \\left. \\max(u_x)\\right|_{y=1}$$\n",
    "* max and min viscosity over the whole domain\n",
    "$$\\eta_{max/min} = \\max / \\min \\left( \\eta\\left(x,y\\right) \\right)$$\n",
    "* average rate of work done against gravity\n",
    "$$\\langle W \\rangle = \\int^1_0 \\int^1_0 T u_y \\, dx dy$$\n",
    "* and the average rate of viscous dissipation\n",
    "$$\\langle \\Phi \\rangle = \\int^1_0 \\int^1_0 \\tau_{ij} \\dot \\epsilon_{ij} \\, dx dy$$\n",
    "\n",
    "* In steady state, if thermal energy is accurately conserved, the difference between $\\langle W \\rangle$ and $\\langle \\Phi \\rangle / Ra$ must vanish, so also reported is the percentage error: \n",
    "\n",
    "$$ \\delta = \\frac{\\lvert \\langle W \\rangle - \\frac{\\langle \\Phi \\rangle}{Ra} \\rvert}{max \\left(  \\langle W \\rangle,  \\frac{\\langle \\Phi \\rangle}{Ra}\\right)} \\times 100% $$"
   ]
  },
  {
   "cell_type": "markdown",
   "metadata": {},
   "source": [
    "**Setup volume integrals used in metric functions**"
   ]
  },
  {
   "cell_type": "code",
   "execution_count": 15,
   "metadata": {
    "collapsed": false
   },
   "outputs": [],
   "source": [
    "# temperature\n",
    "tempint = uw.utils.Integral( temperatureField, mesh )\n",
    "# area\n",
    "areaint = uw.utils.Integral( 1.,               mesh )\n",
    "# velocity squared\n",
    "v2int   = uw.utils.Integral(fn.math.dot(velocityField,velocityField), mesh)\n",
    "# work done\n",
    "dwint   = uw.utils.Integral(temperatureField*velocityField[1], mesh)\n",
    "# viscous dissipation\n",
    "sinner = fn.math.dot(secinv,secinv)\n",
    "vdint = uw.utils.Integral((4.*fn_viscosity*sinner), mesh)"
   ]
  },
  {
   "cell_type": "markdown",
   "metadata": {},
   "source": [
    "**Setup surface integrals used in metric functions**"
   ]
  },
  {
   "cell_type": "code",
   "execution_count": 16,
   "metadata": {
    "collapsed": false
   },
   "outputs": [],
   "source": [
    "rmsSurfInt = uw.utils.Integral( fn=velocityField[0]*velocityField[0], mesh=mesh, integrationType='Surface', \n",
    "                          surfaceIndexSet=mesh.specialSets[\"MaxJ_VertexSet\"])\n",
    "nuTop      = uw.utils.Integral( fn=temperatureField.fn_gradient[1], mesh=mesh, integrationType='Surface', \n",
    "                          surfaceIndexSet=mesh.specialSets[\"MaxJ_VertexSet\"])\n",
    "nuBottom   = uw.utils.Integral( fn=temperatureField.fn_gradient[1], mesh=mesh, integrationType='Surface', \n",
    "                          surfaceIndexSet=mesh.specialSets[\"MinJ_VertexSet\"])"
   ]
  },
  {
   "cell_type": "markdown",
   "metadata": {},
   "source": [
    "**Define diagnostic functions using integrals**"
   ]
  },
  {
   "cell_type": "code",
   "execution_count": 17,
   "metadata": {
    "collapsed": false
   },
   "outputs": [],
   "source": [
    "def avg_temp():\n",
    "    return tempint.evaluate()[0]/areaint.evaluate()[0]\n",
    "\n",
    "def nusseltTB(temp_field, mesh):\n",
    "    return -nuTop.evaluate()[0], -nuBottom.evaluate()[0]\n",
    "\n",
    "def rms():\n",
    "    return math.sqrt(v2int.evaluate()[0]/areaint.evaluate()[0])\n",
    "\n",
    "def rms_surf():\n",
    "    return math.sqrt(rmsSurfInt.evaluate()[0])\n",
    "\n",
    "def max_vx_surf(velfield, mesh):\n",
    "    vuvelxfn = fn.view.min_max(velfield[0])\n",
    "    vuvelxfn.evaluate(mesh.specialSets[\"MaxJ_VertexSet\"])\n",
    "    return vuvelxfn.max_global()\n",
    "\n",
    "def gravwork(workfn):\n",
    "    return workfn.evaluate()[0]\n",
    "\n",
    "def viscdis(vdissfn):\n",
    "    return vdissfn.evaluate()[0]\n",
    "\n",
    "def visc_extr(viscfn):\n",
    "    vuviscfn = fn.view.min_max(viscfn)\n",
    "    vuviscfn.evaluate(mesh)\n",
    "    return vuviscfn.max_global(), vuviscfn.min_global()"
   ]
  },
  {
   "cell_type": "code",
   "execution_count": 18,
   "metadata": {
    "collapsed": false
   },
   "outputs": [],
   "source": [
    "#Fields for saving data / fields\n",
    "rmsField = uw.mesh.MeshVariable( mesh=mesh, nodeDofCount=1 )\n",
    "rmsfn    = fn.math.sqrt( fn.math.dot( velocityField, velocityField ) )\n",
    "rmsdata  = rmsfn.evaluate( mesh )\n",
    "rmsField.data[:] = rmsdata \n",
    "\n",
    "viscField = uw.mesh.MeshVariable( mesh=mesh, nodeDofCount=1 )\n",
    "viscdata  = fn_viscosity.evaluate( mesh )\n",
    "viscField.data[:] = viscdata\n",
    "\n",
    "stressField = uw.mesh.MeshVariable( mesh=mesh, nodeDofCount=1)\n",
    "srtdata     = fn.tensor.second_invariant( fn.tensor.symmetric( velocityField.fn_gradient ) )\n",
    "rostfield   = srtdata.evaluate( mesh )\n",
    "stressinv   = 2*viscdata*rostfield[:]\n",
    "stressField.data[:] = stressinv"
   ]
  },
  {
   "cell_type": "markdown",
   "metadata": {},
   "source": [
    "Main simulation loop\n",
    "------\n",
    "\n",
    "Normally a loop over time increments would be added here. As we are only interested in the post-analysis a single time step will be taken to ensure that all analysis fields are live. This step will involve the non-linear Stokes system solver."
   ]
  },
  {
   "cell_type": "code",
   "execution_count": 19,
   "metadata": {
    "collapsed": false
   },
   "outputs": [],
   "source": [
    "steps_todo = 1"
   ]
  },
  {
   "cell_type": "markdown",
   "metadata": {
    "collapsed": false
   },
   "source": [
    "Initialise steps and time. Set to zero unless loading values from file."
   ]
  },
  {
   "cell_type": "code",
   "execution_count": 20,
   "metadata": {
    "collapsed": false
   },
   "outputs": [
    {
     "name": "stdout",
     "output_type": "stream",
     "text": [
      "This model has previously completed  57800 steps to get to time = 0.502\n"
     ]
    }
   ],
   "source": [
    "try:\n",
    "    realtime = timeVal[-1]\n",
    "    step = int(stepsVal[-1])\n",
    "except:\n",
    "    realtime = 0.0\n",
    "    step = 0\n",
    "steps_end = step + steps_todo\n",
    "steps_output = 100\n",
    "steps_output = max(steps_output,1)\n",
    "print('This model has previously completed {0:6d} steps to get to time = {1:.3f}'.format(step,realtime))"
   ]
  },
  {
   "cell_type": "code",
   "execution_count": 21,
   "metadata": {
    "collapsed": false
   },
   "outputs": [],
   "source": [
    "# initialise timer for computation\n",
    "start = time.clock()\n",
    "# start loop\n",
    "while step < steps_end:\n",
    "    # Solve non-linear system\n",
    "    solver.solve(nonLinearIterate=True)\n",
    "    dt = advDiff.get_max_dt()\n",
    "    if step == 0:\n",
    "        dt = 0.\n",
    "    # Advect using this timestep size   \n",
    "    advDiff.integrate(dt)\n",
    "    # Increment\n",
    "    realtime += dt\n",
    "    step += 1\n",
    "    # Calculate the Metrics, only on 1 of the processors:\n",
    "    Avg_temp = avg_temp()\n",
    "    Rms = rms()\n",
    "    Rms_surf = rms_surf()\n",
    "    Max_vx_surf = max_vx_surf(velocityField, mesh)\n",
    "    Gravwork = gravwork(dwint)\n",
    "    Viscdis = viscdis(vdint)\n",
    "    nu1, nu0 = nusseltTB(temperatureField, mesh) # return top then bottom\n",
    "    etamax, etamin = visc_extr(fn_viscosity)\n",
    "    # store results\n",
    "    stepsVal.append(       step)\n",
    "    timeVal.append(        realtime )\n",
    "    viscdisVal.append(     Viscdis )\n",
    "    nu0Val.append(         nu0 )\n",
    "    nu1Val.append(         nu1 )\n",
    "    Avg_tempVal.append(    Avg_temp )\n",
    "    vrmsVal.append(        Rms )\n",
    "    Rms_surfVal.append(    Rms_surf )\n",
    "    Max_vx_surfVal.append( Max_vx_surf )\n",
    "    GravworkVal.append(    Gravwork )\n",
    "    etamaxVal.append(      etamax )\n",
    "    etaminVal.append(      etamin )\n",
    "\n",
    "    # output fields and summary info to file (output graphics can also be added here)\n",
    "    if uw.rank()==0:\n",
    "        if (step % steps_output == 0) or (step == steps_end-1):\n",
    "            print 'step =',step, '; CPU time =', time.clock()-start, '; vrms = ',Rms\n",
    "            # Temperature\n",
    "            fnametemp = \"temperatureField_\" + str(step).zfill(6) + \".h5\"\n",
    "            fullpath = os.path.join(outputPath + \"files/\" + fnametemp)\n",
    "            temperatureField.save(fullpath)\n",
    "            # Temperature time derivative\n",
    "            fnametemp = \"temperatureDotField_\" + str(step).zfill(6) + \".h5\"\n",
    "            fullpath = os.path.join(outputPath + \"files/\" + fnametemp)\n",
    "            temperatureDotField.save(fullpath)\n",
    "            # Pressure\n",
    "            fnametemp = \"pressureField_\" + str(step).zfill(6) + \".h5\"\n",
    "            fullpath = os.path.join(outputPath + \"files/\" + fnametemp)\n",
    "            pressureField.save(fullpath)\n",
    "            # Velocity\n",
    "            fnametemp = \"velocityField_\" + str(step).zfill(6) + \".h5\"\n",
    "            fullpath = os.path.join(outputPath + \"files/\" + fnametemp)\n",
    "            velocityField.save(fullpath)\n",
    "\n",
    "            np.savetxt( outputPath + 'Summary.txt', np.c_[stepsVal, timeVal, viscdisVal, nu0Val, \n",
    "                                                          nu1Val, Avg_tempVal, vrmsVal, Rms_surfVal,\n",
    "                                                         Max_vx_surfVal, GravworkVal, etamaxVal, etaminVal], \n",
    "                   header=\"Steps, Time, visc, Nusselt bottom/top, av_T, vrms, surf_rms, surf_max, grav, etamax, etamin\" )"
   ]
  },
  {
   "cell_type": "markdown",
   "metadata": {},
   "source": [
    "Post-simulation analysis\n",
    "-------\n",
    "\n",
    "Here we will calculate the quantities specified for this case in Tosi et al. (2015) and finally compare them to the values given in their Table 2."
   ]
  },
  {
   "cell_type": "markdown",
   "metadata": {},
   "source": [
    "**Plot final temperature and velocity fields**"
   ]
  },
  {
   "cell_type": "code",
   "execution_count": 22,
   "metadata": {
    "collapsed": false
   },
   "outputs": [
    {
     "data": {
      "text/html": [
       "<img src='data:image/png;base64,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'>"
      ],
      "text/plain": [
       "<IPython.core.display.HTML object>"
      ]
     },
     "metadata": {},
     "output_type": "display_data"
    }
   ],
   "source": [
    "velmax = np.amax(velocityField.data[:])\n",
    "if(velmax==0.0): velmax = 1.0\n",
    "fig1 = glucifer.Figure()\n",
    "fig1.append( glucifer.objects.Surface(mesh, temperatureField) )\n",
    "fig1.append( glucifer.objects.VectorArrows(mesh, velocityField/velmax, scaling=0.1, arrowHead=0.2) )\n",
    "fig1.show()"
   ]
  },
  {
   "cell_type": "markdown",
   "metadata": {},
   "source": [
    "**Calculate quantities for benchmark comparison**"
   ]
  },
  {
   "cell_type": "code",
   "execution_count": 23,
   "metadata": {
    "collapsed": true
   },
   "outputs": [],
   "source": [
    "tempAv = Avg_tempVal[-1]\n",
    "nuTop = nu1Val[-1]\n",
    "nuBot = nu0Val[-1]\n",
    "uRMS = vrmsVal[-1]\n",
    "uSurfRMS = Rms_surfVal[-1]\n",
    "uSurfMax = Max_vx_surfVal[-1]\n",
    "etaMin = etaminVal[-1]\n",
    "etaMax = etamaxVal[-1]\n",
    "workDone = GravworkVal[-1]\n",
    "phi = viscdisVal[-1]/100.\n",
    "delta = abs(workDone - phi)/max(workDone, phi) * 100."
   ]
  },
  {
   "cell_type": "markdown",
   "metadata": {},
   "source": [
    "**Output all quantities for this case**"
   ]
  },
  {
   "cell_type": "code",
   "execution_count": 24,
   "metadata": {
    "collapsed": false
   },
   "outputs": [
    {
     "name": "stdout",
     "output_type": "stream",
     "text": [
      "<T>        = 0.7008\n",
      "Nu_top     = 2.8628\n",
      "Nu_bot     = 3.3643\n",
      "u_rms      = 91.5907\n",
      "u^surf_rms = 2.1801\n",
      "u^surf_max = 3.0522\n",
      "eta_min    = 5.7630e-05\n",
      "eta_max    = 1.0000\n",
      "W          = 2.1111\n",
      "Phi        = 2.1122\n",
      "delta      = 0.0503%\n"
     ]
    }
   ],
   "source": [
    "print('<T>        = {0:.4f}'.format(tempAv))\n",
    "print('Nu_top     = {0:.4f}'.format(nuTop))\n",
    "print('Nu_bot     = {0:.4f}'.format(nuBot))\n",
    "print('u_rms      = {0:.4f}'.format(uRMS))\n",
    "print('u^surf_rms = {0:.4f}'.format(uSurfRMS))\n",
    "print('u^surf_max = {0:.4f}'.format(uSurfMax))\n",
    "print('eta_min    = {0:.4e}'.format(etaMin))\n",
    "print('eta_max    = {0:.4f}'.format(etaMax))\n",
    "print('W          = {0:.4f}'.format(workDone))\n",
    "print('Phi        = {0:.4f}'.format(phi))\n",
    "print('delta      = {0:.4f}%'.format(delta))"
   ]
  },
  {
   "cell_type": "markdown",
   "metadata": {},
   "source": [
    "**Comparison values from Tosi et al. (2015)**\n",
    "\n",
    "The expected benchmark values from Table 2 of Tosi et al. (2015) for case 3 are given in the table below. The minimum and maximum values from each of the participating codes are given here to provide an expected range for each quantity.\n",
    "\n",
    "| Case 3  | $<$$T$$>$ | $Nu_{top}$ | $Nu_{bot}$ | $u_{RMS}$ | $u_{RMS}^{surf}$ | $u_{max}^{surf}$ | $\\eta_{min}$ | $\\eta_{max}$ | $<$$W$$>$ |  $<$$\\Phi$$>$/Ra | $\\delta$ |\n",
    "|:--------|:---------:|:----------:|:----------:|:---------:|:----------------:|:----------------:|:------------:|:------------:|:------------:|:------------------:|:--------:|\n",
    "| Min     | 0.7241 | 3.0253 | 2.9628 | 99.8701  | 2.0374 | 2.8458 | 4.7907$\\times 10^{-5}$ | 0.9010 | 2.0028 | 2.0277 | $<$0.01% |\n",
    "| Max     | 0.7268 | 3.0918 | 3.0376 | 100.9467 | 2.0916 | 2.9207 | 4.8400$\\times 10^{-5}$ | 1.0000 | 2.0400 | 2.0370 | 1.23% |\n",
    "\n",
    "Note that the values from the spectral code MC3D are not used to construct the min/max values here, as they are outlier values."
   ]
  }
 ],
 "metadata": {
  "kernelspec": {
   "display_name": "Python 2",
   "language": "python",
   "name": "python2"
  },
  "language_info": {
   "codemirror_mode": {
    "name": "ipython",
    "version": 2
   },
   "file_extension": ".py",
   "mimetype": "text/x-python",
   "name": "python",
   "nbconvert_exporter": "python",
   "pygments_lexer": "ipython2",
   "version": "2.7.10"
  }
 },
 "nbformat": 4,
 "nbformat_minor": 0
}
