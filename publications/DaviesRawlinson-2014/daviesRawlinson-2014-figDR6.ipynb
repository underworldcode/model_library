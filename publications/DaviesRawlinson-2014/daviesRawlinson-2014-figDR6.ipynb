{
 "cells": [
  {
   "cell_type": "markdown",
   "metadata": {},
   "source": [
    "An Benchark example from Davies and Rawlinson, Geology 2014.\n",
    "======\n",
    "This notebook reproduces the 2D instantaneous flow model with a composite Newtonian and non-Newtonian rheology shown in Figure DR6 of [Davies and Rawlinson (2014)](http://geology.gsapubs.org/content/early/2014/10/17/G36093.1.abstract).  Rheological parameters are consistent with [Karato and Wu (1993)](http://science.sciencemag.org/content/260/5109/771), with prefactors chosen to produce a minimum diffusion creep viscosity of 5 x 10^19 Pa.s within the asthenosphere and dislocation creep dominating within the edge driven convection cell.  \n",
    "\n",
    "**References**\n",
    "\n",
    "1. D. Rhodri Davies and Nicholas Rawlinson, On the origin of recent intraplate volcanism in Australia. Geology, December 2014, v. 42, p. 1031-1034, doi:10.1130/G36093.1 \n",
    "2. Karato, Shun-ichiro, and Patrick Wu. Rheology of the Upper Mantle: A Synthesis. Science 260, no. 5109 (1993): 771-78. http://www.jstor.org/stable/2881160."
   ]
  },
  {
   "cell_type": "code",
   "execution_count": 1,
   "metadata": {
    "collapsed": false
   },
   "outputs": [],
   "source": [
    "import numpy as np\n",
    "import underworld as uw\n",
    "import math\n",
    "from underworld import function as fn\n",
    "import glucifer"
   ]
  },
  {
   "cell_type": "markdown",
   "metadata": {},
   "source": [
    "Set simulation parameters."
   ]
  },
  {
   "cell_type": "code",
   "execution_count": 2,
   "metadata": {
    "collapsed": true
   },
   "outputs": [],
   "source": [
    "# physical parameters\n",
    "g        = 9.8      # [m/(s.s)],   gravity \n",
    "alpha    = 3*1e-5   # [K^-1],      thermal expansivity coefficient\n",
    "kappa    = 1e-6     # [m.m/s],     thermal diffusivity\n",
    "rho0     = 3300.    # [kg/m^3],    reference density\n",
    "Temp_Min = 300.0    # [K],         surface temperature, 26.85C, 0C = 273.15K\n",
    "Temp_Max = 1573.0   # [K],         mantle temperature\n",
    "R        = 8.3145   # [J/(K.mol)], gas constant\n",
    "\n",
    "deltaTemp = Temp_Max - Temp_Min"
   ]
  },
  {
   "cell_type": "code",
   "execution_count": 3,
   "metadata": {
    "collapsed": false
   },
   "outputs": [],
   "source": [
    "ageC = 100.*1e6*(60.*60.*24*365) # in seconds, 100 Myr, thermal aqge of cratonic lithosphere, left hand side\n",
    "ageP =  20.*1e6*(60.*60.*24*365) # in seconds,  20 Myr, Palaeozoic lithosphere, right hand side; \n",
    "transLength = 200.*1e3           # transition length, 200 km\n",
    "\n",
    "#length in [km]\n",
    "boxLength = 2.1 #2100e3  # x 1e3 m = 2,100 km\n",
    "boxHeight = 0.7 #700e3   # x 1e3 m =   700 km\n",
    "minCoord = [-boxLength/2., -boxHeight]  # centre box at zero\n",
    "maxCoord = [ boxLength/2., 0]\n",
    "aspectRatio = boxLength/boxHeight\n",
    "\n",
    "unitRes     = 128  \n",
    "resolution  = [int(unitRes*aspectRatio),unitRes]"
   ]
  },
  {
   "cell_type": "code",
   "execution_count": 4,
   "metadata": {
    "collapsed": false
   },
   "outputs": [],
   "source": [
    "# scale vectors for 1 cm/yr\n",
    "# v = (kappa / depth) * v' [m/s]\n",
    "# [cm/yr] = (1e2cm/m).(60*60*24*365s/yr)[m/s]\n",
    "velScalingFactor = (kappa/(boxHeight*1e6))*(1e2*(60*60*24*365))"
   ]
  },
  {
   "cell_type": "markdown",
   "metadata": {},
   "source": [
    "Create mesh and finite element variables\n",
    "------"
   ]
  },
  {
   "cell_type": "code",
   "execution_count": 5,
   "metadata": {
    "collapsed": false
   },
   "outputs": [],
   "source": [
    "mesh = uw.mesh.FeMesh_Cartesian( elementType = (\"Q1/dQ0\"), \n",
    "                                 elementRes  = resolution, \n",
    "                                 minCoord    = minCoord, \n",
    "                                 maxCoord    = maxCoord,\n",
    "                               ) \n",
    "\n",
    "velocityField       = uw.mesh.MeshVariable( mesh=mesh,         nodeDofCount=2 )\n",
    "pressureField       = uw.mesh.MeshVariable( mesh=mesh.subMesh, nodeDofCount=1 )\n",
    "temperatureField    = uw.mesh.MeshVariable( mesh=mesh,         nodeDofCount=1 )\n",
    "temperatureDotField = uw.mesh.MeshVariable( mesh=mesh,         nodeDofCount=1 )"
   ]
  },
  {
   "cell_type": "code",
   "execution_count": 6,
   "metadata": {
    "collapsed": false
   },
   "outputs": [],
   "source": [
    "# initialise fields\n",
    "temperatureField.data[:]    = 0.\n",
    "temperatureDotField.data[:] = 0.\n",
    "velocityField.data[:]       = [0.,0.]\n",
    "pressureField.data[:]       = 0."
   ]
  },
  {
   "cell_type": "code",
   "execution_count": 7,
   "metadata": {
    "collapsed": true
   },
   "outputs": [],
   "source": [
    "#mesh.reset()"
   ]
  },
  {
   "cell_type": "code",
   "execution_count": 8,
   "metadata": {
    "collapsed": false
   },
   "outputs": [],
   "source": [
    "with mesh.deform_mesh():\n",
    "    mesh.data[:,0] = mesh.data[:,0] * np.exp(mesh.data[:,0]*mesh.data[:,0]) / np.exp(maxCoord[0]*maxCoord[0])\n",
    "    mesh.data[:,1] = mesh.data[:,1] * np.exp(mesh.data[:,1]*mesh.data[:,1]*2) / np.exp(boxHeight*boxHeight*2)\n"
   ]
  },
  {
   "cell_type": "code",
   "execution_count": 9,
   "metadata": {
    "collapsed": true
   },
   "outputs": [],
   "source": [
    "figsize=(900.,300.)"
   ]
  },
  {
   "cell_type": "code",
   "execution_count": 10,
   "metadata": {
    "collapsed": false
   },
   "outputs": [
    {
     "data": {
      "text/html": [
       "<img src='data:image/png;base64,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'>"
      ],
      "text/plain": [
       "<IPython.core.display.HTML object>"
      ]
     },
     "metadata": {},
     "output_type": "display_data"
    }
   ],
   "source": [
    "figMesh = glucifer.Figure( figsize=figsize )\n",
    "figMesh.append( glucifer.objects.Mesh(mesh)) \n",
    "figMesh.show()"
   ]
  },
  {
   "cell_type": "markdown",
   "metadata": {},
   "source": [
    "**Initialise & apply boundary conditions on the temperature Field**"
   ]
  },
  {
   "cell_type": "code",
   "execution_count": 11,
   "metadata": {
    "collapsed": false
   },
   "outputs": [],
   "source": [
    "# calculate half-space cooling model\n",
    "for index, coord in enumerate(mesh.data):\n",
    "    depth  = -1.0*coord[1]*1e6  # in [m]\n",
    "    xCoord = coord[0]*1e6\n",
    "    if xCoord < -transLength/2:\n",
    "        temp = deltaTemp*math.erf(depth/(2.*math.sqrt(kappa*ageC)))/deltaTemp\n",
    "    elif xCoord < transLength/2:\n",
    "        # average between craton the palaeozoic lithosphere\n",
    "        phi = (xCoord + transLength/2)/transLength  \n",
    "        age = (1.-phi) * ageC + phi * ageP\n",
    "        temp = deltaTemp*math.erf(depth/(2.*math.sqrt(kappa*age)))/deltaTemp\n",
    "    else:\n",
    "        temp = deltaTemp*math.erf(depth/(2.*math.sqrt(kappa*ageP)))/deltaTemp\n",
    "    temperatureField.data[index] = temp"
   ]
  },
  {
   "cell_type": "code",
   "execution_count": 12,
   "metadata": {
    "collapsed": false
   },
   "outputs": [],
   "source": [
    "iWalls  = mesh.specialSets[\"MinI_VertexSet\"] + mesh.specialSets[\"MaxI_VertexSet\"]\n",
    "jWalls  = mesh.specialSets[\"MinJ_VertexSet\"] + mesh.specialSets[\"MaxJ_VertexSet\"]\n",
    "topWall = mesh.specialSets[\"MaxJ_VertexSet\"]\n",
    "\n",
    "freeslipBC = uw.conditions.DirichletCondition( variable      = velocityField, \n",
    "                                               indexSetsPerDof = ( iWalls, jWalls) )\n",
    "tempBC     = uw.conditions.DirichletCondition( variable      = temperatureField, \n",
    "                                               indexSetsPerDof = ( jWalls, ) )"
   ]
  },
  {
   "cell_type": "markdown",
   "metadata": {},
   "source": [
    "**Plot initial temperature**"
   ]
  },
  {
   "cell_type": "code",
   "execution_count": 13,
   "metadata": {
    "collapsed": false,
    "scrolled": true
   },
   "outputs": [
    {
     "data": {
      "text/html": [
       "<img src='data:image/png;base64,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'>"
      ],
      "text/plain": [
       "<IPython.core.display.HTML object>"
      ]
     },
     "metadata": {},
     "output_type": "display_data"
    }
   ],
   "source": [
    "figtemp = glucifer.Figure(figsize=figsize)\n",
    "figtemp.append( glucifer.objects.Surface(mesh, temperatureField) )\n",
    "figtemp.append( glucifer.objects.Contours(mesh, temperatureField, interval=(100/deltaTemp), \n",
    "                                          limits=(0.,(1400-300)/deltaTemp), colours='Black', colourBar=False))\n",
    "figtemp.show()"
   ]
  },
  {
   "cell_type": "markdown",
   "metadata": {},
   "source": [
    "**Define the rheology**"
   ]
  },
  {
   "cell_type": "code",
   "execution_count": 14,
   "metadata": {
    "collapsed": true
   },
   "outputs": [],
   "source": [
    "# strain rate invariant\n",
    "strainRateFn              = fn.tensor.symmetric( velocityField.fn_gradient )\n",
    "strainRate_2ndInvariantFn = fn.tensor.second_invariant(strainRateFn)\n",
    "strainRate_2ndInvariantFn_scaled = strainRate_2ndInvariantFn * (kappa / ((boxHeight*1e6)**2))"
   ]
  },
  {
   "cell_type": "code",
   "execution_count": 15,
   "metadata": {
    "collapsed": false
   },
   "outputs": [],
   "source": [
    "# hydrostatice pressure \n",
    "yCoord = fn.input()[1]*1e6\n",
    "z_hat  = -1.0*(yCoord)\n",
    "P_stat = rho0 * g * z_hat"
   ]
  },
  {
   "cell_type": "code",
   "execution_count": 16,
   "metadata": {
    "collapsed": false
   },
   "outputs": [],
   "source": [
    "# adiabatic gradiet to temperature solution, 0.5 K/km\n",
    "Tm = (z_hat/1e3)*0.5+(temperatureField*deltaTemp)+Temp_Min"
   ]
  },
  {
   "cell_type": "code",
   "execution_count": 17,
   "metadata": {
    "collapsed": true
   },
   "outputs": [],
   "source": [
    "# limiters\n",
    "eta_max = 1e24 # Pa.s, maximum viscosity\n",
    "eta_min = 1e19 # Pa.s, minimum viscosity"
   ]
  },
  {
   "cell_type": "code",
   "execution_count": 18,
   "metadata": {
    "collapsed": false
   },
   "outputs": [],
   "source": [
    "# Diffusion creep\n",
    "E_diff = 300.*1e3     # J/mol, activation energy\n",
    "V_diff = 4.5/(1e2**3) # m^3/mol, activation volume\n",
    "A_diff = 4.0e-10      # Pa^-1.s^-1, prefactor\n",
    "n_diff = 1."
   ]
  },
  {
   "cell_type": "code",
   "execution_count": 19,
   "metadata": {
    "collapsed": false
   },
   "outputs": [],
   "source": [
    "diffusionCreep  = 0.5*fn.math.pow(A_diff,(-1./n_diff))\n",
    "diffusionCreep *= fn.math.exp((E_diff+P_stat*V_diff)/(n_diff*R*Tm))\n",
    "diffusionCreep *= fn.math.pow((strainRate_2ndInvariantFn_scaled+1.0e-24),(1-n_diff)/n_diff)"
   ]
  },
  {
   "cell_type": "code",
   "execution_count": 20,
   "metadata": {
    "collapsed": false
   },
   "outputs": [],
   "source": [
    "# Dislocation creep\n",
    "E_disl = 540.*1e3     # J/mol, activation energy\n",
    "V_disl = 10./(1e2**3) # m^3/mol, activation volume\n",
    "A_disl = 1.0e-15      # Pa^-n.s^-1, prefactor\n",
    "n_disl = 3.5"
   ]
  },
  {
   "cell_type": "code",
   "execution_count": 21,
   "metadata": {
    "collapsed": false
   },
   "outputs": [],
   "source": [
    "dislocationCreep  = 0.5*fn.math.pow(A_disl,(-1./n_disl))\n",
    "dislocationCreep *= fn.math.exp((E_disl+P_stat*V_disl)/(n_disl*R*Tm))\n",
    "dislocationCreep *= fn.math.pow((strainRate_2ndInvariantFn_scaled+1.0e-24),(1-n_disl)/n_disl)"
   ]
  },
  {
   "cell_type": "code",
   "execution_count": 22,
   "metadata": {
    "collapsed": false
   },
   "outputs": [],
   "source": [
    "creep_harmonic = fn.math.pow((1./diffusionCreep + 1./dislocationCreep)/2.,-1)"
   ]
  },
  {
   "cell_type": "code",
   "execution_count": 23,
   "metadata": {
    "collapsed": true
   },
   "outputs": [],
   "source": [
    "fn_viscosity = fn.misc.max(fn.misc.min(creep_harmonic, eta_max), eta_min )/eta_min"
   ]
  },
  {
   "cell_type": "code",
   "execution_count": 24,
   "metadata": {
    "collapsed": false
   },
   "outputs": [],
   "source": [
    "viscosity = glucifer.objects.Surface(mesh, fn_viscosity*eta_min, logScale=True, valueRange=[5e19, 5e20], )\n",
    "viscosity.colourBar[\"position\"] = 0.0\n",
    "viscosity.colourBar[\"size\"] = [0.8,0.01]\n",
    "viscosity.colourBar[\"tickvalues\"] = [5, 10, 50]\n",
    "viscosity.colourBar[\"align\"] = \"right\"\n",
    "\n",
    "figEta = glucifer.Figure(figsize=figsize, title='Viscosity field, Temperature contours')\n",
    "figEta.append( viscosity)\n",
    "figEta.append( glucifer.objects.Contours(mesh, temperatureField, interval=(100/deltaTemp), \n",
    "                                         limits=(0.,(1400-300)/deltaTemp), colours='Black', colourBar=False))\n",
    "figEta.append( glucifer.objects.Contours(mesh, temperatureField, interval=(100/deltaTemp), \n",
    "                                         limits=(0.,(1400-300)/deltaTemp), colours='Black', colourBar=False))"
   ]
  },
  {
   "cell_type": "code",
   "execution_count": 25,
   "metadata": {
    "collapsed": false
   },
   "outputs": [
    {
     "data": {
      "text/html": [
       "<img src='data:image/png;base64,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'>"
      ],
      "text/plain": [
       "<IPython.core.display.HTML object>"
      ]
     },
     "metadata": {},
     "output_type": "display_data"
    }
   ],
   "source": [
    "figEta.show()"
   ]
  },
  {
   "cell_type": "markdown",
   "metadata": {},
   "source": [
    "**Define density, gravity and buoyancy force**"
   ]
  },
  {
   "cell_type": "code",
   "execution_count": 26,
   "metadata": {
    "collapsed": false
   },
   "outputs": [],
   "source": [
    "eta0 = eta_min\n",
    "Ra   = (alpha*rho0*g*deltaTemp*((boxHeight*1e6)**3)) / (eta0*kappa)"
   ]
  },
  {
   "cell_type": "code",
   "execution_count": 27,
   "metadata": {
    "collapsed": false
   },
   "outputs": [],
   "source": [
    "densityFn = Ra*temperatureField\n",
    "gravity = ( 0.0, 1.0 )\n",
    "buoyancyFn = gravity*densityFn"
   ]
  },
  {
   "cell_type": "markdown",
   "metadata": {},
   "source": [
    "**Setup a Stokes system**"
   ]
  },
  {
   "cell_type": "code",
   "execution_count": 28,
   "metadata": {
    "collapsed": false
   },
   "outputs": [],
   "source": [
    "stokes = uw.systems.Stokes( velocityField = velocityField, \n",
    "                            pressureField = pressureField,\n",
    "                               conditions = [freeslipBC,],\n",
    "                             fn_viscosity = fn_viscosity, \n",
    "                             fn_bodyforce = buoyancyFn,\n",
    "                          )"
   ]
  },
  {
   "cell_type": "code",
   "execution_count": 29,
   "metadata": {
    "collapsed": true
   },
   "outputs": [],
   "source": [
    "solver = uw.systems.Solver(stokes)"
   ]
  },
  {
   "cell_type": "code",
   "execution_count": null,
   "metadata": {
    "collapsed": false
   },
   "outputs": [],
   "source": [
    "if uw.rank()==0:\n",
    "    solver.set_inner_method(\"lu\")"
   ]
  },
  {
   "cell_type": "markdown",
   "metadata": {},
   "source": [
    "**Set up and solve the Stokes system**"
   ]
  },
  {
   "cell_type": "code",
   "execution_count": null,
   "metadata": {
    "collapsed": false
   },
   "outputs": [],
   "source": [
    "solver.solve(nonLinearIterate=True)"
   ]
  },
  {
   "cell_type": "code",
   "execution_count": null,
   "metadata": {
    "collapsed": false
   },
   "outputs": [],
   "source": [
    "figStrainRateAndVel = glucifer.Figure(figsize=figsize)\n",
    "figStrainRateAndVel.append( glucifer.objects.Surface(mesh, strainRate_2ndInvariantFn_scaled) )\n",
    "figStrainRateAndVel.append( glucifer.objects.VectorArrows(mesh, velocityField*velScalingFactor ) )\n",
    "figStrainRateAndVel.append( glucifer.objects.Contours(mesh, temperatureField, interval=(100/deltaTemp), \n",
    "                                                      limits=(0.,(1400-300)/deltaTemp), colours='Black', colourBar=False))\n",
    "figStrainRateAndVel.show()"
   ]
  },
  {
   "cell_type": "code",
   "execution_count": null,
   "metadata": {
    "collapsed": false
   },
   "outputs": [],
   "source": [
    "figEta.append( glucifer.objects.VectorArrows(mesh, velocityField*velScalingFactor ) )\n",
    "figEta.show()"
   ]
  },
  {
   "cell_type": "markdown",
   "metadata": {},
   "source": [
    "**Visualise the deformation mechanism**"
   ]
  },
  {
   "cell_type": "code",
   "execution_count": null,
   "metadata": {
    "collapsed": true
   },
   "outputs": [],
   "source": [
    "# visualise the deformation mechanism\n",
    "eta_min_filter = (fn_viscosity*eta_min <= eta_min)\n",
    "eta_max_filter = (fn_viscosity*eta_min >= eta_max)\n",
    "eta_dif_filter = (diffusionCreep <= dislocationCreep) \n",
    "eta_dis_filter = (dislocationCreep < diffusionCreep)\n",
    "\n",
    "fn_defMech = fn.branching.conditional(  ( (eta_min_filter, 0),\n",
    "                                          (eta_max_filter, 1),\n",
    "                                          (eta_dif_filter, 2),\n",
    "                                          (         True , 3) ) )"
   ]
  },
  {
   "cell_type": "code",
   "execution_count": null,
   "metadata": {
    "collapsed": false
   },
   "outputs": [],
   "source": [
    "# red = max viscosity, blue = diffusion creep, grey = dislocation creep \n",
    "deformation = glucifer.objects.Surface(mesh, fn_defMech, onMesh=True, colours = 'Red Blue Grey', discrete=True)\n",
    "deformation.colourBar[\"position\"] = 0.0\n",
    "deformation.colourBar[\"size\"] = [0.8,0.01]\n",
    "deformation.colourBar[\"align\"] = \"right\"\n",
    "\n",
    "figMechField = glucifer.Figure(figsize=figsize, title='Deformation Mechanism')\n",
    "# contours of temperature at 100 degree intervals\n",
    "figMechField.append( glucifer.objects.Contours(mesh, temperatureField, interval=(100/deltaTemp), \n",
    "                                          limits=(0.,(1400-300)/deltaTemp), colours='Black', colourBar=False))\n",
    "# deformation mechanism field\n",
    "figMechField.append( deformation )"
   ]
  },
  {
   "cell_type": "code",
   "execution_count": null,
   "metadata": {
    "collapsed": false
   },
   "outputs": [],
   "source": [
    "figMechField.show()"
   ]
  }
 ],
 "metadata": {
  "kernelspec": {
   "display_name": "Python 2",
   "language": "python",
   "name": "python2"
  },
  "language_info": {
   "codemirror_mode": {
    "name": "ipython",
    "version": 2
   },
   "file_extension": ".py",
   "mimetype": "text/x-python",
   "name": "python",
   "nbconvert_exporter": "python",
   "pygments_lexer": "ipython2",
   "version": "2.7.11"
  }
 },
 "nbformat": 4,
 "nbformat_minor": 0
}
